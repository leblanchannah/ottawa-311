{
 "cells": [
  {
   "cell_type": "code",
   "execution_count": 55,
   "id": "694ba052-783e-41f8-be52-7d432e67cba3",
   "metadata": {},
   "outputs": [],
   "source": [
    "import pandas as pd\n",
    "import matplotlib.pyplot as plt\n",
    "import seaborn as sns\n",
    "import datetime\n",
    "import numpy as np\n",
    "\n",
    "sns.set_style(\"dark\")\n",
    "sns.set_context(\"notebook\", font_scale=1.5, rc={\"lines.linewidth\": 2.5})"
   ]
  },
  {
   "cell_type": "code",
   "execution_count": 22,
   "id": "be6f4f63-5652-4e8a-bad2-e92c8376094e",
   "metadata": {},
   "outputs": [
    {
     "name": "stderr",
     "output_type": "stream",
     "text": [
      "/var/folders/3_/49qq58ns2r11fnng7d9pbd0w0000gn/T/ipykernel_61861/3717138367.py:13: FutureWarning: Series.dt.weekofyear and Series.dt.week have been deprecated. Please use Series.dt.isocalendar().week instead.\n",
      "  df['week'] = df['date_raised'].dt.week\n"
     ]
    }
   ],
   "source": [
    "data_dir = 'data/raw_data/'\n",
    "\n",
    "df = pd.read_csv(data_dir+'2022_Monthly_Service_Requests.csv')\n",
    "df_2019 = pd.read_excel(data_dir+'SR-2019.xlsx')\n",
    "df_2020 = pd.read_excel(data_dir+'SR-2020.xlsx')\n",
    "df_2021 = pd.read_excel(data_dir+'2021_Monthly_Service_Requests_EN.xlsx')\n",
    "\n",
    "df = pd.concat([df, df_2021, df_2020, df_2019], axis=0)\n",
    "del df_2021, df_2020, df_2019\n",
    "\n",
    "df.columns = [x.lower() for x in df.columns]\n",
    "df['date_raised'] = pd.to_datetime(df['date_raised'])\n",
    "df['week'] = df['date_raised'].dt.week\n",
    "\n",
    "df = df.drop(['objectid'],axis=1)\n",
    "df = df.reset_index()\n",
    "df.to_csv('data/service_requests_2019_2020.csv', index=False)"
   ]
  },
  {
   "cell_type": "markdown",
   "id": "0ff13365-9a06-44aa-a962-d700aa19db74",
   "metadata": {},
   "source": [
    " - which issue reasons have steadily increased over the past few years?\n",
    " - if previous years are included - how can data drift be measured?\n",
    " - what do major events or disruptions look like in 311 tickets?\n",
    " - which ticket categories are cyclic or seasonal? how can event time series be classified?\n",
    " \n",
    " \n",
    " dataset drift\n",
    " \n",
    " - new categories added, categories removed\n",
    " - majority of reasons and subjects are rarely used \n",
    " - could an effective drift analysis be done with many rare categories?"
   ]
  },
  {
   "cell_type": "code",
   "execution_count": 23,
   "id": "913fd523-2673-40ee-b569-adbaf66dcabb",
   "metadata": {},
   "outputs": [
    {
     "name": "stdout",
     "output_type": "stream",
     "text": [
      "Roads and Transportation | Routes et Transports       415417\n",
      "Garbage and Recycling | Déchets et Recyclage          371880\n",
      "Bylaw Services | Service des Règlements Municipaux    227722\n",
      "Water and the Environment | Eau et Environnement      106880\n",
      "Recreation and Culture | Loisirs et Culture            29600\n",
      "City Hall | Hôtel de Ville                             14765\n",
      "Licenses and Permits | Licences et Permis               8353\n",
      "Miscellaneous                                           7220\n",
      "Social Community Service | Services Sociaux et Com      5784\n",
      "Corp Complaints                                         5262\n",
      "Health and Safety | Santé et Sécurité                   5156\n",
      "Knowledge Management                                     336\n",
      "Complaints                                                 1\n",
      "Name: subject, dtype: int64\n",
      "Solid Waste Collection | Collecte des Déchets    276446\n",
      "Roads Maintenance | Entretien des Routes         197835\n",
      "Parking Control | Gestion des Stationnements     131048\n",
      "Recycle Bins | Bacs de recyclage                  95434\n",
      "Property Standards                                56125\n",
      "                                                  ...  \n",
      "Cannabis                                             19\n",
      "Appeal a  Complaint Resolution                       19\n",
      "EAP | PAE                                             1\n",
      "Junk Mail                                             1\n",
      "Corporate Programs & Business Services                1\n",
      "Name: reason, Length: 91, dtype: int64\n",
      "Road Travelled Surface | Route - Aires de Circulat    109450\n",
      "Organics-SWC | Biologiques-CDS                         82391\n",
      "New Home                                               48912\n",
      "Garbage - SWC | Déchets - CDS                          48748\n",
      "Overtime Parking | Stationnement Expiré                40668\n",
      "                                                       ...  \n",
      "Property Standards | Normes de Biens-Fonds                 1\n",
      "City Fac-Scrap Metal Roll-Off                              1\n",
      "Residential Mural                                          1\n",
      "Report accident                                            1\n",
      "Corporate Programs & Business Services                     1\n",
      "Name: type, Length: 506, dtype: int64\n",
      "Voice In     779426\n",
      "WEB          233467\n",
      "WAP          171488\n",
      "Face2Face      2952\n",
      "e-mail In         2\n",
      "Name: channel, dtype: int64\n"
     ]
    }
   ],
   "source": [
    "print(df.subject.value_counts())\n",
    "print(df.reason.value_counts())\n",
    "print(df.type.value_counts())\n",
    "print(df.channel.value_counts())\n"
   ]
  },
  {
   "cell_type": "markdown",
   "id": "7d3f90ed-5111-4842-a43e-1345df014d52",
   "metadata": {},
   "source": [
    "### Ward"
   ]
  },
  {
   "cell_type": "code",
   "execution_count": 24,
   "id": "566be716-c10e-426b-8d29-3f3bb59cedce",
   "metadata": {
    "tags": []
   },
   "outputs": [],
   "source": [
    "# missing values in ward\n",
    "df['ward'] = df['ward'].fillna('MISSING-WARD')\n",
    "\n",
    "ward_mapping = {\n",
    " 'RIVER': 'RIVER',\n",
    " 'ORLÉANS': 'ORLÉANS',\n",
    " 'BAY': 'BAY',\n",
    " 'GLOUCESTER-SOUTHGATE': 'GLOUCESTER-SOUTHGATE',\n",
    " 'ORL&#201;ANS': 'ORL&#201;ANS',\n",
    " 'BEACON HILL-CYRVILLE': 'BEACON HILL-CYRVILLE',\n",
    " 'RIDEAU-ROCKCLIFFE': 'RIDEAU-ROCKCLIFFE',\n",
    " 'ALTA VISTA': 'ALTA VISTA',\n",
    " 'INNES': 'INNES',\n",
    " 'CUMBERLAND': 'CUMBERLAND',\n",
    " 'KANATA NORTH': 'KANATA NORTH',\n",
    " 'KITCHISSIPPI': 'KITCHISSIPPI',\n",
    " 'COLLEGE': 'COLLEGE',\n",
    " 'SOMERSET': 'SOMERSET',\n",
    " 'BARRHAVEN': 'BARRHAVEN',\n",
    " 'KNOXDALE-MERIVALE': 'KNOXDALE-MERIVALE',\n",
    " 'RIDEAU-VANIER': 'RIDEAU-VANIER',\n",
    " 'GLOUCESTER-SOUTH NEPEAN': 'GLOUCESTER-SOUTH NEPEAN',\n",
    " 'OSGOODE': 'OSGOODE',\n",
    " 'STITTSVILLE': 'STITTSVILLE',\n",
    " 'KANATA SOUTH': 'KANATA SOUTH',\n",
    " 'CAPITAL': 'CAPITAL',\n",
    " 'WEST CARLETON-MARCH': 'WEST CARLETON-MARCH',\n",
    " 'RIDEAU-GOULBOURN': 'RIDEAU-GOULBOURN',\n",
    " 'ORL&#201;ANS': 'ORLÉANS',\n",
    " 'Ward 3 BARRHAVEN': 'BARRHAVEN',\n",
    " 'Ward 7 BAY': 'BAY',\n",
    " 'Ward 17 CAPITAL': 'CAPITAL',\n",
    " 'Ward 9 KNOXDALE-MERIVALE': 'KNOXDALE-MERIVALE',\n",
    " 'Ward 10 GLOUCESTER-SOUTHGATE': 'GLOUCESTER-SOUTHGATE',\n",
    " 'Ward 23 KANATA SOUTH': 'KANATA SOUTH',\n",
    " 'Ward 1 ORLÉANS': 'ORLÉANS',\n",
    " 'Ward 15 KITCHISSIPPI': 'KITCHISSIPPI',\n",
    " 'Ward 21 RIDEAU-GOULBOURN': 'RIDEAU-GOULBOURN',\n",
    " 'Ward 4 KANATA NORTH': 'KANATA NORTH',\n",
    " 'Ward 12 RIDEAU-VANIER': 'RIDEAU-VANIER',\n",
    " 'Ward 22 GLOUCESTER-SOUTH NEPEAN': 'GLOUCESTER-SOUTH NEPEAN',\n",
    " 'Ward 18 ALTA VISTA': 'ALTA VISTA',\n",
    " 'Ward 2 INNES': 'INNES',\n",
    " 'Ward 8 COLLEGE': 'COLLEGE',\n",
    " 'Ward 16 RIVER': 'RIVER',\n",
    " 'Ward 13 RIDEAU-ROCKCLIFFE': 'RIDEAU-ROCKCLIFFE',\n",
    " 'Ward 14 SOMERSET': 'SOMERSET',\n",
    " 'Ward 19 CUMBERLAND': 'CUMBERLAND',\n",
    " 'Ward 5 WEST CARLETON-MARCH': 'WEST CARLETON-MARCH',\n",
    " 'Ward 20 OSGOODE': 'OSGOODE',\n",
    " 'Ward 6 STITTSVILLE': 'STITTSVILLE',\n",
    " ' ': 'MISSING-WARD',\n",
    " 'Ward 11 BEACON HILL-CYRVILLE': 'BEACON HILL-CYRVILLE',\n",
    " 'Ward 17 West': 'CAPITAL',\n",
    " 'Ward 12 East': 'RIDEAU-VANIER',\n",
    " 'WARD 12 RIDEAU-VANIER': 'RIDEAU-VANIER'}\n",
    "\n",
    "\n",
    "df['ward'] = df['ward'].map(ward_mapping, na_action='ignore')"
   ]
  },
  {
   "cell_type": "code",
   "execution_count": 25,
   "id": "ba489a2a-1412-4a3c-bf76-4559d03d7865",
   "metadata": {},
   "outputs": [
    {
     "data": {
      "text/plain": [
       "RIDEAU-VANIER              76569\n",
       "SOMERSET                   69635\n",
       "KITCHISSIPPI               63467\n",
       "CAPITAL                    59879\n",
       "BARRHAVEN                  59806\n",
       "COLLEGE                    57739\n",
       "GLOUCESTER-SOUTH NEPEAN    56459\n",
       "CUMBERLAND                 54303\n",
       "RIVER                      51689\n",
       "KANATA SOUTH               50110\n",
       "ALTA VISTA                 49903\n",
       "RIDEAU-ROCKCLIFFE          47277\n",
       "GLOUCESTER-SOUTHGATE       47204\n",
       "STITTSVILLE                46785\n",
       "ORLÉANS                    45283\n",
       "INNES                      42981\n",
       "BAY                        42029\n",
       "KNOXDALE-MERIVALE          40494\n",
       "KANATA NORTH               36731\n",
       "RIDEAU-GOULBOURN           32538\n",
       "BEACON HILL-CYRVILLE       31757\n",
       "OSGOODE                    25859\n",
       "WEST CARLETON-MARCH        25768\n",
       "MISSING-WARD                 393\n",
       "Name: ward, dtype: int64"
      ]
     },
     "execution_count": 25,
     "metadata": {},
     "output_type": "execute_result"
    }
   ],
   "source": [
    "df.ward.value_counts()"
   ]
  },
  {
   "cell_type": "code",
   "execution_count": 6,
   "id": "f11d095b-e045-4cfe-961e-67a72447d94b",
   "metadata": {},
   "outputs": [],
   "source": [
    "def sorted_heatmap(data, x, y, z):\n",
    "    #pivot\n",
    "    ts_events = data.groupby([y, x], as_index=False)[z].count()\n",
    "    ts_events = ts_events.pivot(y, x, z)\n",
    "    ts_events = ts_events.reindex(ts_events.sum(axis=1).sort_values(ascending=False).index)\n",
    "    sns.heatmap(ts_events)"
   ]
  },
  {
   "cell_type": "code",
   "execution_count": 17,
   "id": "d5d72a82-021a-4372-87e3-66a46d204b91",
   "metadata": {},
   "outputs": [],
   "source": [
    "# sorted_heatmap(df[df.ward!='MISSING-WARD'], 'week', 'ward', 'objectid')"
   ]
  },
  {
   "cell_type": "code",
   "execution_count": 14,
   "id": "acb6fef5-f773-472d-85d2-2ea9c9371f28",
   "metadata": {},
   "outputs": [
    {
     "data": {
      "text/plain": [
       "(1198376, 8)"
      ]
     },
     "execution_count": 14,
     "metadata": {},
     "output_type": "execute_result"
    }
   ],
   "source": [
    "df.shape"
   ]
  },
  {
   "cell_type": "markdown",
   "id": "61ecc038-e84a-4a5c-b80a-d64d8de1f9d7",
   "metadata": {},
   "source": [
    "Are 311 reports independent?"
   ]
  },
  {
   "cell_type": "code",
   "execution_count": 62,
   "id": "ff4e3385-051e-4068-8e5f-e9be5fc2c0c3",
   "metadata": {},
   "outputs": [
    {
     "data": {
      "image/png": "[encoded data removed]",
      "text/plain": [
       "<Figure size 640x480 with 1 Axes>"
      ]
     },
     "metadata": {},
     "output_type": "display_data"
    }
   ],
   "source": [
    "daily_reports = df.groupby(['subject','date_raised'], as_index=False)['index'].count()\n",
    "bylaw_df = daily_reports[daily_reports['subject']=='Bylaw Services | Service des Règlements Municipaux']\n",
    "bylaw_df['index'].hist(bins=40, density=True)\n",
    "plt.title('Number of 311 reports per day (2019-2022)')\n",
    "plt.ylabel('')\n",
    "plt.xlabel('')\n",
    "plt.grid()"
   ]
  },
  {
   "cell_type": "code",
   "execution_count": 58,
   "id": "0965703d-f263-492f-86bc-a27ef5c7b221",
   "metadata": {},
   "outputs": [
    {
     "name": "stdout",
     "output_type": "stream",
     "text": [
      "count    1366.000000\n",
      "mean      166.707174\n",
      "std        76.964836\n",
      "min         6.000000\n",
      "25%       111.000000\n",
      "50%       154.000000\n",
      "75%       207.000000\n",
      "max       712.000000\n",
      "Name: index, dtype: float64\n"
     ]
    }
   ],
   "source": [
    "print(bylaw_df['index'].describe())\n",
    "lambda_bylaw = bylaw_df['index'].mean() \n",
    "n = bylaw_df.shape[0]"
   ]
  },
  {
   "cell_type": "code",
   "execution_count": 63,
   "id": "1c651d1c-7581-40f7-aec2-ae0082fd144a",
   "metadata": {},
   "outputs": [
    {
     "data": {
      "image/png": "[encoded data removed]",
      "text/plain": [
       "<Figure size 640x480 with 1 Axes>"
      ]
     },
     "metadata": {},
     "output_type": "display_data"
    }
   ],
   "source": [
    "s = np.random.poisson(lambda_bylaw, n)\n",
    "plt.hist(s, bins=40, density=True)\n",
    "plt.show()"
   ]
  },
  {
   "cell_type": "code",
   "execution_count": null,
   "id": "36589a38-c0f5-4533-872f-8b4d9686b232",
   "metadata": {},
   "outputs": [],
   "source": []
  }
 ],
 "metadata": {
  "kernelspec": {
   "display_name": "Python 3 (ipykernel)",
   "language": "python",
   "name": "python3"
  },
  "language_info": {
   "codemirror_mode": {
    "name": "ipython",
    "version": 3
   },
   "file_extension": ".py",
   "mimetype": "text/x-python",
   "name": "python",
   "nbconvert_exporter": "python",
   "pygments_lexer": "ipython3",
   "version": "3.8.8"
  }
 },
 "nbformat": 4,
 "nbformat_minor": 5
}
