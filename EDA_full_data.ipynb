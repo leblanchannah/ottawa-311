{
 "cells": [
  {
   "cell_type": "code",
   "execution_count": 28,
   "id": "694ba052-783e-41f8-be52-7d432e67cba3",
   "metadata": {},
   "outputs": [],
   "source": [
    "import pandas as pd\n",
    "import matplotlib.pyplot as plt\n",
    "import seaborn as sns\n",
    "import datetime\n",
    "import numpy as np\n",
    "\n",
    "sns.set_style(\"dark\")\n",
    "sns.set_context(\"notebook\")"
   ]
  },
  {
   "cell_type": "code",
   "execution_count": 29,
   "id": "be6f4f63-5652-4e8a-bad2-e92c8376094e",
   "metadata": {},
   "outputs": [
    {
     "name": "stderr",
     "output_type": "stream",
     "text": [
      "/var/folders/3_/49qq58ns2r11fnng7d9pbd0w0000gn/T/ipykernel_13036/3717138367.py:13: FutureWarning: Series.dt.weekofyear and Series.dt.week have been deprecated. Please use Series.dt.isocalendar().week instead.\n",
      "  df['week'] = df['date_raised'].dt.week\n"
     ]
    }
   ],
   "source": [
    "data_dir = 'data/raw_data/'\n",
    "\n",
    "df = pd.read_csv(data_dir+'2022_Monthly_Service_Requests.csv')\n",
    "df_2019 = pd.read_excel(data_dir+'SR-2019.xlsx')\n",
    "df_2020 = pd.read_excel(data_dir+'SR-2020.xlsx')\n",
    "df_2021 = pd.read_excel(data_dir+'2021_Monthly_Service_Requests_EN.xlsx')\n",
    "\n",
    "df = pd.concat([df, df_2021, df_2020, df_2019], axis=0)\n",
    "del df_2021, df_2020, df_2019\n",
    "\n",
    "df.columns = [x.lower() for x in df.columns]\n",
    "df['date_raised'] = pd.to_datetime(df['date_raised'])\n",
    "df['week'] = df['date_raised'].dt.week\n",
    "\n",
    "df = df.drop(['objectid'],axis=1)\n",
    "df = df.reset_index()\n",
    "df.to_csv('data/service_requests_2019_2020.csv', index=False)"
   ]
  },
  {
   "cell_type": "markdown",
   "id": "0ff13365-9a06-44aa-a962-d700aa19db74",
   "metadata": {},
   "source": [
    " - which issue reasons have steadily increased over the past few years?\n",
    " - if previous years are included - how can data drift be measured?\n",
    " - what do major events or disruptions look like in 311 tickets?\n",
    " - which ticket categories are cyclic or seasonal? how can event time series be classified?\n",
    " \n",
    " \n",
    " dataset drift\n",
    " \n",
    " - new categories added, categories removed\n",
    " - majority of reasons and subjects are rarely used \n",
    " - could an effective drift analysis be done with many rare categories?"
   ]
  },
  {
   "cell_type": "code",
   "execution_count": 30,
   "id": "913fd523-2673-40ee-b569-adbaf66dcabb",
   "metadata": {},
   "outputs": [
    {
     "name": "stdout",
     "output_type": "stream",
     "text": [
      "Roads and Transportation | Routes et Transports       415417\n",
      "Garbage and Recycling | Déchets et Recyclage          371880\n",
      "Bylaw Services | Service des Règlements Municipaux    227722\n",
      "Water and the Environment | Eau et Environnement      106880\n",
      "Recreation and Culture | Loisirs et Culture            29600\n",
      "City Hall | Hôtel de Ville                             14765\n",
      "Licenses and Permits | Licences et Permis               8353\n",
      "Miscellaneous                                           7220\n",
      "Social Community Service | Services Sociaux et Com      5784\n",
      "Corp Complaints                                         5262\n",
      "Health and Safety | Santé et Sécurité                   5156\n",
      "Knowledge Management                                     336\n",
      "Complaints                                                 1\n",
      "Name: subject, dtype: int64\n",
      "Solid Waste Collection | Collecte des Déchets    276446\n",
      "Roads Maintenance | Entretien des Routes         197835\n",
      "Parking Control | Gestion des Stationnements     131048\n",
      "Recycle Bins | Bacs de recyclage                  95434\n",
      "Property Standards                                56125\n",
      "                                                  ...  \n",
      "Cannabis                                             19\n",
      "Appeal a  Complaint Resolution                       19\n",
      "EAP | PAE                                             1\n",
      "Junk Mail                                             1\n",
      "Corporate Programs & Business Services                1\n",
      "Name: reason, Length: 91, dtype: int64\n",
      "Road Travelled Surface | Route - Aires de Circulat    109450\n",
      "Organics-SWC | Biologiques-CDS                         82391\n",
      "New Home                                               48912\n",
      "Garbage - SWC | Déchets - CDS                          48748\n",
      "Overtime Parking | Stationnement Expiré                40668\n",
      "                                                       ...  \n",
      "Property Standards | Normes de Biens-Fonds                 1\n",
      "City Fac-Scrap Metal Roll-Off                              1\n",
      "Residential Mural                                          1\n",
      "Report accident                                            1\n",
      "Corporate Programs & Business Services                     1\n",
      "Name: type, Length: 506, dtype: int64\n",
      "Voice In     779426\n",
      "WEB          233467\n",
      "WAP          171488\n",
      "Face2Face      2952\n",
      "e-mail In         2\n",
      "Name: channel, dtype: int64\n"
     ]
    }
   ],
   "source": [
    "print(df.subject.value_counts())\n",
    "print(df.reason.value_counts())\n",
    "print(df.type.value_counts())\n",
    "print(df.channel.value_counts())\n"
   ]
  },
  {
   "cell_type": "markdown",
   "id": "7d3f90ed-5111-4842-a43e-1345df014d52",
   "metadata": {},
   "source": [
    "### Ward"
   ]
  },
  {
   "cell_type": "code",
   "execution_count": 31,
   "id": "566be716-c10e-426b-8d29-3f3bb59cedce",
   "metadata": {
    "tags": []
   },
   "outputs": [],
   "source": [
    "# missing values in ward\n",
    "df['ward'] = df['ward'].fillna('MISSING-WARD')\n",
    "\n",
    "ward_mapping = {\n",
    " 'RIVER': 'RIVER',\n",
    " 'ORLÉANS': 'ORLÉANS',\n",
    " 'BAY': 'BAY',\n",
    " 'GLOUCESTER-SOUTHGATE': 'GLOUCESTER-SOUTHGATE',\n",
    " 'ORL&#201;ANS': 'ORL&#201;ANS',\n",
    " 'BEACON HILL-CYRVILLE': 'BEACON HILL-CYRVILLE',\n",
    " 'RIDEAU-ROCKCLIFFE': 'RIDEAU-ROCKCLIFFE',\n",
    " 'ALTA VISTA': 'ALTA VISTA',\n",
    " 'INNES': 'INNES',\n",
    " 'CUMBERLAND': 'CUMBERLAND',\n",
    " 'KANATA NORTH': 'KANATA NORTH',\n",
    " 'KITCHISSIPPI': 'KITCHISSIPPI',\n",
    " 'COLLEGE': 'COLLEGE',\n",
    " 'SOMERSET': 'SOMERSET',\n",
    " 'BARRHAVEN': 'BARRHAVEN',\n",
    " 'KNOXDALE-MERIVALE': 'KNOXDALE-MERIVALE',\n",
    " 'RIDEAU-VANIER': 'RIDEAU-VANIER',\n",
    " 'GLOUCESTER-SOUTH NEPEAN': 'GLOUCESTER-SOUTH NEPEAN',\n",
    " 'OSGOODE': 'OSGOODE',\n",
    " 'STITTSVILLE': 'STITTSVILLE',\n",
    " 'KANATA SOUTH': 'KANATA SOUTH',\n",
    " 'CAPITAL': 'CAPITAL',\n",
    " 'WEST CARLETON-MARCH': 'WEST CARLETON-MARCH',\n",
    " 'RIDEAU-GOULBOURN': 'RIDEAU-GOULBOURN',\n",
    " 'ORL&#201;ANS': 'ORLÉANS',\n",
    " 'Ward 3 BARRHAVEN': 'BARRHAVEN',\n",
    " 'Ward 7 BAY': 'BAY',\n",
    " 'Ward 17 CAPITAL': 'CAPITAL',\n",
    " 'Ward 9 KNOXDALE-MERIVALE': 'KNOXDALE-MERIVALE',\n",
    " 'Ward 10 GLOUCESTER-SOUTHGATE': 'GLOUCESTER-SOUTHGATE',\n",
    " 'Ward 23 KANATA SOUTH': 'KANATA SOUTH',\n",
    " 'Ward 1 ORLÉANS': 'ORLÉANS',\n",
    " 'Ward 15 KITCHISSIPPI': 'KITCHISSIPPI',\n",
    " 'Ward 21 RIDEAU-GOULBOURN': 'RIDEAU-GOULBOURN',\n",
    " 'Ward 4 KANATA NORTH': 'KANATA NORTH',\n",
    " 'Ward 12 RIDEAU-VANIER': 'RIDEAU-VANIER',\n",
    " 'Ward 22 GLOUCESTER-SOUTH NEPEAN': 'GLOUCESTER-SOUTH NEPEAN',\n",
    " 'Ward 18 ALTA VISTA': 'ALTA VISTA',\n",
    " 'Ward 2 INNES': 'INNES',\n",
    " 'Ward 8 COLLEGE': 'COLLEGE',\n",
    " 'Ward 16 RIVER': 'RIVER',\n",
    " 'Ward 13 RIDEAU-ROCKCLIFFE': 'RIDEAU-ROCKCLIFFE',\n",
    " 'Ward 14 SOMERSET': 'SOMERSET',\n",
    " 'Ward 19 CUMBERLAND': 'CUMBERLAND',\n",
    " 'Ward 5 WEST CARLETON-MARCH': 'WEST CARLETON-MARCH',\n",
    " 'Ward 20 OSGOODE': 'OSGOODE',\n",
    " 'Ward 6 STITTSVILLE': 'STITTSVILLE',\n",
    " ' ': 'MISSING-WARD',\n",
    " 'Ward 11 BEACON HILL-CYRVILLE': 'BEACON HILL-CYRVILLE',\n",
    " 'Ward 17 West': 'CAPITAL',\n",
    " 'Ward 12 East': 'RIDEAU-VANIER',\n",
    " 'WARD 12 RIDEAU-VANIER': 'RIDEAU-VANIER'}\n",
    "\n",
    "\n",
    "df['ward'] = df['ward'].map(ward_mapping, na_action='ignore')"
   ]
  },
  {
   "cell_type": "code",
   "execution_count": 6,
   "id": "ba489a2a-1412-4a3c-bf76-4559d03d7865",
   "metadata": {},
   "outputs": [
    {
     "data": {
      "text/plain": [
       "RIDEAU-VANIER              76569\n",
       "SOMERSET                   69635\n",
       "KITCHISSIPPI               63467\n",
       "CAPITAL                    59879\n",
       "BARRHAVEN                  59806\n",
       "COLLEGE                    57739\n",
       "GLOUCESTER-SOUTH NEPEAN    56459\n",
       "CUMBERLAND                 54303\n",
       "RIVER                      51689\n",
       "KANATA SOUTH               50110\n",
       "ALTA VISTA                 49903\n",
       "RIDEAU-ROCKCLIFFE          47277\n",
       "GLOUCESTER-SOUTHGATE       47204\n",
       "STITTSVILLE                46785\n",
       "ORLÉANS                    45283\n",
       "INNES                      42981\n",
       "BAY                        42029\n",
       "KNOXDALE-MERIVALE          40494\n",
       "KANATA NORTH               36731\n",
       "RIDEAU-GOULBOURN           32538\n",
       "BEACON HILL-CYRVILLE       31757\n",
       "OSGOODE                    25859\n",
       "WEST CARLETON-MARCH        25768\n",
       "MISSING-WARD                 393\n",
       "Name: ward, dtype: int64"
      ]
     },
     "execution_count": 6,
     "metadata": {},
     "output_type": "execute_result"
    }
   ],
   "source": [
    "df.ward.value_counts()"
   ]
  },
  {
   "cell_type": "code",
   "execution_count": 7,
   "id": "f11d095b-e045-4cfe-961e-67a72447d94b",
   "metadata": {},
   "outputs": [],
   "source": [
    "def sorted_heatmap(data, x, y, z):\n",
    "    #pivot\n",
    "    ts_events = data.groupby([y, x], as_index=False)[z].count()\n",
    "    ts_events = ts_events.pivot(y, x, z)\n",
    "    ts_events = ts_events.reindex(ts_events.sum(axis=1).sort_values(ascending=False).index)\n",
    "    sns.heatmap(ts_events)"
   ]
  },
  {
   "cell_type": "code",
   "execution_count": 8,
   "id": "d5d72a82-021a-4372-87e3-66a46d204b91",
   "metadata": {},
   "outputs": [],
   "source": [
    "# sorted_heatmap(df[df.ward!='MISSING-WARD'], 'week', 'ward', 'objectid')"
   ]
  },
  {
   "cell_type": "markdown",
   "id": "61ecc038-e84a-4a5c-b80a-d64d8de1f9d7",
   "metadata": {},
   "source": [
    "Are 311 reports independent?"
   ]
  },
  {
   "cell_type": "code",
   "execution_count": 9,
   "id": "ff4e3385-051e-4068-8e5f-e9be5fc2c0c3",
   "metadata": {},
   "outputs": [
    {
     "data": {
      "image/png": "[encoded data removed]",
      "text/plain": [
       "<Figure size 640x480 with 1 Axes>"
      ]
     },
     "metadata": {},
     "output_type": "display_data"
    }
   ],
   "source": [
    "daily_reports = df.groupby(['subject','date_raised'], as_index=False)['index'].count()\n",
    "bylaw_df = daily_reports[daily_reports['subject']=='Bylaw Services | Service des Règlements Municipaux']\n",
    "bylaw_df['index'].hist(bins=40,density=True)\n",
    "plt.title('Number of 311 reports per day (2019-2022)')\n",
    "plt.ylabel('')\n",
    "plt.xlabel('')\n",
    "plt.grid()"
   ]
  },
  {
   "cell_type": "code",
   "execution_count": 10,
   "id": "0965703d-f263-492f-86bc-a27ef5c7b221",
   "metadata": {},
   "outputs": [
    {
     "name": "stdout",
     "output_type": "stream",
     "text": [
      "count    1366.000000\n",
      "mean      166.707174\n",
      "std        76.964836\n",
      "min         6.000000\n",
      "25%       111.000000\n",
      "50%       154.000000\n",
      "75%       207.000000\n",
      "max       712.000000\n",
      "Name: index, dtype: float64\n"
     ]
    }
   ],
   "source": [
    "print(bylaw_df['index'].describe())\n",
    "lambda_bylaw = bylaw_df['index'].mean() \n",
    "n = bylaw_df.shape[0]"
   ]
  },
  {
   "cell_type": "code",
   "execution_count": 11,
   "id": "1c651d1c-7581-40f7-aec2-ae0082fd144a",
   "metadata": {},
   "outputs": [
    {
     "data": {
      "image/png": "[encoded data removed]",
      "text/plain": [
       "<Figure size 640x480 with 1 Axes>"
      ]
     },
     "metadata": {},
     "output_type": "display_data"
    }
   ],
   "source": [
    "s = np.random.poisson(lambda_bylaw, n)\n",
    "plt.hist(s, density=True)\n",
    "plt.show()"
   ]
  },
  {
   "cell_type": "code",
   "execution_count": 12,
   "id": "36589a38-c0f5-4533-872f-8b4d9686b232",
   "metadata": {},
   "outputs": [
    {
     "data": {
      "text/plain": [
       "subject        Bylaw Services | Service des Règlements Munici...\n",
       "date_raised                                  2019-12-01 00:00:00\n",
       "index                                                        712\n",
       "Name: 332, dtype: object"
      ]
     },
     "execution_count": 12,
     "metadata": {},
     "output_type": "execute_result"
    }
   ],
   "source": [
    "bylaw_df.loc[bylaw_df['index'].idxmax()]"
   ]
  },
  {
   "cell_type": "code",
   "execution_count": 13,
   "id": "c6299fe9-d09a-4f85-b843-51450163ebbc",
   "metadata": {},
   "outputs": [
    {
     "data": {
      "text/plain": [
       "Dog Licensing                                       348\n",
       "Cat Licensing                                       275\n",
       "Music                                                22\n",
       "Private Transportation Company                       11\n",
       "Shouting                                             11\n",
       "Parking - Yard                                        9\n",
       "Dog Barking                                           8\n",
       "Exterior Debris/Waste                                 5\n",
       "Construction                                          4\n",
       "Car Alarms                                            3\n",
       "Dog Being Held                                        3\n",
       "Building Exterior                                     2\n",
       "Dumping on Road                                       1\n",
       "Animal/Lost Pet                                       1\n",
       "Stoop and Scoop                                       1\n",
       "Info-Noise                                            1\n",
       "Injured Animal                                        1\n",
       "Dog Bite                                              1\n",
       "Heat-Insufficient                                     1\n",
       "On Road Allowance                                     1\n",
       "Assist OHS                                            1\n",
       "Skipped Fare                                          1\n",
       "Curbside Collection | Collecte en bordure de rue      1\n",
       "Name: type, dtype: int64"
      ]
     },
     "execution_count": 13,
     "metadata": {},
     "output_type": "execute_result"
    }
   ],
   "source": [
    "df[(df['date_raised']=='2019-12-01')& (df['subject']=='Bylaw Services | Service des Règlements Municipaux')]['type'].value_counts()"
   ]
  },
  {
   "cell_type": "code",
   "execution_count": 14,
   "id": "1237a433-7401-4b6a-9053-fb734dae464d",
   "metadata": {},
   "outputs": [
    {
     "data": {
      "text/plain": [
       "Text(0.5, 12.44444444444443, 'Count(By-law events)')"
      ]
     },
     "execution_count": 14,
     "metadata": {},
     "output_type": "execute_result"
    },
    {
     "data": {
      "image/png": "[encoded data removed]",
      "text/plain": [
       "<Figure size 1000x500 with 1 Axes>"
      ]
     },
     "metadata": {},
     "output_type": "display_data"
    }
   ],
   "source": [
    "bylaw_ward_reports = df[df['subject']=='Bylaw Services | Service des Règlements Municipaux'].groupby(['ward','date_raised'], as_index=False)['index'].count()\n",
    "\n",
    "sns.catplot(\n",
    "    data=bylaw_ward_reports,\n",
    "    x=\"index\", y=\"ward\",\n",
    "    kind=\"boxen\",\n",
    "    orient='h',\n",
    "    height=5,\n",
    "    aspect=2\n",
    ")\n",
    "plt.xlabel('Count(By-law events)')"
   ]
  },
  {
   "cell_type": "code",
   "execution_count": null,
   "id": "f26b8989-8f71-4808-a5d1-eee09f17b9fc",
   "metadata": {},
   "outputs": [],
   "source": []
  },
  {
   "cell_type": "code",
   "execution_count": 15,
   "id": "013e9afe-5baa-4df2-8786-0884bb441a64",
   "metadata": {},
   "outputs": [
    {
     "data": {
      "text/html": [
       "<div>\n",
       "<style scoped>\n",
       "    .dataframe tbody tr th:only-of-type {\n",
       "        vertical-align: middle;\n",
       "    }\n",
       "\n",
       "    .dataframe tbody tr th {\n",
       "        vertical-align: top;\n",
       "    }\n",
       "\n",
       "    .dataframe thead tr th {\n",
       "        text-align: left;\n",
       "    }\n",
       "\n",
       "    .dataframe thead tr:last-of-type th {\n",
       "        text-align: right;\n",
       "    }\n",
       "</style>\n",
       "<table border=\"1\" class=\"dataframe\">\n",
       "  <thead>\n",
       "    <tr>\n",
       "      <th></th>\n",
       "      <th colspan=\"4\" halign=\"left\">index</th>\n",
       "    </tr>\n",
       "    <tr>\n",
       "      <th></th>\n",
       "      <th>mean</th>\n",
       "      <th>var</th>\n",
       "      <th>std</th>\n",
       "      <th>count</th>\n",
       "    </tr>\n",
       "    <tr>\n",
       "      <th>ward</th>\n",
       "      <th></th>\n",
       "      <th></th>\n",
       "      <th></th>\n",
       "      <th></th>\n",
       "    </tr>\n",
       "  </thead>\n",
       "  <tbody>\n",
       "    <tr>\n",
       "      <th>ALTA VISTA</th>\n",
       "      <td>6.206061</td>\n",
       "      <td>11.774035</td>\n",
       "      <td>3.431331</td>\n",
       "      <td>1320</td>\n",
       "    </tr>\n",
       "    <tr>\n",
       "      <th>BARRHAVEN</th>\n",
       "      <td>6.604580</td>\n",
       "      <td>16.453149</td>\n",
       "      <td>4.056248</td>\n",
       "      <td>1310</td>\n",
       "    </tr>\n",
       "    <tr>\n",
       "      <th>BAY</th>\n",
       "      <td>5.367347</td>\n",
       "      <td>10.483714</td>\n",
       "      <td>3.237856</td>\n",
       "      <td>1323</td>\n",
       "    </tr>\n",
       "    <tr>\n",
       "      <th>BEACON HILL-CYRVILLE</th>\n",
       "      <td>3.997634</td>\n",
       "      <td>6.019726</td>\n",
       "      <td>2.453513</td>\n",
       "      <td>1268</td>\n",
       "    </tr>\n",
       "    <tr>\n",
       "      <th>CAPITAL</th>\n",
       "      <td>6.965257</td>\n",
       "      <td>13.332125</td>\n",
       "      <td>3.651318</td>\n",
       "      <td>1324</td>\n",
       "    </tr>\n",
       "    <tr>\n",
       "      <th>COLLEGE</th>\n",
       "      <td>6.620586</td>\n",
       "      <td>13.919847</td>\n",
       "      <td>3.730931</td>\n",
       "      <td>1331</td>\n",
       "    </tr>\n",
       "    <tr>\n",
       "      <th>CUMBERLAND</th>\n",
       "      <td>5.223938</td>\n",
       "      <td>11.228020</td>\n",
       "      <td>3.350824</td>\n",
       "      <td>1295</td>\n",
       "    </tr>\n",
       "    <tr>\n",
       "      <th>GLOUCESTER-SOUTH NEPEAN</th>\n",
       "      <td>5.125960</td>\n",
       "      <td>11.735083</td>\n",
       "      <td>3.425651</td>\n",
       "      <td>1302</td>\n",
       "    </tr>\n",
       "    <tr>\n",
       "      <th>GLOUCESTER-SOUTHGATE</th>\n",
       "      <td>5.613445</td>\n",
       "      <td>11.527831</td>\n",
       "      <td>3.395266</td>\n",
       "      <td>1309</td>\n",
       "    </tr>\n",
       "    <tr>\n",
       "      <th>INNES</th>\n",
       "      <td>4.416404</td>\n",
       "      <td>8.279510</td>\n",
       "      <td>2.877414</td>\n",
       "      <td>1268</td>\n",
       "    </tr>\n",
       "    <tr>\n",
       "      <th>KANATA NORTH</th>\n",
       "      <td>3.581395</td>\n",
       "      <td>6.594367</td>\n",
       "      <td>2.567950</td>\n",
       "      <td>1204</td>\n",
       "    </tr>\n",
       "    <tr>\n",
       "      <th>KANATA SOUTH</th>\n",
       "      <td>5.041985</td>\n",
       "      <td>10.513897</td>\n",
       "      <td>3.242514</td>\n",
       "      <td>1310</td>\n",
       "    </tr>\n",
       "    <tr>\n",
       "      <th>KITCHISSIPPI</th>\n",
       "      <td>7.453232</td>\n",
       "      <td>14.190163</td>\n",
       "      <td>3.766983</td>\n",
       "      <td>1315</td>\n",
       "    </tr>\n",
       "    <tr>\n",
       "      <th>KNOXDALE-MERIVALE</th>\n",
       "      <td>5.154259</td>\n",
       "      <td>10.629796</td>\n",
       "      <td>3.260337</td>\n",
       "      <td>1303</td>\n",
       "    </tr>\n",
       "    <tr>\n",
       "      <th>ORLÉANS</th>\n",
       "      <td>4.859144</td>\n",
       "      <td>10.379677</td>\n",
       "      <td>3.221751</td>\n",
       "      <td>1285</td>\n",
       "    </tr>\n",
       "    <tr>\n",
       "      <th>OSGOODE</th>\n",
       "      <td>3.364261</td>\n",
       "      <td>5.992737</td>\n",
       "      <td>2.448007</td>\n",
       "      <td>1164</td>\n",
       "    </tr>\n",
       "    <tr>\n",
       "      <th>RIDEAU-GOULBOURN</th>\n",
       "      <td>3.483761</td>\n",
       "      <td>5.853029</td>\n",
       "      <td>2.419304</td>\n",
       "      <td>1170</td>\n",
       "    </tr>\n",
       "    <tr>\n",
       "      <th>RIDEAU-ROCKCLIFFE</th>\n",
       "      <td>7.140813</td>\n",
       "      <td>14.585281</td>\n",
       "      <td>3.819068</td>\n",
       "      <td>1328</td>\n",
       "    </tr>\n",
       "    <tr>\n",
       "      <th>RIDEAU-VANIER</th>\n",
       "      <td>12.547090</td>\n",
       "      <td>16.349740</td>\n",
       "      <td>4.043481</td>\n",
       "      <td>945</td>\n",
       "    </tr>\n",
       "    <tr>\n",
       "      <th>RIVER</th>\n",
       "      <td>6.968134</td>\n",
       "      <td>13.793972</td>\n",
       "      <td>3.714024</td>\n",
       "      <td>1318</td>\n",
       "    </tr>\n",
       "    <tr>\n",
       "      <th>SOMERSET</th>\n",
       "      <td>10.252209</td>\n",
       "      <td>18.355954</td>\n",
       "      <td>4.284385</td>\n",
       "      <td>1245</td>\n",
       "    </tr>\n",
       "    <tr>\n",
       "      <th>STITTSVILLE</th>\n",
       "      <td>4.689136</td>\n",
       "      <td>9.738207</td>\n",
       "      <td>3.120610</td>\n",
       "      <td>1261</td>\n",
       "    </tr>\n",
       "    <tr>\n",
       "      <th>WEST CARLETON-MARCH</th>\n",
       "      <td>2.752336</td>\n",
       "      <td>4.025603</td>\n",
       "      <td>2.006390</td>\n",
       "      <td>1070</td>\n",
       "    </tr>\n",
       "  </tbody>\n",
       "</table>\n",
       "</div>"
      ],
      "text/plain": [
       "                             index                           \n",
       "                              mean        var       std count\n",
       "ward                                                         \n",
       "ALTA VISTA                6.206061  11.774035  3.431331  1320\n",
       "BARRHAVEN                 6.604580  16.453149  4.056248  1310\n",
       "BAY                       5.367347  10.483714  3.237856  1323\n",
       "BEACON HILL-CYRVILLE      3.997634   6.019726  2.453513  1268\n",
       "CAPITAL                   6.965257  13.332125  3.651318  1324\n",
       "COLLEGE                   6.620586  13.919847  3.730931  1331\n",
       "CUMBERLAND                5.223938  11.228020  3.350824  1295\n",
       "GLOUCESTER-SOUTH NEPEAN   5.125960  11.735083  3.425651  1302\n",
       "GLOUCESTER-SOUTHGATE      5.613445  11.527831  3.395266  1309\n",
       "INNES                     4.416404   8.279510  2.877414  1268\n",
       "KANATA NORTH              3.581395   6.594367  2.567950  1204\n",
       "KANATA SOUTH              5.041985  10.513897  3.242514  1310\n",
       "KITCHISSIPPI              7.453232  14.190163  3.766983  1315\n",
       "KNOXDALE-MERIVALE         5.154259  10.629796  3.260337  1303\n",
       "ORLÉANS                   4.859144  10.379677  3.221751  1285\n",
       "OSGOODE                   3.364261   5.992737  2.448007  1164\n",
       "RIDEAU-GOULBOURN          3.483761   5.853029  2.419304  1170\n",
       "RIDEAU-ROCKCLIFFE         7.140813  14.585281  3.819068  1328\n",
       "RIDEAU-VANIER            12.547090  16.349740  4.043481   945\n",
       "RIVER                     6.968134  13.793972  3.714024  1318\n",
       "SOMERSET                 10.252209  18.355954  4.284385  1245\n",
       "STITTSVILLE               4.689136   9.738207  3.120610  1261\n",
       "WEST CARLETON-MARCH       2.752336   4.025603  2.006390  1070"
      ]
     },
     "execution_count": 15,
     "metadata": {},
     "output_type": "execute_result"
    }
   ],
   "source": [
    "# is this because of outliers?\n",
    "bylaw_ward_reports[bylaw_ward_reports['index']<20].groupby('ward').agg({\n",
    "    'index':['mean','var','std','count']\n",
    "})"
   ]
  },
  {
   "cell_type": "code",
   "execution_count": 16,
   "id": "4f06eb06-e3db-4faf-b523-9492d9d81355",
   "metadata": {},
   "outputs": [],
   "source": [
    "new_home_reports = df[df['type']=='New Home'].groupby('date_raised',as_index=False)['index'].count()"
   ]
  },
  {
   "cell_type": "code",
   "execution_count": 17,
   "id": "5938fb40-6a4f-470f-a4bf-121082f07fe6",
   "metadata": {},
   "outputs": [
    {
     "data": {
      "image/png": "[encoded data removed]",
      "text/plain": [
       "<Figure size 640x480 with 1 Axes>"
      ]
     },
     "metadata": {},
     "output_type": "display_data"
    }
   ],
   "source": [
    "new_home_reports['index'].hist(bins=40,density=True)\n",
    "plt.title('Number of New Home 311 reports per day (2019-2022)')\n",
    "plt.ylabel('')\n",
    "plt.xlabel('')\n",
    "plt.grid()"
   ]
  },
  {
   "cell_type": "code",
   "execution_count": 18,
   "id": "413d55b7-b2e1-47eb-bff6-809078de87ee",
   "metadata": {},
   "outputs": [
    {
     "name": "stdout",
     "output_type": "stream",
     "text": [
      "44.144404332129966\n",
      "362.17063713356765\n"
     ]
    }
   ],
   "source": [
    "#overdispersion?\n",
    "# If overdispersion is a feature, an alternative model with additional free parameters may provide a better fit.\n",
    "# In the case of count data, a Poisson mixture model like the negative binomial distribution can be proposed inste\n",
    "# https://en.wikipedia.org/wiki/Overdispersion\n",
    "# http://www.stat.ucla.edu/~dinov/courses_students.dir/Applets.dir/NormalApprox2PoissonApplet.html normal approx\n",
    "\n",
    "print(new_home_reports['index'].mean())\n",
    "print(new_home_reports['index'].var())"
   ]
  },
  {
   "cell_type": "code",
   "execution_count": 19,
   "id": "071caeb3-5953-44a0-8a8c-fc1040ccd875",
   "metadata": {},
   "outputs": [
    {
     "data": {
      "text/html": [
       "<div>\n",
       "<style scoped>\n",
       "    .dataframe tbody tr th:only-of-type {\n",
       "        vertical-align: middle;\n",
       "    }\n",
       "\n",
       "    .dataframe tbody tr th {\n",
       "        vertical-align: top;\n",
       "    }\n",
       "\n",
       "    .dataframe thead th {\n",
       "        text-align: right;\n",
       "    }\n",
       "</style>\n",
       "<table border=\"1\" class=\"dataframe\">\n",
       "  <thead>\n",
       "    <tr style=\"text-align: right;\">\n",
       "      <th></th>\n",
       "      <th>index</th>\n",
       "      <th>subject</th>\n",
       "      <th>reason</th>\n",
       "      <th>type</th>\n",
       "      <th>date_raised</th>\n",
       "      <th>channel</th>\n",
       "      <th>ward</th>\n",
       "      <th>week</th>\n",
       "    </tr>\n",
       "  </thead>\n",
       "  <tbody>\n",
       "    <tr>\n",
       "      <th>0</th>\n",
       "      <td>0</td>\n",
       "      <td>Bylaw Services | Service des Règlements Munici...</td>\n",
       "      <td>Animals</td>\n",
       "      <td>Dog Barking</td>\n",
       "      <td>2022-01-08</td>\n",
       "      <td>Voice In</td>\n",
       "      <td>RIVER</td>\n",
       "      <td>1</td>\n",
       "    </tr>\n",
       "    <tr>\n",
       "      <th>1</th>\n",
       "      <td>1</td>\n",
       "      <td>Bylaw Services | Service des Règlements Munici...</td>\n",
       "      <td>Animals</td>\n",
       "      <td>Dog Barking</td>\n",
       "      <td>2022-01-09</td>\n",
       "      <td>Voice In</td>\n",
       "      <td>ORLÉANS</td>\n",
       "      <td>1</td>\n",
       "    </tr>\n",
       "    <tr>\n",
       "      <th>2</th>\n",
       "      <td>2</td>\n",
       "      <td>Bylaw Services | Service des Règlements Munici...</td>\n",
       "      <td>Animals</td>\n",
       "      <td>Dog Barking</td>\n",
       "      <td>2022-01-09</td>\n",
       "      <td>Voice In</td>\n",
       "      <td>BAY</td>\n",
       "      <td>1</td>\n",
       "    </tr>\n",
       "    <tr>\n",
       "      <th>3</th>\n",
       "      <td>3</td>\n",
       "      <td>Bylaw Services | Service des Règlements Munici...</td>\n",
       "      <td>Animals</td>\n",
       "      <td>Dog Barking</td>\n",
       "      <td>2022-01-09</td>\n",
       "      <td>Voice In</td>\n",
       "      <td>GLOUCESTER-SOUTHGATE</td>\n",
       "      <td>1</td>\n",
       "    </tr>\n",
       "    <tr>\n",
       "      <th>4</th>\n",
       "      <td>4</td>\n",
       "      <td>Bylaw Services | Service des Règlements Munici...</td>\n",
       "      <td>Animals</td>\n",
       "      <td>Dog Barking</td>\n",
       "      <td>2022-01-09</td>\n",
       "      <td>WEB</td>\n",
       "      <td>ORLÉANS</td>\n",
       "      <td>1</td>\n",
       "    </tr>\n",
       "  </tbody>\n",
       "</table>\n",
       "</div>"
      ],
      "text/plain": [
       "   index                                            subject   reason  \\\n",
       "0      0  Bylaw Services | Service des Règlements Munici...  Animals   \n",
       "1      1  Bylaw Services | Service des Règlements Munici...  Animals   \n",
       "2      2  Bylaw Services | Service des Règlements Munici...  Animals   \n",
       "3      3  Bylaw Services | Service des Règlements Munici...  Animals   \n",
       "4      4  Bylaw Services | Service des Règlements Munici...  Animals   \n",
       "\n",
       "          type date_raised   channel                  ward  week  \n",
       "0  Dog Barking  2022-01-08  Voice In                 RIVER     1  \n",
       "1  Dog Barking  2022-01-09  Voice In               ORLÉANS     1  \n",
       "2  Dog Barking  2022-01-09  Voice In                   BAY     1  \n",
       "3  Dog Barking  2022-01-09  Voice In  GLOUCESTER-SOUTHGATE     1  \n",
       "4  Dog Barking  2022-01-09       WEB               ORLÉANS     1  "
      ]
     },
     "execution_count": 19,
     "metadata": {},
     "output_type": "execute_result"
    }
   ],
   "source": [
    "df.head()                 "
   ]
  },
  {
   "cell_type": "code",
   "execution_count": 25,
   "id": "dcb1a53f-7c47-4669-ab24-ffaa8b9db68d",
   "metadata": {},
   "outputs": [
    {
     "data": {
      "text/plain": [
       "Text(0, 0.5, '311 reports')"
      ]
     },
     "execution_count": 25,
     "metadata": {},
     "output_type": "execute_result"
    },
    {
     "data": {
      "image/png": "[encoded data removed]",
      "text/plain": [
       "<Figure size 640x480 with 1 Axes>"
      ]
     },
     "metadata": {},
     "output_type": "display_data"
    }
   ],
   "source": [
    "\n",
    "plt.plot(df[df['ward']=='BAY'].groupby('date_raised')['index'].count())\n",
    "plt.title('Ward = BAY, 311 events per day')\n",
    "plt.xlabel('date raised')\n",
    "plt.ylabel('311 reports')"
   ]
  },
  {
   "cell_type": "code",
   "execution_count": 38,
   "id": "426bd758-5a60-4b73-b656-24e540a2c589",
   "metadata": {},
   "outputs": [
    {
     "data": {
      "application/vnd.plotly.v1+json": {
       "config": {
        "plotlyServerURL": "https://plot.ly"
       },
       "data": [
        {
         "branchvalues": "total",
         "domain": {
          "x": [
           0,
           1
          ],
          "y": [
           0,
           1
          ]
         },
         "hovertemplate": "labels=%{label}<br>index=%{value}<br>parent=%{parent}<br>id=%{id}<extra></extra>",
         "ids": [
          "all/Garbage and Recycling | Déchets et Recyclage/Recycle Bins | Bacs de recyclage/Additional",
          "all/Bylaw Services | Service des Règlements Municipaux/Animals/Dog Barking",
          "all/Bylaw Services | Service des Règlements Municipaux/Animals/Dog at Large-Current",
          "all/Bylaw Services | Service des Règlements Municipaux/Property Standards/Exterior Debris/Waste",
          "all/Bylaw Services | Service des Règlements Municipaux/Noise/Music",
          "all/Water and the Environment | Eau et Environnement/Reinstatment/Road Cut Investigation - On Call",
          "all/Roads and Transportation | Routes et Transports/Traffic Operations | Opérations de la Circulation/Signal-Pole",
          "all/Bylaw Services | Service des Règlements Municipaux/Animals",
          "all/Bylaw Services | Service des Règlements Municipaux/Noise",
          "all/Bylaw Services | Service des Règlements Municipaux/Property Standards",
          "all/Garbage and Recycling | Déchets et Recyclage/Recycle Bins | Bacs de recyclage",
          "all/Water and the Environment | Eau et Environnement/Reinstatment",
          "all/Roads and Transportation | Routes et Transports/Traffic Operations | Opérations de la Circulation",
          "all/Bylaw Services | Service des Règlements Municipaux",
          "all/Garbage and Recycling | Déchets et Recyclage",
          "all/Roads and Transportation | Routes et Transports",
          "all/Water and the Environment | Eau et Environnement",
          "all"
         ],
         "labels": [
          "Additional",
          "Dog Barking",
          "Dog at Large-Current",
          "Exterior Debris/Waste",
          "Music",
          "Road Cut Investigation - On Call",
          "Signal-Pole",
          "Animals",
          "Noise",
          "Property Standards",
          "Recycle Bins | Bacs de recyclage",
          "Reinstatment",
          "Traffic Operations | Opérations de la Circulation",
          "Bylaw Services | Service des Règlements Municipaux",
          "Garbage and Recycling | Déchets et Recyclage",
          "Roads and Transportation | Routes et Transports",
          "Water and the Environment | Eau et Environnement",
          "all"
         ],
         "name": "",
         "parents": [
          "all/Garbage and Recycling | Déchets et Recyclage/Recycle Bins | Bacs de recyclage",
          "all/Bylaw Services | Service des Règlements Municipaux/Animals",
          "all/Bylaw Services | Service des Règlements Municipaux/Animals",
          "all/Bylaw Services | Service des Règlements Municipaux/Property Standards",
          "all/Bylaw Services | Service des Règlements Municipaux/Noise",
          "all/Water and the Environment | Eau et Environnement/Reinstatment",
          "all/Roads and Transportation | Routes et Transports/Traffic Operations | Opérations de la Circulation",
          "all/Bylaw Services | Service des Règlements Municipaux",
          "all/Bylaw Services | Service des Règlements Municipaux",
          "all/Bylaw Services | Service des Règlements Municipaux",
          "all/Garbage and Recycling | Déchets et Recyclage",
          "all/Water and the Environment | Eau et Environnement",
          "all/Roads and Transportation | Routes et Transports",
          "all",
          "all",
          "all",
          "all",
          ""
         ],
         "root": {
          "color": "lightgrey"
         },
         "type": "treemap",
         "values": [
          1,
          1,
          1,
          2,
          1,
          1,
          2,
          2,
          1,
          2,
          1,
          1,
          2,
          5,
          1,
          2,
          1,
          9
         ]
        }
       ],
       "layout": {
        "autosize": true,
        "legend": {
         "tracegroupgap": 0
        },
        "margin": {
         "b": 25,
         "l": 25,
         "r": 25,
         "t": 50
        },
        "template": {
         "data": {
          "bar": [
           {
            "error_x": {
             "color": "#2a3f5f"
            },
            "error_y": {
             "color": "#2a3f5f"
            },
            "marker": {
             "line": {
              "color": "#E5ECF6",
              "width": 0.5
             },
             "pattern": {
              "fillmode": "overlay",
              "size": 10,
              "solidity": 0.2
             }
            },
            "type": "bar"
           }
          ],
          "barpolar": [
           {
            "marker": {
             "line": {
              "color": "#E5ECF6",
              "width": 0.5
             },
             "pattern": {
              "fillmode": "overlay",
              "size": 10,
              "solidity": 0.2
             }
            },
            "type": "barpolar"
           }
          ],
          "carpet": [
           {
            "aaxis": {
             "endlinecolor": "#2a3f5f",
             "gridcolor": "white",
             "linecolor": "white",
             "minorgridcolor": "white",
             "startlinecolor": "#2a3f5f"
            },
            "baxis": {
             "endlinecolor": "#2a3f5f",
             "gridcolor": "white",
             "linecolor": "white",
             "minorgridcolor": "white",
             "startlinecolor": "#2a3f5f"
            },
            "type": "carpet"
           }
          ],
          "choropleth": [
           {
            "colorbar": {
             "outlinewidth": 0,
             "ticks": ""
            },
            "type": "choropleth"
           }
          ],
          "contour": [
           {
            "colorbar": {
             "outlinewidth": 0,
             "ticks": ""
            },
            "colorscale": [
             [
              0,
              "#0d0887"
             ],
             [
              0.1111111111111111,
              "#46039f"
             ],
             [
              0.2222222222222222,
              "#7201a8"
             ],
             [
              0.3333333333333333,
              "#9c179e"
             ],
             [
              0.4444444444444444,
              "#bd3786"
             ],
             [
              0.5555555555555556,
              "#d8576b"
             ],
             [
              0.6666666666666666,
              "#ed7953"
             ],
             [
              0.7777777777777778,
              "#fb9f3a"
             ],
             [
              0.8888888888888888,
              "#fdca26"
             ],
             [
              1,
              "#f0f921"
             ]
            ],
            "type": "contour"
           }
          ],
          "contourcarpet": [
           {
            "colorbar": {
             "outlinewidth": 0,
             "ticks": ""
            },
            "type": "contourcarpet"
           }
          ],
          "heatmap": [
           {
            "colorbar": {
             "outlinewidth": 0,
             "ticks": ""
            },
            "colorscale": [
             [
              0,
              "#0d0887"
             ],
             [
              0.1111111111111111,
              "#46039f"
             ],
             [
              0.2222222222222222,
              "#7201a8"
             ],
             [
              0.3333333333333333,
              "#9c179e"
             ],
             [
              0.4444444444444444,
              "#bd3786"
             ],
             [
              0.5555555555555556,
              "#d8576b"
             ],
             [
              0.6666666666666666,
              "#ed7953"
             ],
             [
              0.7777777777777778,
              "#fb9f3a"
             ],
             [
              0.8888888888888888,
              "#fdca26"
             ],
             [
              1,
              "#f0f921"
             ]
            ],
            "type": "heatmap"
           }
          ],
          "heatmapgl": [
           {
            "colorbar": {
             "outlinewidth": 0,
             "ticks": ""
            },
            "colorscale": [
             [
              0,
              "#0d0887"
             ],
             [
              0.1111111111111111,
              "#46039f"
             ],
             [
              0.2222222222222222,
              "#7201a8"
             ],
             [
              0.3333333333333333,
              "#9c179e"
             ],
             [
              0.4444444444444444,
              "#bd3786"
             ],
             [
              0.5555555555555556,
              "#d8576b"
             ],
             [
              0.6666666666666666,
              "#ed7953"
             ],
             [
              0.7777777777777778,
              "#fb9f3a"
             ],
             [
              0.8888888888888888,
              "#fdca26"
             ],
             [
              1,
              "#f0f921"
             ]
            ],
            "type": "heatmapgl"
           }
          ],
          "histogram": [
           {
            "marker": {
             "pattern": {
              "fillmode": "overlay",
              "size": 10,
              "solidity": 0.2
             }
            },
            "type": "histogram"
           }
          ],
          "histogram2d": [
           {
            "colorbar": {
             "outlinewidth": 0,
             "ticks": ""
            },
            "colorscale": [
             [
              0,
              "#0d0887"
             ],
             [
              0.1111111111111111,
              "#46039f"
             ],
             [
              0.2222222222222222,
              "#7201a8"
             ],
             [
              0.3333333333333333,
              "#9c179e"
             ],
             [
              0.4444444444444444,
              "#bd3786"
             ],
             [
              0.5555555555555556,
              "#d8576b"
             ],
             [
              0.6666666666666666,
              "#ed7953"
             ],
             [
              0.7777777777777778,
              "#fb9f3a"
             ],
             [
              0.8888888888888888,
              "#fdca26"
             ],
             [
              1,
              "#f0f921"
             ]
            ],
            "type": "histogram2d"
           }
          ],
          "histogram2dcontour": [
           {
            "colorbar": {
             "outlinewidth": 0,
             "ticks": ""
            },
            "colorscale": [
             [
              0,
              "#0d0887"
             ],
             [
              0.1111111111111111,
              "#46039f"
             ],
             [
              0.2222222222222222,
              "#7201a8"
             ],
             [
              0.3333333333333333,
              "#9c179e"
             ],
             [
              0.4444444444444444,
              "#bd3786"
             ],
             [
              0.5555555555555556,
              "#d8576b"
             ],
             [
              0.6666666666666666,
              "#ed7953"
             ],
             [
              0.7777777777777778,
              "#fb9f3a"
             ],
             [
              0.8888888888888888,
              "#fdca26"
             ],
             [
              1,
              "#f0f921"
             ]
            ],
            "type": "histogram2dcontour"
           }
          ],
          "mesh3d": [
           {
            "colorbar": {
             "outlinewidth": 0,
             "ticks": ""
            },
            "type": "mesh3d"
           }
          ],
          "parcoords": [
           {
            "line": {
             "colorbar": {
              "outlinewidth": 0,
              "ticks": ""
             }
            },
            "type": "parcoords"
           }
          ],
          "pie": [
           {
            "automargin": true,
            "type": "pie"
           }
          ],
          "scatter": [
           {
            "fillpattern": {
             "fillmode": "overlay",
             "size": 10,
             "solidity": 0.2
            },
            "type": "scatter"
           }
          ],
          "scatter3d": [
           {
            "line": {
             "colorbar": {
              "outlinewidth": 0,
              "ticks": ""
             }
            },
            "marker": {
             "colorbar": {
              "outlinewidth": 0,
              "ticks": ""
             }
            },
            "type": "scatter3d"
           }
          ],
          "scattercarpet": [
           {
            "marker": {
             "colorbar": {
              "outlinewidth": 0,
              "ticks": ""
             }
            },
            "type": "scattercarpet"
           }
          ],
          "scattergeo": [
           {
            "marker": {
             "colorbar": {
              "outlinewidth": 0,
              "ticks": ""
             }
            },
            "type": "scattergeo"
           }
          ],
          "scattergl": [
           {
            "marker": {
             "colorbar": {
              "outlinewidth": 0,
              "ticks": ""
             }
            },
            "type": "scattergl"
           }
          ],
          "scattermapbox": [
           {
            "marker": {
             "colorbar": {
              "outlinewidth": 0,
              "ticks": ""
             }
            },
            "type": "scattermapbox"
           }
          ],
          "scatterpolar": [
           {
            "marker": {
             "colorbar": {
              "outlinewidth": 0,
              "ticks": ""
             }
            },
            "type": "scatterpolar"
           }
          ],
          "scatterpolargl": [
           {
            "marker": {
             "colorbar": {
              "outlinewidth": 0,
              "ticks": ""
             }
            },
            "type": "scatterpolargl"
           }
          ],
          "scatterternary": [
           {
            "marker": {
             "colorbar": {
              "outlinewidth": 0,
              "ticks": ""
             }
            },
            "type": "scatterternary"
           }
          ],
          "surface": [
           {
            "colorbar": {
             "outlinewidth": 0,
             "ticks": ""
            },
            "colorscale": [
             [
              0,
              "#0d0887"
             ],
             [
              0.1111111111111111,
              "#46039f"
             ],
             [
              0.2222222222222222,
              "#7201a8"
             ],
             [
              0.3333333333333333,
              "#9c179e"
             ],
             [
              0.4444444444444444,
              "#bd3786"
             ],
             [
              0.5555555555555556,
              "#d8576b"
             ],
             [
              0.6666666666666666,
              "#ed7953"
             ],
             [
              0.7777777777777778,
              "#fb9f3a"
             ],
             [
              0.8888888888888888,
              "#fdca26"
             ],
             [
              1,
              "#f0f921"
             ]
            ],
            "type": "surface"
           }
          ],
          "table": [
           {
            "cells": {
             "fill": {
              "color": "#EBF0F8"
             },
             "line": {
              "color": "white"
             }
            },
            "header": {
             "fill": {
              "color": "#C8D4E3"
             },
             "line": {
              "color": "white"
             }
            },
            "type": "table"
           }
          ]
         },
         "layout": {
          "annotationdefaults": {
           "arrowcolor": "#2a3f5f",
           "arrowhead": 0,
           "arrowwidth": 1
          },
          "autotypenumbers": "strict",
          "coloraxis": {
           "colorbar": {
            "outlinewidth": 0,
            "ticks": ""
           }
          },
          "colorscale": {
           "diverging": [
            [
             0,
             "#8e0152"
            ],
            [
             0.1,
             "#c51b7d"
            ],
            [
             0.2,
             "#de77ae"
            ],
            [
             0.3,
             "#f1b6da"
            ],
            [
             0.4,
             "#fde0ef"
            ],
            [
             0.5,
             "#f7f7f7"
            ],
            [
             0.6,
             "#e6f5d0"
            ],
            [
             0.7,
             "#b8e186"
            ],
            [
             0.8,
             "#7fbc41"
            ],
            [
             0.9,
             "#4d9221"
            ],
            [
             1,
             "#276419"
            ]
           ],
           "sequential": [
            [
             0,
             "#0d0887"
            ],
            [
             0.1111111111111111,
             "#46039f"
            ],
            [
             0.2222222222222222,
             "#7201a8"
            ],
            [
             0.3333333333333333,
             "#9c179e"
            ],
            [
             0.4444444444444444,
             "#bd3786"
            ],
            [
             0.5555555555555556,
             "#d8576b"
            ],
            [
             0.6666666666666666,
             "#ed7953"
            ],
            [
             0.7777777777777778,
             "#fb9f3a"
            ],
            [
             0.8888888888888888,
             "#fdca26"
            ],
            [
             1,
             "#f0f921"
            ]
           ],
           "sequentialminus": [
            [
             0,
             "#0d0887"
            ],
            [
             0.1111111111111111,
             "#46039f"
            ],
            [
             0.2222222222222222,
             "#7201a8"
            ],
            [
             0.3333333333333333,
             "#9c179e"
            ],
            [
             0.4444444444444444,
             "#bd3786"
            ],
            [
             0.5555555555555556,
             "#d8576b"
            ],
            [
             0.6666666666666666,
             "#ed7953"
            ],
            [
             0.7777777777777778,
             "#fb9f3a"
            ],
            [
             0.8888888888888888,
             "#fdca26"
            ],
            [
             1,
             "#f0f921"
            ]
           ]
          },
          "colorway": [
           "#636efa",
           "#EF553B",
           "#00cc96",
           "#ab63fa",
           "#FFA15A",
           "#19d3f3",
           "#FF6692",
           "#B6E880",
           "#FF97FF",
           "#FECB52"
          ],
          "font": {
           "color": "#2a3f5f"
          },
          "geo": {
           "bgcolor": "white",
           "lakecolor": "white",
           "landcolor": "#E5ECF6",
           "showlakes": true,
           "showland": true,
           "subunitcolor": "white"
          },
          "hoverlabel": {
           "align": "left"
          },
          "hovermode": "closest",
          "mapbox": {
           "style": "light"
          },
          "paper_bgcolor": "white",
          "plot_bgcolor": "#E5ECF6",
          "polar": {
           "angularaxis": {
            "gridcolor": "white",
            "linecolor": "white",
            "ticks": ""
           },
           "bgcolor": "#E5ECF6",
           "radialaxis": {
            "gridcolor": "white",
            "linecolor": "white",
            "ticks": ""
           }
          },
          "scene": {
           "xaxis": {
            "backgroundcolor": "#E5ECF6",
            "gridcolor": "white",
            "gridwidth": 2,
            "linecolor": "white",
            "showbackground": true,
            "ticks": "",
            "zerolinecolor": "white"
           },
           "yaxis": {
            "backgroundcolor": "#E5ECF6",
            "gridcolor": "white",
            "gridwidth": 2,
            "linecolor": "white",
            "showbackground": true,
            "ticks": "",
            "zerolinecolor": "white"
           },
           "zaxis": {
            "backgroundcolor": "#E5ECF6",
            "gridcolor": "white",
            "gridwidth": 2,
            "linecolor": "white",
            "showbackground": true,
            "ticks": "",
            "zerolinecolor": "white"
           }
          },
          "shapedefaults": {
           "line": {
            "color": "#2a3f5f"
           }
          },
          "ternary": {
           "aaxis": {
            "gridcolor": "white",
            "linecolor": "white",
            "ticks": ""
           },
           "baxis": {
            "gridcolor": "white",
            "linecolor": "white",
            "ticks": ""
           },
           "bgcolor": "#E5ECF6",
           "caxis": {
            "gridcolor": "white",
            "linecolor": "white",
            "ticks": ""
           }
          },
          "title": {
           "x": 0.05
          },
          "xaxis": {
           "automargin": true,
           "gridcolor": "white",
           "linecolor": "white",
           "ticks": "",
           "title": {
            "standoff": 15
           },
           "zerolinecolor": "white",
           "zerolinewidth": 2
          },
          "yaxis": {
           "automargin": true,
           "gridcolor": "white",
           "linecolor": "white",
           "ticks": "",
           "title": {
            "standoff": 15
           },
           "zerolinecolor": "white",
           "zerolinewidth": 2
          }
         }
        }
       }
      },
      "image/png": "[encoded data removed]",
      "text/html": [
       "<div>                            <div id=\"de561d10-183b-4607-985b-711e2a464359\" class=\"plotly-graph-div\" style=\"height:525px; width:100%;\"></div>            <script type=\"text/javascript\">                require([\"plotly\"], function(Plotly) {                    window.PLOTLYENV=window.PLOTLYENV || {};                                    if (document.getElementById(\"de561d10-183b-4607-985b-711e2a464359\")) {                    Plotly.newPlot(                        \"de561d10-183b-4607-985b-711e2a464359\",                        [{\"branchvalues\":\"total\",\"domain\":{\"x\":[0.0,1.0],\"y\":[0.0,1.0]},\"hovertemplate\":\"labels=%{label}<br>index=%{value}<br>parent=%{parent}<br>id=%{id}<extra></extra>\",\"ids\":[\"all/Garbage and Recycling | D\\u00e9chets et Recyclage/Recycle Bins | Bacs de recyclage/Additional\",\"all/Bylaw Services | Service des R\\u00e8glements Municipaux/Animals/Dog Barking\",\"all/Bylaw Services | Service des R\\u00e8glements Municipaux/Animals/Dog at Large-Current\",\"all/Bylaw Services | Service des R\\u00e8glements Municipaux/Property Standards/Exterior Debris/Waste\",\"all/Bylaw Services | Service des R\\u00e8glements Municipaux/Noise/Music\",\"all/Water and the Environment | Eau et Environnement/Reinstatment/Road Cut Investigation - On Call\",\"all/Roads and Transportation | Routes et Transports/Traffic Operations | Op\\u00e9rations de la Circulation/Signal-Pole\",\"all/Bylaw Services | Service des R\\u00e8glements Municipaux/Animals\",\"all/Bylaw Services | Service des R\\u00e8glements Municipaux/Noise\",\"all/Bylaw Services | Service des R\\u00e8glements Municipaux/Property Standards\",\"all/Garbage and Recycling | D\\u00e9chets et Recyclage/Recycle Bins | Bacs de recyclage\",\"all/Water and the Environment | Eau et Environnement/Reinstatment\",\"all/Roads and Transportation | Routes et Transports/Traffic Operations | Op\\u00e9rations de la Circulation\",\"all/Bylaw Services | Service des R\\u00e8glements Municipaux\",\"all/Garbage and Recycling | D\\u00e9chets et Recyclage\",\"all/Roads and Transportation | Routes et Transports\",\"all/Water and the Environment | Eau et Environnement\",\"all\"],\"labels\":[\"Additional\",\"Dog Barking\",\"Dog at Large-Current\",\"Exterior Debris/Waste\",\"Music\",\"Road Cut Investigation - On Call\",\"Signal-Pole\",\"Animals\",\"Noise\",\"Property Standards\",\"Recycle Bins | Bacs de recyclage\",\"Reinstatment\",\"Traffic Operations | Op\\u00e9rations de la Circulation\",\"Bylaw Services | Service des R\\u00e8glements Municipaux\",\"Garbage and Recycling | D\\u00e9chets et Recyclage\",\"Roads and Transportation | Routes et Transports\",\"Water and the Environment | Eau et Environnement\",\"all\"],\"name\":\"\",\"parents\":[\"all/Garbage and Recycling | D\\u00e9chets et Recyclage/Recycle Bins | Bacs de recyclage\",\"all/Bylaw Services | Service des R\\u00e8glements Municipaux/Animals\",\"all/Bylaw Services | Service des R\\u00e8glements Municipaux/Animals\",\"all/Bylaw Services | Service des R\\u00e8glements Municipaux/Property Standards\",\"all/Bylaw Services | Service des R\\u00e8glements Municipaux/Noise\",\"all/Water and the Environment | Eau et Environnement/Reinstatment\",\"all/Roads and Transportation | Routes et Transports/Traffic Operations | Op\\u00e9rations de la Circulation\",\"all/Bylaw Services | Service des R\\u00e8glements Municipaux\",\"all/Bylaw Services | Service des R\\u00e8glements Municipaux\",\"all/Bylaw Services | Service des R\\u00e8glements Municipaux\",\"all/Garbage and Recycling | D\\u00e9chets et Recyclage\",\"all/Water and the Environment | Eau et Environnement\",\"all/Roads and Transportation | Routes et Transports\",\"all\",\"all\",\"all\",\"all\",\"\"],\"values\":[1,1,1,2,1,1,2,2,1,2,1,1,2,5,1,2,1,9],\"type\":\"treemap\",\"root\":{\"color\":\"lightgrey\"}}],                        {\"template\":{\"data\":{\"histogram2dcontour\":[{\"type\":\"histogram2dcontour\",\"colorbar\":{\"outlinewidth\":0,\"ticks\":\"\"},\"colorscale\":[[0.0,\"#0d0887\"],[0.1111111111111111,\"#46039f\"],[0.2222222222222222,\"#7201a8\"],[0.3333333333333333,\"#9c179e\"],[0.4444444444444444,\"#bd3786\"],[0.5555555555555556,\"#d8576b\"],[0.6666666666666666,\"#ed7953\"],[0.7777777777777778,\"#fb9f3a\"],[0.8888888888888888,\"#fdca26\"],[1.0,\"#f0f921\"]]}],\"choropleth\":[{\"type\":\"choropleth\",\"colorbar\":{\"outlinewidth\":0,\"ticks\":\"\"}}],\"histogram2d\":[{\"type\":\"histogram2d\",\"colorbar\":{\"outlinewidth\":0,\"ticks\":\"\"},\"colorscale\":[[0.0,\"#0d0887\"],[0.1111111111111111,\"#46039f\"],[0.2222222222222222,\"#7201a8\"],[0.3333333333333333,\"#9c179e\"],[0.4444444444444444,\"#bd3786\"],[0.5555555555555556,\"#d8576b\"],[0.6666666666666666,\"#ed7953\"],[0.7777777777777778,\"#fb9f3a\"],[0.8888888888888888,\"#fdca26\"],[1.0,\"#f0f921\"]]}],\"heatmap\":[{\"type\":\"heatmap\",\"colorbar\":{\"outlinewidth\":0,\"ticks\":\"\"},\"colorscale\":[[0.0,\"#0d0887\"],[0.1111111111111111,\"#46039f\"],[0.2222222222222222,\"#7201a8\"],[0.3333333333333333,\"#9c179e\"],[0.4444444444444444,\"#bd3786\"],[0.5555555555555556,\"#d8576b\"],[0.6666666666666666,\"#ed7953\"],[0.7777777777777778,\"#fb9f3a\"],[0.8888888888888888,\"#fdca26\"],[1.0,\"#f0f921\"]]}],\"heatmapgl\":[{\"type\":\"heatmapgl\",\"colorbar\":{\"outlinewidth\":0,\"ticks\":\"\"},\"colorscale\":[[0.0,\"#0d0887\"],[0.1111111111111111,\"#46039f\"],[0.2222222222222222,\"#7201a8\"],[0.3333333333333333,\"#9c179e\"],[0.4444444444444444,\"#bd3786\"],[0.5555555555555556,\"#d8576b\"],[0.6666666666666666,\"#ed7953\"],[0.7777777777777778,\"#fb9f3a\"],[0.8888888888888888,\"#fdca26\"],[1.0,\"#f0f921\"]]}],\"contourcarpet\":[{\"type\":\"contourcarpet\",\"colorbar\":{\"outlinewidth\":0,\"ticks\":\"\"}}],\"contour\":[{\"type\":\"contour\",\"colorbar\":{\"outlinewidth\":0,\"ticks\":\"\"},\"colorscale\":[[0.0,\"#0d0887\"],[0.1111111111111111,\"#46039f\"],[0.2222222222222222,\"#7201a8\"],[0.3333333333333333,\"#9c179e\"],[0.4444444444444444,\"#bd3786\"],[0.5555555555555556,\"#d8576b\"],[0.6666666666666666,\"#ed7953\"],[0.7777777777777778,\"#fb9f3a\"],[0.8888888888888888,\"#fdca26\"],[1.0,\"#f0f921\"]]}],\"surface\":[{\"type\":\"surface\",\"colorbar\":{\"outlinewidth\":0,\"ticks\":\"\"},\"colorscale\":[[0.0,\"#0d0887\"],[0.1111111111111111,\"#46039f\"],[0.2222222222222222,\"#7201a8\"],[0.3333333333333333,\"#9c179e\"],[0.4444444444444444,\"#bd3786\"],[0.5555555555555556,\"#d8576b\"],[0.6666666666666666,\"#ed7953\"],[0.7777777777777778,\"#fb9f3a\"],[0.8888888888888888,\"#fdca26\"],[1.0,\"#f0f921\"]]}],\"mesh3d\":[{\"type\":\"mesh3d\",\"colorbar\":{\"outlinewidth\":0,\"ticks\":\"\"}}],\"scatter\":[{\"fillpattern\":{\"fillmode\":\"overlay\",\"size\":10,\"solidity\":0.2},\"type\":\"scatter\"}],\"parcoords\":[{\"type\":\"parcoords\",\"line\":{\"colorbar\":{\"outlinewidth\":0,\"ticks\":\"\"}}}],\"scatterpolargl\":[{\"type\":\"scatterpolargl\",\"marker\":{\"colorbar\":{\"outlinewidth\":0,\"ticks\":\"\"}}}],\"bar\":[{\"error_x\":{\"color\":\"#2a3f5f\"},\"error_y\":{\"color\":\"#2a3f5f\"},\"marker\":{\"line\":{\"color\":\"#E5ECF6\",\"width\":0.5},\"pattern\":{\"fillmode\":\"overlay\",\"size\":10,\"solidity\":0.2}},\"type\":\"bar\"}],\"scattergeo\":[{\"type\":\"scattergeo\",\"marker\":{\"colorbar\":{\"outlinewidth\":0,\"ticks\":\"\"}}}],\"scatterpolar\":[{\"type\":\"scatterpolar\",\"marker\":{\"colorbar\":{\"outlinewidth\":0,\"ticks\":\"\"}}}],\"histogram\":[{\"marker\":{\"pattern\":{\"fillmode\":\"overlay\",\"size\":10,\"solidity\":0.2}},\"type\":\"histogram\"}],\"scattergl\":[{\"type\":\"scattergl\",\"marker\":{\"colorbar\":{\"outlinewidth\":0,\"ticks\":\"\"}}}],\"scatter3d\":[{\"type\":\"scatter3d\",\"line\":{\"colorbar\":{\"outlinewidth\":0,\"ticks\":\"\"}},\"marker\":{\"colorbar\":{\"outlinewidth\":0,\"ticks\":\"\"}}}],\"scattermapbox\":[{\"type\":\"scattermapbox\",\"marker\":{\"colorbar\":{\"outlinewidth\":0,\"ticks\":\"\"}}}],\"scatterternary\":[{\"type\":\"scatterternary\",\"marker\":{\"colorbar\":{\"outlinewidth\":0,\"ticks\":\"\"}}}],\"scattercarpet\":[{\"type\":\"scattercarpet\",\"marker\":{\"colorbar\":{\"outlinewidth\":0,\"ticks\":\"\"}}}],\"carpet\":[{\"aaxis\":{\"endlinecolor\":\"#2a3f5f\",\"gridcolor\":\"white\",\"linecolor\":\"white\",\"minorgridcolor\":\"white\",\"startlinecolor\":\"#2a3f5f\"},\"baxis\":{\"endlinecolor\":\"#2a3f5f\",\"gridcolor\":\"white\",\"linecolor\":\"white\",\"minorgridcolor\":\"white\",\"startlinecolor\":\"#2a3f5f\"},\"type\":\"carpet\"}],\"table\":[{\"cells\":{\"fill\":{\"color\":\"#EBF0F8\"},\"line\":{\"color\":\"white\"}},\"header\":{\"fill\":{\"color\":\"#C8D4E3\"},\"line\":{\"color\":\"white\"}},\"type\":\"table\"}],\"barpolar\":[{\"marker\":{\"line\":{\"color\":\"#E5ECF6\",\"width\":0.5},\"pattern\":{\"fillmode\":\"overlay\",\"size\":10,\"solidity\":0.2}},\"type\":\"barpolar\"}],\"pie\":[{\"automargin\":true,\"type\":\"pie\"}]},\"layout\":{\"autotypenumbers\":\"strict\",\"colorway\":[\"#636efa\",\"#EF553B\",\"#00cc96\",\"#ab63fa\",\"#FFA15A\",\"#19d3f3\",\"#FF6692\",\"#B6E880\",\"#FF97FF\",\"#FECB52\"],\"font\":{\"color\":\"#2a3f5f\"},\"hovermode\":\"closest\",\"hoverlabel\":{\"align\":\"left\"},\"paper_bgcolor\":\"white\",\"plot_bgcolor\":\"#E5ECF6\",\"polar\":{\"bgcolor\":\"#E5ECF6\",\"angularaxis\":{\"gridcolor\":\"white\",\"linecolor\":\"white\",\"ticks\":\"\"},\"radialaxis\":{\"gridcolor\":\"white\",\"linecolor\":\"white\",\"ticks\":\"\"}},\"ternary\":{\"bgcolor\":\"#E5ECF6\",\"aaxis\":{\"gridcolor\":\"white\",\"linecolor\":\"white\",\"ticks\":\"\"},\"baxis\":{\"gridcolor\":\"white\",\"linecolor\":\"white\",\"ticks\":\"\"},\"caxis\":{\"gridcolor\":\"white\",\"linecolor\":\"white\",\"ticks\":\"\"}},\"coloraxis\":{\"colorbar\":{\"outlinewidth\":0,\"ticks\":\"\"}},\"colorscale\":{\"sequential\":[[0.0,\"#0d0887\"],[0.1111111111111111,\"#46039f\"],[0.2222222222222222,\"#7201a8\"],[0.3333333333333333,\"#9c179e\"],[0.4444444444444444,\"#bd3786\"],[0.5555555555555556,\"#d8576b\"],[0.6666666666666666,\"#ed7953\"],[0.7777777777777778,\"#fb9f3a\"],[0.8888888888888888,\"#fdca26\"],[1.0,\"#f0f921\"]],\"sequentialminus\":[[0.0,\"#0d0887\"],[0.1111111111111111,\"#46039f\"],[0.2222222222222222,\"#7201a8\"],[0.3333333333333333,\"#9c179e\"],[0.4444444444444444,\"#bd3786\"],[0.5555555555555556,\"#d8576b\"],[0.6666666666666666,\"#ed7953\"],[0.7777777777777778,\"#fb9f3a\"],[0.8888888888888888,\"#fdca26\"],[1.0,\"#f0f921\"]],\"diverging\":[[0,\"#8e0152\"],[0.1,\"#c51b7d\"],[0.2,\"#de77ae\"],[0.3,\"#f1b6da\"],[0.4,\"#fde0ef\"],[0.5,\"#f7f7f7\"],[0.6,\"#e6f5d0\"],[0.7,\"#b8e186\"],[0.8,\"#7fbc41\"],[0.9,\"#4d9221\"],[1,\"#276419\"]]},\"xaxis\":{\"gridcolor\":\"white\",\"linecolor\":\"white\",\"ticks\":\"\",\"title\":{\"standoff\":15},\"zerolinecolor\":\"white\",\"automargin\":true,\"zerolinewidth\":2},\"yaxis\":{\"gridcolor\":\"white\",\"linecolor\":\"white\",\"ticks\":\"\",\"title\":{\"standoff\":15},\"zerolinecolor\":\"white\",\"automargin\":true,\"zerolinewidth\":2},\"scene\":{\"xaxis\":{\"backgroundcolor\":\"#E5ECF6\",\"gridcolor\":\"white\",\"linecolor\":\"white\",\"showbackground\":true,\"ticks\":\"\",\"zerolinecolor\":\"white\",\"gridwidth\":2},\"yaxis\":{\"backgroundcolor\":\"#E5ECF6\",\"gridcolor\":\"white\",\"linecolor\":\"white\",\"showbackground\":true,\"ticks\":\"\",\"zerolinecolor\":\"white\",\"gridwidth\":2},\"zaxis\":{\"backgroundcolor\":\"#E5ECF6\",\"gridcolor\":\"white\",\"linecolor\":\"white\",\"showbackground\":true,\"ticks\":\"\",\"zerolinecolor\":\"white\",\"gridwidth\":2}},\"shapedefaults\":{\"line\":{\"color\":\"#2a3f5f\"}},\"annotationdefaults\":{\"arrowcolor\":\"#2a3f5f\",\"arrowhead\":0,\"arrowwidth\":1},\"geo\":{\"bgcolor\":\"white\",\"landcolor\":\"#E5ECF6\",\"subunitcolor\":\"white\",\"showland\":true,\"showlakes\":true,\"lakecolor\":\"white\"},\"title\":{\"x\":0.05},\"mapbox\":{\"style\":\"light\"}}},\"legend\":{\"tracegroupgap\":0},\"margin\":{\"t\":50,\"l\":25,\"r\":25,\"b\":25}},                        {\"responsive\": true}                    ).then(function(){\n",
       "                            \n",
       "var gd = document.getElementById('de561d10-183b-4607-985b-711e2a464359');\n",
       "var x = new MutationObserver(function (mutations, observer) {{\n",
       "        var display = window.getComputedStyle(gd).display;\n",
       "        if (!display || display === 'none') {{\n",
       "            console.log([gd, 'removed!']);\n",
       "            Plotly.purge(gd);\n",
       "            observer.disconnect();\n",
       "        }}\n",
       "}});\n",
       "\n",
       "// Listen for the removal of the full notebook cells\n",
       "var notebookContainer = gd.closest('#notebook-container');\n",
       "if (notebookContainer) {{\n",
       "    x.observe(notebookContainer, {childList: true});\n",
       "}}\n",
       "\n",
       "// Listen for the clearing of the current output cell\n",
       "var outputEl = gd.closest('.output');\n",
       "if (outputEl) {{\n",
       "    x.observe(outputEl, {childList: true});\n",
       "}}\n",
       "\n",
       "                        })                };                });            </script>        </div>"
      ]
     },
     "metadata": {},
     "output_type": "display_data"
    }
   ],
   "source": [
    "import plotly.express as px\n",
    "\n",
    "data = df[(df['ward']=='BAY') & (df['date_raised']=='2022-01-1')].groupby(['subject','reason','type'], as_index=False)['index'].count()\n",
    "fig = px.treemap(data, path=[px.Constant(\"all\"), 'subject', 'reason','type'], values='index')\n",
    "fig.update_traces(root_color=\"lightgrey\")\n",
    "fig.update_layout(margin = dict(t=50, l=25, r=25, b=25))\n",
    "fig.show()"
   ]
  },
  {
   "cell_type": "code",
   "execution_count": 39,
   "id": "46626ff2-e55c-4573-854c-4c67ad0df4b0",
   "metadata": {},
   "outputs": [
    {
     "data": {
      "application/vnd.plotly.v1+json": {
       "config": {
        "plotlyServerURL": "https://plot.ly"
       },
       "data": [
        {
         "branchvalues": "total",
         "domain": {
          "x": [
           0,
           1
          ],
          "y": [
           0,
           1
          ]
         },
         "hovertemplate": "labels=%{label}<br>index=%{value}<br>parent=%{parent}<br>id=%{id}<extra></extra>",
         "ids": [
          "all/Bylaw Services | Service des Règlements Municipaux/Taxi/Accessible Taxi Refused Fare",
          "all/Garbage and Recycling | Déchets et Recyclage/Recycle Bins | Bacs de recyclage/Additional",
          "all/Roads and Transportation | Routes et Transports/Road and Safety Investigations/Adult School Crossing Guard",
          "all/Bylaw Services | Service des Règlements Municipaux/Taxi/Adverse Conduct - Other",
          "all/Bylaw Services | Service des Règlements Municipaux/Taxi/Adverse Conduct - Physical",
          "all/Bylaw Services | Service des Règlements Municipaux/Taxi/Adverse Conduct - Verbal",
          "all/Bylaw Services | Service des Règlements Municipaux/Parks/After Hours",
          "all/Bylaw Services | Service des Règlements Municipaux/Parks/Allocations Permit Holder Complaints",
          "all/Bylaw Services | Service des Règlements Municipaux/Animals/Animal/Lost Pet",
          "all/Bylaw Services | Service des Règlements Municipaux/Animals/Animals/Too Many",
          "all/Garbage and Recycling | Déchets et Recyclage/Solid Waste Collection | Collecte des Déchets/Apartment-Large Items",
          "all/Garbage and Recycling | Déchets et Recyclage/Solid Waste Collection | Collecte des Déchets/Apartments - Garbage | Appartement - Déchets",
          "all/Garbage and Recycling | Déchets et Recyclage/Solid Waste Collection | Collecte des Déchets/Apartments - Large Items",
          "all/Garbage and Recycling | Déchets et Recyclage/Solid Waste Collection | Collecte des Déchets/Apartments - Organics",
          "all/Garbage and Recycling | Déchets et Recyclage/Solid Waste Collection | Collecte des Déchets/Apts - Communication Mat. | Matériel de Communicat",
          "all/Garbage and Recycling | Déchets et Recyclage/Solid Waste Collection | Collecte des Déchets/Apts-Black Recycling Cart | Bac de recyclage noir",
          "all/Garbage and Recycling | Déchets et Recyclage/Solid Waste Collection | Collecte des Déchets/Apts-Blue Recycling Carts | Bacs de Recyclage Bleu",
          "all/Garbage and Recycling | Déchets et Recyclage/Solid Waste Collection | Collecte des Déchets/Apts-Large Item Pick-up | Collecte des Gros Articl",
          "all/Garbage and Recycling | Déchets et Recyclage/Solid Waste Collection | Collecte des Déchets/Apts-Organics",
          "all/Garbage and Recycling | Déchets et Recyclage/Solid Waste Collection | Collecte des Déchets/Apts-Recycling Grey Bins | Bacs de Recyclage Gris",
          "all/Garbage and Recycling | Déchets et Recyclage/Solid Waste Collection | Collecte des Déchets/Apts-Recycling Yellow Bin | Bacs de Recyclage Jaun",
          "all/Roads and Transportation | Routes et Transports/Infrastructure/Asset_Mgmt_Building_Parks",
          "all/Roads and Transportation | Routes et Transports/Infrastructure/Asset_Mgmt_Roads",
          "all/Roads and Transportation | Routes et Transports/Infrastructure/Asset_Mgmt_Sewer_Water",
          "all/Roads and Transportation | Routes et Transports/Infrastructure/Asset_Mgmt_Strat_Planning",
          "all/Bylaw Services | Service des Règlements Municipaux/Animals/Assist OHS",
          "all/Bylaw Services | Service des Règlements Municipaux/Property Standards/Assist Ottawa Police",
          "all/Water and the Environment | Eau et Environnement/Water - Hydrants/Assist Outside Agencies",
          "all/Water and the Environment | Eau et Environnement/Sewers/Backup From Sewer Cleaning",
          "all/Water and the Environment | Eau et Environnement/Sewers/Backyard Flooding",
          "all/Water and the Environment | Eau et Environnement/Sewers/Backyard Flooding - On Call",
          "all/Recreation and Culture | Loisirs et Culture/Park Maintenance SAP | Entretien des Parcs/Ball Diamond Field | Terrain de Balle",
          "all/Recreation and Culture | Loisirs et Culture/Park Maintenance SAP | Entretien des Parcs/Basketball Court | Terrain de Basket-Ball",
          "all/Bylaw Services | Service des Règlements Municipaux/Animals/Bat",
          "all/Water and the Environment | Eau et Environnement/Forestry - Tree Maintenance/Bees/Wasp Nest",
          "all/Garbage and Recycling | Déchets et Recyclage/Solid Waste Collection | Collecte des Déchets/Black Box - SWC | Boîte Noire - CDS",
          "all/Garbage and Recycling | Déchets et Recyclage/Solid Waste Collection | Collecte des Déchets/Blue Box - SWC | Boîte bleue - CDS",
          "all/Bylaw Services | Service des Règlements Municipaux/Property Standards/Board Up",
          "all/Roads and Transportation | Routes et Transports/Roads Maintenance | Entretien des Routes/Bridges | Ponts",
          "all/Water and the Environment | Eau et Environnement/Forestry - Tree Maintenance/Brush/Wood Removal",
          "all/Licenses and Permits | Licences et Permis/Building Code Services | Services du Code Bâtiment/Building Code Complaints | Plaintes Liées Au Code",
          "all/Licenses and Permits | Licences et Permis/Building Code Services | Services du Code Bâtiment/Building Code Inquiries | Ren Propos Code Bâtiment",
          "all/Bylaw Services | Service des Règlements Municipaux/Property Standards/Building Exterior",
          "all/Bylaw Services | Service des Règlements Municipaux/Property Standards/Building Interior",
          "all/Water and the Environment | Eau et Environnement/Sewers/Building Sewer Information",
          "all/Roads and Transportation | Routes et Transports/Roads Maintenance | Entretien des Routes/Bus Stop | Arrêt D'autobus",
          "all/Bylaw Services | Service des Règlements Municipaux/Property Standards/Business Premise Inspection",
          "all/Garbage and Recycling | Déchets et Recyclage/Solid Waste Collection | Collecte des Déchets/Calendar - Comments | Calendrier - Commentaires",
          "all/Garbage and Recycling | Déchets et Recyclage/Solid Waste Collection | Collecte des Déchets/Calendar - Got Wrong One | Calendrier - Mauvais Ca",
          "all/Garbage and Recycling | Déchets et Recyclage/Solid Waste Collection | Collecte des Déchets/Calendar to be Mailed | Demande D'envoi Par la Pos",
          "all/Licenses and Permits | Licences et Permis/Pet Registration | Enregistrement-animal domestiqe/Cancel Registration",
          "all/Water and the Environment | Eau et Environnement/Service Post Maintenance/Cap Post",
          "all/Bylaw Services | Service des Règlements Municipaux/Noise/Car Alarms",
          "all/Bylaw Services | Service des Règlements Municipaux/Bylaw Services | Service des Règlements Municipaux/Care of Streets | Soin des rues",
          "all/Bylaw Services | Service des Règlements Municipaux/Animals/Cat Being Held",
          "all/Bylaw Services | Service des Règlements Municipaux/Animals/Cat Disturbance",
          "all/Bylaw Services | Service des Règlements Municipaux/Animals/Cat Licensing",
          "all/Recreation and Culture | Loisirs et Culture/Park Maintenance SAP | Entretien des Parcs/Catch Basins | Puisards de Rue",
          "all/Water and the Environment | Eau et Environnement/Sewers/Catchbasin Investigation",
          "all/Roads and Transportation | Routes et Transports/Roads Maintenance | Entretien des Routes/Catchbasin/Maint. Hole | Puisards de Rue/Regard",
          "all/Water and the Environment | Eau et Environnement/Sewers/Cave In",
          "all/Water and the Environment | Eau et Environnement/Sewers/Cave In - On Call",
          "all/Garbage and Recycling | Déchets et Recyclage/Solid Waste Collection | Collecte des Déchets/Christmas Trees | Sapins de Noël",
          "all/Garbage and Recycling | Déchets et Recyclage/Solid Waste Collection | Collecte des Déchets/City Fac - Blue Recy Cart | Bac de recyclage bleu",
          "all/Bylaw Services | Service des Règlements Municipaux/Smoking/City Facility/Property",
          "all/Bylaw Services | Service des Règlements Municipaux/Signs/Civic Address",
          "all/Water and the Environment | Eau et Environnement/Forestry - Tree Planting/Commemorative Tree Program",
          "all/Bylaw Services | Service des Règlements Municipaux/Smoking/Common Area",
          "all/Water and the Environment | Eau et Environnement/Fleet | Services du Parc Automobile/Complaint Against Driver | Plainte Contre un Chauf",
          "all/Roads and Transportation | Routes et Transports/Parking Permits (CSC) | Permis de Stationnement/Consideration Permits | Permis de considération",
          "all/Bylaw Services | Service des Règlements Municipaux/Noise/Construction",
          "all/Licenses and Permits | Licences et Permis/Wildlife Conflicts | Conflits Avec la Faune/Coyotes",
          "all/Roads and Transportation | Routes et Transports/Roads Maintenance | Entretien des Routes/Culverts - City Owned | Ponceaux - Appartenants",
          "all/Roads and Transportation | Routes et Transports/Roads Maintenance | Entretien des Routes/Culverts - Private | Ponceaux - Privés",
          "all/Bylaw Services | Service des Règlements Municipaux/Bylaw Services | Service des Règlements Municipaux/Curbside Collection | Collecte en bordure de rue",
          "all/Roads and Transportation | Routes et Transports/Road and Safety Investigations/Curbside Regulations",
          "all/Water and the Environment | Eau et Environnement/Information/Customer Information",
          "all/Water and the Environment | Eau et Environnement/Forestry - Distinctive Tree Permit/DTP Bylaw Information | PEAD Renseignements",
          "all/Bylaw Services | Service des Règlements Municipaux/Care of Streets/Damage",
          "all/Bylaw Services | Service des Règlements Municipaux/Parks/Damage/Dumping",
          "all/Bylaw Services | Service des Règlements Municipaux/Property Standards/Dead Dangerous Tree",
          "all/Water and the Environment | Eau et Environnement/Forestry - Tree Maintenance/Dead Tree",
          "all/Roads and Transportation | Routes et Transports/Parking Ticket Inquiry | demandes Relatives aux Co/Defective Equipment | Équipement Défectueux",
          "all/Bylaw Services | Service des Règlements Municipaux/Noise/Delivery/Load/Unload",
          "all/Bylaw Services | Service des Règlements Municipaux/Property Standards/Derelict Vehicle",
          "all/Roads and Transportation | Routes et Transports/Parking Control | Gestion des Stationnements/Designated Parking | Stationnement Désigné",
          "all/Water and the Environment | Eau et Environnement/Forestry - Tree Maintenance/Determine Health",
          "all/Water and the Environment | Eau et Environnement/Forestry - Tree Maintenance/Determine Ownership",
          "all/Water and the Environment | Eau et Environnement/Forestry - Distinctive Tree Permit/Distinctive Tree Permit",
          "all/Water and the Environment | Eau et Environnement/Drainage/Ditch | Fossés",
          "all/Roads and Transportation | Routes et Transports/Roads Maintenance | Entretien des Routes/Ditches | Fossés",
          "all/Bylaw Services | Service des Règlements Municipaux/Animals/Dog Barking",
          "all/Bylaw Services | Service des Règlements Municipaux/Animals/Dog Being Held",
          "all/Bylaw Services | Service des Règlements Municipaux/Animals/Dog Bite",
          "all/Bylaw Services | Service des Règlements Municipaux/Animals/Dog Licensing",
          "all/Bylaw Services | Service des Règlements Municipaux/Animals/Dog Muzzle",
          "all/Bylaw Services | Service des Règlements Municipaux/Animals/Dog at Large-Current",
          "all/Bylaw Services | Service des Règlements Municipaux/Animals/Dog at Large-Prior",
          "all/Bylaw Services | Service des Règlements Municipaux/Animals/Dog in Park",
          "all/Water and the Environment | Eau et Environnement/Sewers/Drain Trouble Basement Flooding",
          "all/Water and the Environment | Eau et Environnement/Forestry - Tree Maintenance/Driveway/Sidewalk Heaving",
          "all/Bylaw Services | Service des Règlements Municipaux/Care of Streets/Dumping on Road",
          "all/Bylaw Services | Service des Règlements Municipaux/Signs/Election",
          "all/Bylaw Services | Service des Règlements Municipaux/Property Standards/Elevators",
          "all/Roads and Transportation | Routes et Transports/Traffic Management | Gestion de la Circulation/Encroachment Permit Request",
          "all/Bylaw Services | Service des Règlements Municipaux/Animals/Exotic",
          "all/Bylaw Services | Service des Règlements Municipaux/Property Standards/Exterior Debris/Waste",
          "all/Water and the Environment | Eau et Environnement/Forestry - Tree Maintenance/Fallen Limb",
          "all/Water and the Environment | Eau et Environnement/Forestry - Tree Maintenance/Fallen Tree",
          "all/Bylaw Services | Service des Règlements Municipaux/Taxi/Fare Complaint",
          "all/Bylaw Services | Service des Règlements Municipaux/Property Standards/Fence-Disrepair",
          "all/Recreation and Culture | Loisirs et Culture/Park Maintenance SAP | Entretien des Parcs/Fence/Wall Chain Link | Clôture/Mur À Mailles Losa",
          "all/Recreation and Culture | Loisirs et Culture/Park Maintenance SAP | Entretien des Parcs/Fence/Wall Wall | Clôture/Mur - Mur",
          "all/Recreation and Culture | Loisirs et Culture/Park Maintenance SAP | Entretien des Parcs/Fence/Wall Wood | Clôture/Mur - Bois",
          "all/Roads and Transportation | Routes et Transports/Roads Maintenance | Entretien des Routes/Fences/Walls | Clôtures/Murs",
          "all/Bylaw Services | Service des Règlements Municipaux/Noise/Festival",
          "all/Bylaw Services | Service des Règlements Municipaux/Fireworks/Fireworks",
          "all/Bylaw Services | Service des Règlements Municipaux/Licensing/Food Premise",
          "all/Licenses and Permits | Licences et Permis/Food Premise/Food Premise Inquiry",
          "all/Water and the Environment | Eau et Environnement/Forestry - Tree Maintenance/Foundation Damage",
          "all/Recreation and Culture | Loisirs et Culture/Park Maintenance SAP | Entretien des Parcs/Furniture Picnic Table | Mobilier Urbain Table",
          "all/Recreation and Culture | Loisirs et Culture/Park Maintenance SAP | Entretien des Parcs/Furniture Waste Recept. | Mobilier Urbain Poubelle",
          "all/Recreation and Culture | Loisirs et Culture/Park Maintenance SAP | Entretien des Parcs/Furniture/Bench/Bleacher | Mobilier Urbain/Banc/Gr",
          "all/Bylaw Services | Service des Règlements Municipaux/Licensing/Garage Sale",
          "all/Bylaw Services | Service des Règlements Municipaux/Noise/Garbage",
          "all/Garbage and Recycling | Déchets et Recyclage/Solid Waste Collection | Collecte des Déchets/Garbage - SWC | Déchets - CDS",
          "all/Miscellaneous/New Development/General",
          "all/Water and the Environment | Eau et Environnement/Water Meters/General Complaint - Meter",
          "all/Water and the Environment | Eau et Environnement/Forestry - Tree Planting/General Tree Planting",
          "all/Bylaw Services | Service des Règlements Municipaux/Bylaw Services | Service des Règlements Municipaux/Graffiti",
          "all/Bylaw Services | Service des Règlements Municipaux/Property Standards/Grass Long/Weeds",
          "all/Roads and Transportation | Routes et Transports/Roads Maintenance | Entretien des Routes/Guardrails | Glissières de Sécurité",
          "all/Bylaw Services | Service des Règlements Municipaux/Noise/H-Vac/Street Sweeper",
          "all/Water and the Environment | Eau et Environnement/Forestry - Tree Maintenance/Hanging/Broken Branches",
          "all/Social Community Service | Services Sociaux et Com/Graffiti/Hate | Haineux",
          "all/Bylaw Services | Service des Règlements Municipaux/Property Standards/Heat-Insufficient",
          "all/Bylaw Services | Service des Règlements Municipaux/Property Standards/Heat-Mechanical",
          "all/Bylaw Services | Service des Règlements Municipaux/Fences/Height",
          "all/Bylaw Services | Service des Règlements Municipaux/Smoking/Hospital/Long Term Care",
          "all/Water and the Environment | Eau et Environnement/Water - Hydrants/Hydrant Investigation",
          "all/Water and the Environment | Eau et Environnement/Water - Hydrants/Hydrant Investigation - On Call",
          "all/Water and the Environment | Eau et Environnement/Water - Hydrants/Hydrant Snow Removal",
          "all/Water and the Environment | Eau et Environnement/Water - Hydrants/Hydrant Thaw/Pump - On Call",
          "all/Bylaw Services | Service des Règlements Municipaux/Property Standards/Ice/Snow Build Up",
          "all/Bylaw Services | Service des Règlements Municipaux/Noise/Idling",
          "all/Water and the Environment | Eau et Environnement/Forestry - Tree Planting/Infill Tree Planting Inspection",
          "all/Bylaw Services | Service des Règlements Municipaux/Licensing/Info - Business Licensing Enforcement",
          "all/Bylaw Services | Service des Règlements Municipaux/Zoning Enforcement/Info - Zoning Enforcement",
          "all/Bylaw Services | Service des Règlements Municipaux/Animals/Info Animals",
          "all/Bylaw Services | Service des Règlements Municipaux/Care of Streets/Info-Care of Streets",
          "all/Bylaw Services | Service des Règlements Municipaux/Fences/Info-Fences",
          "all/Bylaw Services | Service des Règlements Municipaux/Fireworks/Info-Fireworks",
          "all/Bylaw Services | Service des Règlements Municipaux/Noise/Info-Noise",
          "all/Bylaw Services | Service des Règlements Municipaux/Parks/Info-Parks",
          "all/Bylaw Services | Service des Règlements Municipaux/Property Standards/Info-Property Standards",
          "all/Bylaw Services | Service des Règlements Municipaux/Signs/Info-Signs",
          "all/Bylaw Services | Service des Règlements Municipaux/Taxi/Info-Taxis",
          "all/Bylaw Services | Service des Règlements Municipaux/Alternate Response/Information",
          "all/Bylaw Services | Service des Règlements Municipaux/Animals/Injured Animal",
          "all/Water and the Environment | Eau et Environnement/Forestry - Tree Maintenance/Insect Infestation",
          "all/Water and the Environment | Eau et Environnement/Sewers/Inspection Of Contractor",
          "all/Water and the Environment | Eau et Environnement/Sewers/Inspection Of Contractor - On Call",
          "all/Roads and Transportation | Routes et Transports/Road and Safety Investigations/Intersection Control",
          "all/Roads and Transportation | Routes et Transports/Parking Control | Gestion des Stationnements/Intersections",
          "all/Water and the Environment | Eau et Environnement/Water Quality/Investigate Discoloured Water",
          "all/Water and the Environment | Eau et Environnement/Water Quality/Investigate Discoloured Water - On Call",
          "all/Bylaw Services | Service des Règlements Municipaux/Licensing/Itinerant Seller (Salesperson)",
          "all/Bylaw Services | Service des Règlements Municipaux/Licensing/Kennel/Pet Shop",
          "all/Roads and Transportation | Routes et Transports/Parking Control | Gestion des Stationnements/Laneways | Allées",
          "all/Water and the Environment | Eau et Environnement/Reinstatment/Lawn Investigation",
          "all/Water and the Environment | Eau et Environnement/Information/Lead Pipe Replacement Program",
          "all/Water and the Environment | Eau et Environnement/Water Quality/Lead Testing",
          "all/Garbage and Recycling | Déchets et Recyclage/Solid Waste Collection | Collecte des Déchets/Leaf and Yard Waste | Feuilles et Résidus de Jardi",
          "all/Water and the Environment | Eau et Environnement/Possible Leak/Leak Investigation",
          "all/Water and the Environment | Eau et Environnement/Possible Leak/Leak Investigation - On Call",
          "all/Water and the Environment | Eau et Environnement/Water Meters/Leaking",
          "all/Water and the Environment | Eau et Environnement/Water Meters/Leaking - On Call",
          "all/Water and the Environment | Eau et Environnement/Forestry - Tree Maintenance/Leaning/Uprooting",
          "all/Roads and Transportation | Routes et Transports/Traffic Operations | Opérations de la Circulation/Lights | Lumières",
          "all/Bylaw Services | Service des Règlements Municipaux/Care of Streets/Line of Sight",
          "all/Bylaw Services | Service des Règlements Municipaux/Animals/Livestock at Large",
          "all/Bylaw Services | Service des Règlements Municipaux/Fences/Location",
          "all/Bylaw Services | Service des Règlements Municipaux/Zoning Enforcement/Location of Accessory Buildings",
          "all/Water and the Environment | Eau et Environnement/Sewers/Lost Keys or Animals in Sewers",
          "all/Bylaw Services | Service des Règlements Municipaux/Noise/Machinery-AirCond/Fan/Pool/Mower/Generator",
          "all/Bylaw Services | Service des Règlements Municipaux/Care of Streets/Maintenance",
          "all/Roads and Transportation | Routes et Transports/Parking Control | Gestion des Stationnements/Miscellaneous - Parking | Divers - Stationnement",
          "all/Garbage and Recycling | Déchets et Recyclage/Recycle Bins | Bacs de recyclage/Missing/Stolen",
          "all/Bylaw Services | Service des Règlements Municipaux/Care of Streets/Mud on Road",
          "all/Bylaw Services | Service des Règlements Municipaux/Noise/Muffler",
          "all/Water and the Environment | Eau et Environnement/Drainage/Municipal Drain | Drain Municipal",
          "all/Bylaw Services | Service des Règlements Municipaux/Noise/Music",
          "all/Water and the Environment | Eau et Environnement/Forestry - Tree Planting/Naturalization",
          "all/Bylaw Services | Service des Règlements Municipaux/Property Standards/Needles/Syringes",
          "all/Garbage and Recycling | Déchets et Recyclage/Recycle Bins | Bacs de recyclage/New Home",
          "all/Roads and Transportation | Routes et Transports/Road and Safety Investigations/New TCS/Roundabout - Inquiry",
          "all/Water and the Environment | Eau et Environnement/Forestry - Tree Planting/New Tree Maintenance",
          "all/Roads and Transportation | Routes et Transports/Parking Control | Gestion des Stationnements/No Parking | Aucun Stationnement",
          "all/Roads and Transportation | Routes et Transports/Parking Control | Gestion des Stationnements/No Stopping | Aucun Arrêt",
          "all/Bylaw Services | Service des Règlements Municipaux/Taxi/Non-Accessible Taxi Refused Fare",
          "all/Bylaw Services | Service des Règlements Municipaux/Zoning Enforcement/Non-Permitted Use",
          "all/Social Community Service | Services Sociaux et Com/Graffiti/OC Transpo",
          "all/City Hall | Hôtel de Ville/RPAM (Buildings Only) | GBI (Immeubles Seulement)/OC Transpo",
          "all/Water and the Environment | Eau et Environnement/Sewers/Odours",
          "all/Water and the Environment | Eau et Environnement/Sewers/Odours-Outdoors",
          "all/Social Community Service | Services Sociaux et Com/Graffiti/Offensive | Offensant",
          "all/Bylaw Services | Service des Règlements Municipaux/Signs/On Road Allowance",
          "all/Water and the Environment | Eau et Environnement/No Water/Poor Pressure/On Temporary Service - No",
          "all/Water and the Environment | Eau et Environnement/No Water/Poor Pressure/On Temporary Service - Yes - On Call",
          "all/Bylaw Services | Service des Règlements Municipaux/Bylaw Services | Service des Règlements Municipaux/Open Air Fire | Feux en Plein Air",
          "all/Bylaw Services | Service des Règlements Municipaux/Property Standards/Open Excavation",
          "all/Garbage and Recycling | Déchets et Recyclage/Solid Waste Collection | Collecte des Déchets/Organics-SWC | Biologiques-CDS",
          "all/Recreation and Culture | Loisirs et Culture/Park Maintenance SAP | Entretien des Parcs/Other - Bridge | Autre - Pont",
          "all/Recreation and Culture | Loisirs et Culture/Park Maintenance SAP | Entretien des Parcs/Other - Shelter/Kiosk | Autre - Abri/Kiosque",
          "all/Bylaw Services | Service des Règlements Municipaux/Bylaw Services | Service des Règlements Municipaux/Other | Autre",
          "all/Roads and Transportation | Routes et Transports/Parking Ticket Inquiry | demandes Relatives aux Co/Other | Autre",
          "all/City Hall | Hôtel de Ville/RPAM (Buildings Only) | GBI (Immeubles Seulement)/Ottawa",
          "all/Bylaw Services | Service des Règlements Municipaux/Noise/Outdoor Patio",
          "all/Recreation and Culture | Loisirs et Culture/Park Maintenance SAP | Entretien des Parcs/Outdoor Rink | Patinoire Extérieure",
          "all/Bylaw Services | Service des Règlements Municipaux/Clothing Donation Bins/Overflowing/Maintenance",
          "all/Roads and Transportation | Routes et Transports/Parking Control | Gestion des Stationnements/Overnight (Winter Only) | Stationnement de Nuit",
          "all/Roads and Transportation | Routes et Transports/Parking Control | Gestion des Stationnements/Oversized Vehicle- Street",
          "all/Roads and Transportation | Routes et Transports/Parking Control | Gestion des Stationnements/Overtime Parking | Stationnement Expiré",
          "all/City Hall | Hôtel de Ville/Provincial Offences (POA)|Infractions Provinciales/POA Inquiry",
          "all/Bylaw Services | Service des Règlements Municipaux/Zoning Enforcement/Parking - Oversize Vehicle",
          "all/Bylaw Services | Service des Règlements Municipaux/Zoning Enforcement/Parking - Yard",
          "all/Recreation and Culture | Loisirs et Culture/Park Maintenance SAP | Entretien des Parcs/Parking Lot | Stationnement",
          "all/Roads and Transportation | Routes et Transports/Parking Ticket Inquiry | demandes Relatives aux Co/Parking Permit | Permis de Stationnement",
          "all/Roads and Transportation | Routes et Transports/Parking Permits (CSC) | Permis de Stationnement/Parking Permits CSC | Permis de Stationnement",
          "all/Recreation and Culture | Loisirs et Culture/Park Maintenance SAP | Entretien des Parcs/Parks Operations General | Opérations de parcs gén",
          "all/Bylaw Services | Service des Règlements Municipaux/Bylaw Services | Service des Règlements Municipaux/Parks | Parcs",
          "all/Roads and Transportation | Routes et Transports/Traffic Operations | Opérations de la Circulation/Pavement Info",
          "all/Roads and Transportation | Routes et Transports/Traffic Operations | Opérations de la Circulation/Pavement Maintenance",
          "all/Roads and Transportation | Routes et Transports/Road and Safety Investigations/Pavement Markings - Review",
          "all/Roads and Transportation | Routes et Transports/Parking Equipment | Équipement de Stationnement/Pay & Display Machine | Distributrice Payez et Aff",
          "all/Roads and Transportation | Routes et Transports/Road and Safety Investigations/Pedestrian Safety Review",
          "all/Licenses and Permits | Licences et Permis/Pet Registration | Enregistrement-animal domestiqe/Pet Registration Info",
          "all/Licenses and Permits | Licences et Permis/Pet Registration | Enregistrement-animal domestiqe/Pet Registration Update",
          "all/Bylaw Services | Service des Règlements Municipaux/Care of Streets/Petroleum Products",
          "all/Bylaw Services | Service des Règlements Municipaux/Animals/Pit Bull",
          "all/Recreation and Culture | Loisirs et Culture/Park Maintenance SAP | Entretien des Parcs/Play Apparatus | Équipement de Jeu",
          "all/Bylaw Services | Service des Règlements Municipaux/Care of Streets/Playing on Road",
          "all/Roads and Transportation | Routes et Transports/Traffic Management | Gestion de la Circulation/Policy / General Info",
          "all/Bylaw Services | Service des Règlements Municipaux/Property Standards/Pool Fence",
          "all/Licenses and Permits | Licences et Permis/Building Code Services | Services du Code Bâtiment/Pool Fence-Private | Clôture de Piscine - Privée",
          "all/Bylaw Services | Service des Règlements Municipaux/Signs/Portable",
          "all/Licenses and Permits | Licences et Permis/Pet Registration | Enregistrement-animal domestiqe/Portal Transaction Issue",
          "all/Bylaw Services | Service des Règlements Municipaux/Signs/Postering",
          "all/Roads and Transportation | Routes et Transports/Roads Maintenance | Entretien des Routes/Private Property | Propriété Privée",
          "all/Bylaw Services | Service des Règlements Municipaux/Taxi/Private Transportation Company",
          "all/Water and the Environment | Eau et Environnement/Forestry - Tree Maintenance/Property Damage - Operations",
          "all/Bylaw Services | Service des Règlements Municipaux/Animals/Protective Care",
          "all/Health and Safety | Santé et Sécurité/Health | Santé/Public Health Inspector | Inspecteur en Santé Pub",
          "all/Roads and Transportation | Routes et Transports/Traffic Management | Gestion de la Circulation/ROW Traffic Issues",
          "all/Health and Safety | Santé et Sécurité/Discarded Needles | Aiguilles Abandonnées/RPAM - City of Ottawa | GBI - Ville d'Ottawa",
          "all/Roads and Transportation | Routes et Transports/Road and Safety Investigations/Railway Crossing",
          "all/Water and the Environment | Eau et Environnement/Sewers/Rat Control",
          "all/Bylaw Services | Service des Règlements Municipaux/Property Standards/Rats-Exterior",
          "all/Bylaw Services | Service des Règlements Municipaux/Property Standards/Rats-Interior",
          "all/Bylaw Services | Service des Règlements Municipaux/Signs/Real Estate",
          "all/Water and the Environment | Eau et Environnement/Water Meters/Remote Reader End Point",
          "all/Licenses and Permits | Licences et Permis/Pet Registration | Enregistrement-animal domestiqe/Replacement Tag",
          "all/Roads and Transportation | Routes et Transports/Traffic Data/Request for Collision Data",
          "all/Roads and Transportation | Routes et Transports/Traffic Data/Request for Volume/Speed Data",
          "all/Garbage and Recycling | Déchets et Recyclage/Solid Waste Collection | Collecte des Déchets/Retail-All Container(46L) | Détaillant-Tous Conten",
          "all/Garbage and Recycling | Déchets et Recyclage/Solid Waste Collection | Collecte des Déchets/Retail-All Container(80L) | Détaillant-Tous Conten",
          "all/Garbage and Recycling | Déchets et Recyclage/Solid Waste Collection | Collecte des Déchets/Retail-Black Box | Détaillant-Boîte Noire",
          "all/Garbage and Recycling | Déchets et Recyclage/Solid Waste Collection | Collecte des Déchets/Retail-Blue & Black Box | Détaillant-boîte bleue",
          "all/Garbage and Recycling | Déchets et Recyclage/Solid Waste Collection | Collecte des Déchets/Retail-Blue Box | Détaillant-Boîte Bleue",
          "all/Garbage and Recycling | Déchets et Recyclage/Solid Waste Collection | Collecte des Déchets/Retail-Green 80L & KC | Détaillant-Vert 80L et CC",
          "all/Garbage and Recycling | Déchets et Recyclage/Solid Waste Collection | Collecte des Déchets/Retail-Green Bin 46L | Détaillant-Bac Vert 46L",
          "all/Garbage and Recycling | Déchets et Recyclage/Solid Waste Collection | Collecte des Déchets/Retail-Green Bin 80L | Détaillant-Bac Vert 80L",
          "all/Garbage and Recycling | Déchets et Recyclage/Solid Waste Collection | Collecte des Déchets/Retail-Kitchen Container | Détaillant-Contenance",
          "all/Bylaw Services | Service des Règlements Municipaux/Property Standards/Right of Entry Permit",
          "all/Roads and Transportation | Routes et Transports/Roads Maintenance | Entretien des Routes/Road Boulevard/Easement | Route - Boulevard/Servit",
          "all/Roads and Transportation | Routes et Transports/Roads Maintenance | Entretien des Routes/Road Curb/Gutter | Route - Bordure/Caniveau",
          "all/Roads and Transportation | Routes et Transports/Traffic Management | Gestion de la Circulation/Road Cut Complaint",
          "all/Water and the Environment | Eau et Environnement/Reinstatment/Road Cut Investigation",
          "all/Water and the Environment | Eau et Environnement/Reinstatment/Road Cut Investigation - On Call",
          "all/Roads and Transportation | Routes et Transports/Roads Maintenance | Entretien des Routes/Road Flasher/Barricade | Feu Clignotant/Barricade",
          "all/Roads and Transportation | Routes et Transports/Roads Maintenance | Entretien des Routes/Road Median/Island | Route - Terre-Plein Central",
          "all/Roads and Transportation | Routes et Transports/Roads Maintenance | Entretien des Routes/Road Operations General | Opérations Routières Gén",
          "all/Roads and Transportation | Routes et Transports/Roads Maintenance | Entretien des Routes/Road Shoulder | Accotement",
          "all/Roads and Transportation | Routes et Transports/Roads Maintenance | Entretien des Routes/Road Travelled Surface | Route - Aires de Circulat",
          "all/Roads and Transportation | Routes et Transports/Parking Control | Gestion des Stationnements/Roads/Sidewalks | Rues/Trottoirs",
          "all/Bylaw Services | Service des Règlements Municipaux/Zoning Enforcement/Rooming House",
          "all/Roads and Transportation | Routes et Transports/Parking Ticket Inquiry | demandes Relatives aux Co/Same Infract. within 3 hr | Même Infraction en 3",
          "all/Roads and Transportation | Routes et Transports/Road and Safety Investigations/School Zone Safety",
          "all/Garbage and Recycling | Déchets et Recyclage/Solid Waste Collection | Collecte des Déchets/Schools-Green Bin | Écoles-Bac Vert",
          "all/Water and the Environment | Eau et Environnement/Infrastructure Broken by Contractor/Service",
          "all/Water and the Environment | Eau et Environnement/Service Post Maintenance/Service Post Adjustment",
          "all/Water and the Environment | Eau et Environnement/Infrastructure Broken by Contractor/Sewer",
          "all/Bylaw Services | Service des Règlements Municipaux/Smoking/Shisha/Hookah",
          "all/Bylaw Services | Service des Règlements Municipaux/Property Standards/Shopping Cart",
          "all/Bylaw Services | Service des Règlements Municipaux/Noise/Shouting",
          "all/Recreation and Culture | Loisirs et Culture/Park Maintenance SAP | Entretien des Parcs/Shrubs | Buissons",
          "all/Recreation and Culture | Loisirs et Culture/Park Maintenance SAP | Entretien des Parcs/Sidewalk/Pathways/trails | Trottoirs Ou Sentiers",
          "all/Roads and Transportation | Routes et Transports/Roads Maintenance | Entretien des Routes/Sidewalks/Pathways/Trails | Trottoirs/Sentiers",
          "all/Water and the Environment | Eau et Environnement/Forestry - Tree Maintenance/Sight Line/Obstructed City Sign",
          "all/Recreation and Culture | Loisirs et Culture/Park Maintenance SAP | Entretien des Parcs/Sign | Panneau",
          "all/Roads and Transportation | Routes et Transports/Traffic Operations | Opérations de la Circulation/Sign-Info",
          "all/Roads and Transportation | Routes et Transports/Traffic Operations | Opérations de la Circulation/Sign-Leaning",
          "all/Roads and Transportation | Routes et Transports/Traffic Operations | Opérations de la Circulation/Sign-Other",
          "all/Roads and Transportation | Routes et Transports/Traffic Operations | Opérations de la Circulation/Sign-Priority",
          "all/Roads and Transportation | Routes et Transports/Road and Safety Investigations/Signage Review",
          "all/Roads and Transportation | Routes et Transports/Traffic Operations | Opérations de la Circulation/Signal-Audible",
          "all/Roads and Transportation | Routes et Transports/Traffic Operations | Opérations de la Circulation/Signal-Bulb Out",
          "all/Roads and Transportation | Routes et Transports/Traffic Operations | Opérations de la Circulation/Signal-Control",
          "all/Roads and Transportation | Routes et Transports/Traffic Operations | Opérations de la Circulation/Signal-Engineer",
          "all/Roads and Transportation | Routes et Transports/Traffic Operations | Opérations de la Circulation/Signal-Flash",
          "all/Roads and Transportation | Routes et Transports/Traffic Operations | Opérations de la Circulation/Signal-Flasher",
          "all/Roads and Transportation | Routes et Transports/Traffic Operations | Opérations de la Circulation/Signal-Info",
          "all/Roads and Transportation | Routes et Transports/Traffic Operations | Opérations de la Circulation/Signal-Light Out",
          "all/Roads and Transportation | Routes et Transports/Traffic Operations | Opérations de la Circulation/Signal-Other",
          "all/Roads and Transportation | Routes et Transports/Traffic Operations | Opérations de la Circulation/Signal-Overhead Sign",
          "all/Roads and Transportation | Routes et Transports/Traffic Operations | Opérations de la Circulation/Signal-Pedestrian Head",
          "all/Roads and Transportation | Routes et Transports/Traffic Operations | Opérations de la Circulation/Signal-Pole",
          "all/Roads and Transportation | Routes et Transports/Traffic Operations | Opérations de la Circulation/Signal-Power Outage",
          "all/Roads and Transportation | Routes et Transports/Traffic Operations | Opérations de la Circulation/Signal-Push Button",
          "all/Roads and Transportation | Routes et Transports/Traffic Operations | Opérations de la Circulation/Signal-Timing",
          "all/Bylaw Services | Service des Règlements Municipaux/Zoning Enforcement/Site Plan Enforcement",
          "all/Bylaw Services | Service des Règlements Municipaux/Taxi/Skipped Fare",
          "all/Bylaw Services | Service des Règlements Municipaux/Smoking/Smoking-info",
          "all/Bylaw Services | Service des Règlements Municipaux/Licensing/Snow Plow Contractor",
          "all/Bylaw Services | Service des Règlements Municipaux/Care of Streets/Snow on Road/Sidewalk",
          "all/Garbage and Recycling | Déchets et Recyclage/Solid Waste Collection | Collecte des Déchets/Special Consideration | Programme spécial",
          "all/Bylaw Services | Service des Règlements Municipaux/Noise/Special Event",
          "all/Roads and Transportation | Routes et Transports/Parking Permits (CSC) | Permis de Stationnement/Special Events | Évènements Spéciaux",
          "all/Roads and Transportation | Routes et Transports/Road and Safety Investigations/Speed Concern",
          "all/Roads and Transportation | Routes et Transports/Road and Safety Investigations/Speed Display Board",
          "all/Roads and Transportation | Routes et Transports/Road and Safety Investigations/Speed Limit Change",
          "all/Water and the Environment | Eau et Environnement/Sewers/Spills",
          "all/Water and the Environment | Eau et Environnement/Sewers/Spills - On Call",
          "all/Water and the Environment | Eau et Environnement/Forestry - Tree Maintenance/Split/Cracked/Cavity",
          "all/Recreation and Culture | Loisirs et Culture/Park Maintenance SAP | Entretien des Parcs/Sports Field | Terrain de Sport",
          "all/Bylaw Services | Service des Règlements Municipaux/Noise/Squeal Tires",
          "all/Bylaw Services | Service des Règlements Municipaux/Animals/Stoop and Scoop",
          "all/Water and the Environment | Eau et Environnement/Forestry - Tree Maintenance/Stump Removal",
          "all/Water and the Environment | Eau et Environnement/Drainage/Surface Drainage | Drainage de L'eau de Surface",
          "all/Health and Safety | Santé et Sécurité/Discarded Needles | Aiguilles Abandonnées/Surface Ops-Parks | Opérations de Surface - Parcs",
          "all/Health and Safety | Santé et Sécurité/Discarded Needles | Aiguilles Abandonnées/Surface Ops-Roads | Opérations de Surface - Routes",
          "all/Bylaw Services | Service des Règlements Municipaux/Property Standards/Swimming Pool-Water",
          "all/Roads and Transportation | Routes et Transports/Parking Ticket Inquiry | demandes Relatives aux Co/Technical Errors | Erreurs Techniques",
          "all/Recreation and Culture | Loisirs et Culture/Park Maintenance SAP | Entretien des Parcs/Tennis Court | Terrain de Tennis",
          "all/Bylaw Services | Service des Règlements Municipaux/Smoking/Tobacco Retailer - Sales to Minor",
          "all/Bylaw Services | Service des Règlements Municipaux/Smoking/Tobacco Retailer - Signage Request",
          "all/Bylaw Services | Service des Règlements Municipaux/Smoking/Tobacco Retailer - Signage Violation",
          "all/Water and the Environment | Eau et Environnement/Forestry - Tree Maintenance/Too Big/Unsightly",
          "all/Roads and Transportation | Routes et Transports/Parking Ticket Inquiry | demandes Relatives aux Co/Tourist Courtesy Policy | Politique de Courtoisie",
          "all/Roads and Transportation | Routes et Transports/Road and Safety Investigations/Traffic Operational Review",
          "all/Water and the Environment | Eau et Environnement/Forestry - Tree Maintenance/Tree Maintenance Information",
          "all/Water and the Environment | Eau et Environnement/Forestry - Tree Planting/Tree Planting Information",
          "all/Water and the Environment | Eau et Environnement/Forestry - Tree Planting/Trees in Trust",
          "all/Bylaw Services | Service des Règlements Municipaux/Bylaw Services | Service des Règlements Municipaux/Trees | Arbres",
          "all/Roads and Transportation | Routes et Transports/Road and Safety Investigations/Truck Routes",
          "all/Recreation and Culture | Loisirs et Culture/Park Maintenance SAP | Entretien des Parcs/Turf | Pelouse",
          "all/Bylaw Services | Service des Règlements Municipaux/Parks/Unauthorized Activities",
          "all/Water and the Environment | Eau et Environnement/Forestry - Tree Maintenance/Unauthorized Tree Removal",
          "all/Roads and Transportation | Routes et Transports/Parking Ticket Inquiry | demandes Relatives aux Co/Valid Pay & Display Stub | Coupon de Stationnement",
          "all/Social Community Service | Services Sociaux et Com/Graffiti/Vandalism | Vandalisme",
          "all/Bylaw Services | Service des Règlements Municipaux/Noise/Vehicle Repair",
          "all/Bylaw Services | Service des Règlements Municipaux/Parks/Vehicles In Park",
          "all/Roads and Transportation | Routes et Transports/Road and Safety Investigations/Visibility Review",
          "all/Roads and Transportation | Routes et Transports/Roads Maintenance | Entretien des Routes/Waste Receptacle | Poubelle",
          "all/Garbage and Recycling | Déchets et Recyclage/Solid Waste Collection | Collecte des Déchets/Waste Receptacle-Roadside | Poubelle bord de route",
          "all/Recreation and Culture | Loisirs et Culture/Park Maintenance SAP | Entretien des Parcs/Water Feature/Beach | Plage",
          "all/Recreation and Culture | Loisirs et Culture/Park Maintenance SAP | Entretien des Parcs/Water Feature/Fountain | Fontaine",
          "all/Recreation and Culture | Loisirs et Culture/Park Maintenance SAP | Entretien des Parcs/Water Feature/Ravine/Crk | Ravin/Ruisseau",
          "all/Recreation and Culture | Loisirs et Culture/Park Maintenance SAP | Entretien des Parcs/Water Feature/Spray Pad | Aire de Jets Deau",
          "all/Recreation and Culture | Loisirs et Culture/Park Maintenance SAP | Entretien des Parcs/Water Feature/Wading Pool | Pataugeoire",
          "all/Water and the Environment | Eau et Environnement/Water Quality/Water Quality",
          "all/Water and the Environment | Eau et Environnement/Water Turn On/Off/Water Turn On/Off",
          "all/Water and the Environment | Eau et Environnement/Infrastructure Broken by Contractor/Watermain",
          "all/Water and the Environment | Eau et Environnement/Infrastructure Broken by Contractor/Watermain - On Call",
          "all/Roads and Transportation | Routes et Transports/Roads Maintenance | Entretien des Routes/Waterways | Cours d'eau",
          "all/Bylaw Services | Service des Règlements Municipaux/Smoking/Workplace",
          "all/Roads and Transportation | Routes et Transports/Parking Ticket Inquiry | demandes Relatives aux Co/Wrong Person Charged | Mauvaise Personne Inculpée",
          "all/Roads and Transportation | Routes et Transports/Parking Control | Gestion des Stationnements/Zones",
          "all/Bylaw Services | Service des Règlements Municipaux/Alternate Response",
          "all/Bylaw Services | Service des Règlements Municipaux/Animals",
          "all/Licenses and Permits | Licences et Permis/Building Code Services | Services du Code Bâtiment",
          "all/Bylaw Services | Service des Règlements Municipaux/Bylaw Services | Service des Règlements Municipaux",
          "all/Bylaw Services | Service des Règlements Municipaux/Care of Streets",
          "all/Bylaw Services | Service des Règlements Municipaux/Clothing Donation Bins",
          "all/Health and Safety | Santé et Sécurité/Discarded Needles | Aiguilles Abandonnées",
          "all/Water and the Environment | Eau et Environnement/Drainage",
          "all/Bylaw Services | Service des Règlements Municipaux/Fences",
          "all/Bylaw Services | Service des Règlements Municipaux/Fireworks",
          "all/Water and the Environment | Eau et Environnement/Fleet | Services du Parc Automobile",
          "all/Licenses and Permits | Licences et Permis/Food Premise",
          "all/Water and the Environment | Eau et Environnement/Forestry - Distinctive Tree Permit",
          "all/Water and the Environment | Eau et Environnement/Forestry - Tree Maintenance",
          "all/Water and the Environment | Eau et Environnement/Forestry - Tree Planting",
          "all/Social Community Service | Services Sociaux et Com/Graffiti",
          "all/Health and Safety | Santé et Sécurité/Health | Santé",
          "all/Water and the Environment | Eau et Environnement/Information",
          "all/Roads and Transportation | Routes et Transports/Infrastructure",
          "all/Water and the Environment | Eau et Environnement/Infrastructure Broken by Contractor",
          "all/Bylaw Services | Service des Règlements Municipaux/Licensing",
          "all/Miscellaneous/New Development",
          "all/Water and the Environment | Eau et Environnement/No Water/Poor Pressure",
          "all/Bylaw Services | Service des Règlements Municipaux/Noise",
          "all/Recreation and Culture | Loisirs et Culture/Park Maintenance SAP | Entretien des Parcs",
          "all/Roads and Transportation | Routes et Transports/Parking Control | Gestion des Stationnements",
          "all/Roads and Transportation | Routes et Transports/Parking Equipment | Équipement de Stationnement",
          "all/Roads and Transportation | Routes et Transports/Parking Permits (CSC) | Permis de Stationnement",
          "all/Roads and Transportation | Routes et Transports/Parking Ticket Inquiry | demandes Relatives aux Co",
          "all/Bylaw Services | Service des Règlements Municipaux/Parks",
          "all/Licenses and Permits | Licences et Permis/Pet Registration | Enregistrement-animal domestiqe",
          "all/Water and the Environment | Eau et Environnement/Possible Leak",
          "all/Bylaw Services | Service des Règlements Municipaux/Property Standards",
          "all/City Hall | Hôtel de Ville/Provincial Offences (POA)|Infractions Provinciales",
          "all/City Hall | Hôtel de Ville/RPAM (Buildings Only) | GBI (Immeubles Seulement)",
          "all/Garbage and Recycling | Déchets et Recyclage/Recycle Bins | Bacs de recyclage",
          "all/Water and the Environment | Eau et Environnement/Reinstatment",
          "all/Roads and Transportation | Routes et Transports/Road and Safety Investigations",
          "all/Roads and Transportation | Routes et Transports/Roads Maintenance | Entretien des Routes",
          "all/Water and the Environment | Eau et Environnement/Service Post Maintenance",
          "all/Water and the Environment | Eau et Environnement/Sewers",
          "all/Bylaw Services | Service des Règlements Municipaux/Signs",
          "all/Bylaw Services | Service des Règlements Municipaux/Smoking",
          "all/Garbage and Recycling | Déchets et Recyclage/Solid Waste Collection | Collecte des Déchets",
          "all/Bylaw Services | Service des Règlements Municipaux/Taxi",
          "all/Roads and Transportation | Routes et Transports/Traffic Data",
          "all/Roads and Transportation | Routes et Transports/Traffic Management | Gestion de la Circulation",
          "all/Roads and Transportation | Routes et Transports/Traffic Operations | Opérations de la Circulation",
          "all/Water and the Environment | Eau et Environnement/Water - Hydrants",
          "all/Water and the Environment | Eau et Environnement/Water Meters",
          "all/Water and the Environment | Eau et Environnement/Water Quality",
          "all/Water and the Environment | Eau et Environnement/Water Turn On/Off",
          "all/Licenses and Permits | Licences et Permis/Wildlife Conflicts | Conflits Avec la Faune",
          "all/Bylaw Services | Service des Règlements Municipaux/Zoning Enforcement",
          "all/Bylaw Services | Service des Règlements Municipaux",
          "all/City Hall | Hôtel de Ville",
          "all/Garbage and Recycling | Déchets et Recyclage",
          "all/Health and Safety | Santé et Sécurité",
          "all/Licenses and Permits | Licences et Permis",
          "all/Miscellaneous",
          "all/Recreation and Culture | Loisirs et Culture",
          "all/Roads and Transportation | Routes et Transports",
          "all/Social Community Service | Services Sociaux et Com",
          "all/Water and the Environment | Eau et Environnement",
          "all"
         ],
         "labels": [
          "Accessible Taxi Refused Fare",
          "Additional",
          "Adult School Crossing Guard",
          "Adverse Conduct - Other",
          "Adverse Conduct - Physical",
          "Adverse Conduct - Verbal",
          "After Hours",
          "Allocations Permit Holder Complaints",
          "Animal/Lost Pet",
          "Animals/Too Many",
          "Apartment-Large Items",
          "Apartments - Garbage | Appartement - Déchets",
          "Apartments - Large Items",
          "Apartments - Organics",
          "Apts - Communication Mat. | Matériel de Communicat",
          "Apts-Black Recycling Cart | Bac de recyclage noir",
          "Apts-Blue Recycling Carts | Bacs de Recyclage Bleu",
          "Apts-Large Item Pick-up | Collecte des Gros Articl",
          "Apts-Organics",
          "Apts-Recycling Grey Bins | Bacs de Recyclage Gris",
          "Apts-Recycling Yellow Bin | Bacs de Recyclage Jaun",
          "Asset_Mgmt_Building_Parks",
          "Asset_Mgmt_Roads",
          "Asset_Mgmt_Sewer_Water",
          "Asset_Mgmt_Strat_Planning",
          "Assist OHS",
          "Assist Ottawa Police",
          "Assist Outside Agencies",
          "Backup From Sewer Cleaning",
          "Backyard Flooding",
          "Backyard Flooding - On Call",
          "Ball Diamond Field | Terrain de Balle",
          "Basketball Court | Terrain de Basket-Ball",
          "Bat",
          "Bees/Wasp Nest",
          "Black Box - SWC | Boîte Noire - CDS",
          "Blue Box - SWC | Boîte bleue - CDS",
          "Board Up",
          "Bridges | Ponts",
          "Brush/Wood Removal",
          "Building Code Complaints | Plaintes Liées Au Code",
          "Building Code Inquiries | Ren Propos Code Bâtiment",
          "Building Exterior",
          "Building Interior",
          "Building Sewer Information",
          "Bus Stop | Arrêt D'autobus",
          "Business Premise Inspection",
          "Calendar - Comments | Calendrier - Commentaires",
          "Calendar - Got Wrong One | Calendrier - Mauvais Ca",
          "Calendar to be Mailed | Demande D'envoi Par la Pos",
          "Cancel Registration",
          "Cap Post",
          "Car Alarms",
          "Care of Streets | Soin des rues",
          "Cat Being Held",
          "Cat Disturbance",
          "Cat Licensing",
          "Catch Basins | Puisards de Rue",
          "Catchbasin Investigation",
          "Catchbasin/Maint. Hole | Puisards de Rue/Regard",
          "Cave In",
          "Cave In - On Call",
          "Christmas Trees | Sapins de Noël",
          "City Fac - Blue Recy Cart | Bac de recyclage bleu",
          "City Facility/Property",
          "Civic Address",
          "Commemorative Tree Program",
          "Common Area",
          "Complaint Against Driver | Plainte Contre un Chauf",
          "Consideration Permits | Permis de considération",
          "Construction",
          "Coyotes",
          "Culverts - City Owned | Ponceaux - Appartenants",
          "Culverts - Private | Ponceaux - Privés",
          "Curbside Collection | Collecte en bordure de rue",
          "Curbside Regulations",
          "Customer Information",
          "DTP Bylaw Information | PEAD Renseignements",
          "Damage",
          "Damage/Dumping",
          "Dead Dangerous Tree",
          "Dead Tree",
          "Defective Equipment | Équipement Défectueux",
          "Delivery/Load/Unload",
          "Derelict Vehicle",
          "Designated Parking | Stationnement Désigné",
          "Determine Health",
          "Determine Ownership",
          "Distinctive Tree Permit",
          "Ditch | Fossés",
          "Ditches | Fossés",
          "Dog Barking",
          "Dog Being Held",
          "Dog Bite",
          "Dog Licensing",
          "Dog Muzzle",
          "Dog at Large-Current",
          "Dog at Large-Prior",
          "Dog in Park",
          "Drain Trouble Basement Flooding",
          "Driveway/Sidewalk Heaving",
          "Dumping on Road",
          "Election",
          "Elevators",
          "Encroachment Permit Request",
          "Exotic",
          "Exterior Debris/Waste",
          "Fallen Limb",
          "Fallen Tree",
          "Fare Complaint",
          "Fence-Disrepair",
          "Fence/Wall Chain Link | Clôture/Mur À Mailles Losa",
          "Fence/Wall Wall | Clôture/Mur - Mur",
          "Fence/Wall Wood | Clôture/Mur - Bois",
          "Fences/Walls | Clôtures/Murs",
          "Festival",
          "Fireworks",
          "Food Premise",
          "Food Premise Inquiry",
          "Foundation Damage",
          "Furniture Picnic Table | Mobilier Urbain Table",
          "Furniture Waste Recept. | Mobilier Urbain Poubelle",
          "Furniture/Bench/Bleacher | Mobilier Urbain/Banc/Gr",
          "Garage Sale",
          "Garbage",
          "Garbage - SWC | Déchets - CDS",
          "General",
          "General Complaint - Meter",
          "General Tree Planting",
          "Graffiti",
          "Grass Long/Weeds",
          "Guardrails | Glissières de Sécurité",
          "H-Vac/Street Sweeper",
          "Hanging/Broken Branches",
          "Hate | Haineux",
          "Heat-Insufficient",
          "Heat-Mechanical",
          "Height",
          "Hospital/Long Term Care",
          "Hydrant Investigation",
          "Hydrant Investigation - On Call",
          "Hydrant Snow Removal",
          "Hydrant Thaw/Pump - On Call",
          "Ice/Snow Build Up",
          "Idling",
          "Infill Tree Planting Inspection",
          "Info - Business Licensing Enforcement",
          "Info - Zoning Enforcement",
          "Info Animals",
          "Info-Care of Streets",
          "Info-Fences",
          "Info-Fireworks",
          "Info-Noise",
          "Info-Parks",
          "Info-Property Standards",
          "Info-Signs",
          "Info-Taxis",
          "Information",
          "Injured Animal",
          "Insect Infestation",
          "Inspection Of Contractor",
          "Inspection Of Contractor - On Call",
          "Intersection Control",
          "Intersections",
          "Investigate Discoloured Water",
          "Investigate Discoloured Water - On Call",
          "Itinerant Seller (Salesperson)",
          "Kennel/Pet Shop",
          "Laneways | Allées",
          "Lawn Investigation",
          "Lead Pipe Replacement Program",
          "Lead Testing",
          "Leaf and Yard Waste | Feuilles et Résidus de Jardi",
          "Leak Investigation",
          "Leak Investigation - On Call",
          "Leaking",
          "Leaking - On Call",
          "Leaning/Uprooting",
          "Lights | Lumières",
          "Line of Sight",
          "Livestock at Large",
          "Location",
          "Location of Accessory Buildings",
          "Lost Keys or Animals in Sewers",
          "Machinery-AirCond/Fan/Pool/Mower/Generator",
          "Maintenance",
          "Miscellaneous - Parking | Divers - Stationnement",
          "Missing/Stolen",
          "Mud on Road",
          "Muffler",
          "Municipal Drain | Drain Municipal",
          "Music",
          "Naturalization",
          "Needles/Syringes",
          "New Home",
          "New TCS/Roundabout - Inquiry",
          "New Tree Maintenance",
          "No Parking | Aucun Stationnement",
          "No Stopping | Aucun Arrêt",
          "Non-Accessible Taxi Refused Fare",
          "Non-Permitted Use",
          "OC Transpo",
          "OC Transpo",
          "Odours",
          "Odours-Outdoors",
          "Offensive | Offensant",
          "On Road Allowance",
          "On Temporary Service - No",
          "On Temporary Service - Yes - On Call",
          "Open Air Fire | Feux en Plein Air",
          "Open Excavation",
          "Organics-SWC | Biologiques-CDS",
          "Other - Bridge | Autre - Pont",
          "Other - Shelter/Kiosk | Autre - Abri/Kiosque",
          "Other | Autre",
          "Other | Autre",
          "Ottawa",
          "Outdoor Patio",
          "Outdoor Rink | Patinoire Extérieure",
          "Overflowing/Maintenance",
          "Overnight (Winter Only) | Stationnement de Nuit",
          "Oversized Vehicle- Street",
          "Overtime Parking | Stationnement Expiré",
          "POA Inquiry",
          "Parking - Oversize Vehicle",
          "Parking - Yard",
          "Parking Lot | Stationnement",
          "Parking Permit | Permis de Stationnement",
          "Parking Permits CSC | Permis de Stationnement",
          "Parks Operations General | Opérations de parcs gén",
          "Parks | Parcs",
          "Pavement Info",
          "Pavement Maintenance",
          "Pavement Markings - Review",
          "Pay & Display Machine | Distributrice Payez et Aff",
          "Pedestrian Safety Review",
          "Pet Registration Info",
          "Pet Registration Update",
          "Petroleum Products",
          "Pit Bull",
          "Play Apparatus | Équipement de Jeu",
          "Playing on Road",
          "Policy / General Info",
          "Pool Fence",
          "Pool Fence-Private | Clôture de Piscine - Privée",
          "Portable",
          "Portal Transaction Issue",
          "Postering",
          "Private Property | Propriété Privée",
          "Private Transportation Company",
          "Property Damage - Operations",
          "Protective Care",
          "Public Health Inspector | Inspecteur en Santé Pub",
          "ROW Traffic Issues",
          "RPAM - City of Ottawa | GBI - Ville d'Ottawa",
          "Railway Crossing",
          "Rat Control",
          "Rats-Exterior",
          "Rats-Interior",
          "Real Estate",
          "Remote Reader End Point",
          "Replacement Tag",
          "Request for Collision Data",
          "Request for Volume/Speed Data",
          "Retail-All Container(46L) | Détaillant-Tous Conten",
          "Retail-All Container(80L) | Détaillant-Tous Conten",
          "Retail-Black Box | Détaillant-Boîte Noire",
          "Retail-Blue & Black Box | Détaillant-boîte bleue",
          "Retail-Blue Box | Détaillant-Boîte Bleue",
          "Retail-Green 80L & KC | Détaillant-Vert 80L et CC",
          "Retail-Green Bin 46L | Détaillant-Bac Vert 46L",
          "Retail-Green Bin 80L | Détaillant-Bac Vert 80L",
          "Retail-Kitchen Container | Détaillant-Contenance",
          "Right of Entry Permit",
          "Road Boulevard/Easement | Route - Boulevard/Servit",
          "Road Curb/Gutter | Route - Bordure/Caniveau",
          "Road Cut Complaint",
          "Road Cut Investigation",
          "Road Cut Investigation - On Call",
          "Road Flasher/Barricade | Feu Clignotant/Barricade",
          "Road Median/Island | Route - Terre-Plein Central",
          "Road Operations General | Opérations Routières Gén",
          "Road Shoulder | Accotement",
          "Road Travelled Surface | Route - Aires de Circulat",
          "Roads/Sidewalks | Rues/Trottoirs",
          "Rooming House",
          "Same Infract. within 3 hr | Même Infraction en 3",
          "School Zone Safety",
          "Schools-Green Bin | Écoles-Bac Vert",
          "Service",
          "Service Post Adjustment",
          "Sewer",
          "Shisha/Hookah",
          "Shopping Cart",
          "Shouting",
          "Shrubs | Buissons",
          "Sidewalk/Pathways/trails | Trottoirs Ou Sentiers",
          "Sidewalks/Pathways/Trails | Trottoirs/Sentiers",
          "Sight Line/Obstructed City Sign",
          "Sign | Panneau",
          "Sign-Info",
          "Sign-Leaning",
          "Sign-Other",
          "Sign-Priority",
          "Signage Review",
          "Signal-Audible",
          "Signal-Bulb Out",
          "Signal-Control",
          "Signal-Engineer",
          "Signal-Flash",
          "Signal-Flasher",
          "Signal-Info",
          "Signal-Light Out",
          "Signal-Other",
          "Signal-Overhead Sign",
          "Signal-Pedestrian Head",
          "Signal-Pole",
          "Signal-Power Outage",
          "Signal-Push Button",
          "Signal-Timing",
          "Site Plan Enforcement",
          "Skipped Fare",
          "Smoking-info",
          "Snow Plow Contractor",
          "Snow on Road/Sidewalk",
          "Special Consideration | Programme spécial",
          "Special Event",
          "Special Events | Évènements Spéciaux",
          "Speed Concern",
          "Speed Display Board",
          "Speed Limit Change",
          "Spills",
          "Spills - On Call",
          "Split/Cracked/Cavity",
          "Sports Field | Terrain de Sport",
          "Squeal Tires",
          "Stoop and Scoop",
          "Stump Removal",
          "Surface Drainage | Drainage de L'eau de Surface",
          "Surface Ops-Parks | Opérations de Surface - Parcs",
          "Surface Ops-Roads | Opérations de Surface - Routes",
          "Swimming Pool-Water",
          "Technical Errors | Erreurs Techniques",
          "Tennis Court | Terrain de Tennis",
          "Tobacco Retailer - Sales to Minor",
          "Tobacco Retailer - Signage Request",
          "Tobacco Retailer - Signage Violation",
          "Too Big/Unsightly",
          "Tourist Courtesy Policy | Politique de Courtoisie",
          "Traffic Operational Review",
          "Tree Maintenance Information",
          "Tree Planting Information",
          "Trees in Trust",
          "Trees | Arbres",
          "Truck Routes",
          "Turf | Pelouse",
          "Unauthorized Activities",
          "Unauthorized Tree Removal",
          "Valid Pay & Display Stub | Coupon de Stationnement",
          "Vandalism | Vandalisme",
          "Vehicle Repair",
          "Vehicles In Park",
          "Visibility Review",
          "Waste Receptacle | Poubelle",
          "Waste Receptacle-Roadside | Poubelle bord de route",
          "Water Feature/Beach | Plage",
          "Water Feature/Fountain | Fontaine",
          "Water Feature/Ravine/Crk | Ravin/Ruisseau",
          "Water Feature/Spray Pad | Aire de Jets Deau",
          "Water Feature/Wading Pool | Pataugeoire",
          "Water Quality",
          "Water Turn On/Off",
          "Watermain",
          "Watermain - On Call",
          "Waterways | Cours d'eau",
          "Workplace",
          "Wrong Person Charged | Mauvaise Personne Inculpée",
          "Zones",
          "Alternate Response",
          "Animals",
          "Building Code Services | Services du Code Bâtiment",
          "Bylaw Services | Service des Règlements Municipaux",
          "Care of Streets",
          "Clothing Donation Bins",
          "Discarded Needles | Aiguilles Abandonnées",
          "Drainage",
          "Fences",
          "Fireworks",
          "Fleet | Services du Parc Automobile",
          "Food Premise",
          "Forestry - Distinctive Tree Permit",
          "Forestry - Tree Maintenance",
          "Forestry - Tree Planting",
          "Graffiti",
          "Health | Santé",
          "Information",
          "Infrastructure",
          "Infrastructure Broken by Contractor",
          "Licensing",
          "New Development",
          "No Water/Poor Pressure",
          "Noise",
          "Park Maintenance SAP | Entretien des Parcs",
          "Parking Control | Gestion des Stationnements",
          "Parking Equipment | Équipement de Stationnement",
          "Parking Permits (CSC) | Permis de Stationnement",
          "Parking Ticket Inquiry | demandes Relatives aux Co",
          "Parks",
          "Pet Registration | Enregistrement-animal domestiqe",
          "Possible Leak",
          "Property Standards",
          "Provincial Offences (POA)|Infractions Provinciales",
          "RPAM (Buildings Only) | GBI (Immeubles Seulement)",
          "Recycle Bins | Bacs de recyclage",
          "Reinstatment",
          "Road and Safety Investigations",
          "Roads Maintenance | Entretien des Routes",
          "Service Post Maintenance",
          "Sewers",
          "Signs",
          "Smoking",
          "Solid Waste Collection | Collecte des Déchets",
          "Taxi",
          "Traffic Data",
          "Traffic Management | Gestion de la Circulation",
          "Traffic Operations | Opérations de la Circulation",
          "Water - Hydrants",
          "Water Meters",
          "Water Quality",
          "Water Turn On/Off",
          "Wildlife Conflicts | Conflits Avec la Faune",
          "Zoning Enforcement",
          "Bylaw Services | Service des Règlements Municipaux",
          "City Hall | Hôtel de Ville",
          "Garbage and Recycling | Déchets et Recyclage",
          "Health and Safety | Santé et Sécurité",
          "Licenses and Permits | Licences et Permis",
          "Miscellaneous",
          "Recreation and Culture | Loisirs et Culture",
          "Roads and Transportation | Routes et Transports",
          "Social Community Service | Services Sociaux et Com",
          "Water and the Environment | Eau et Environnement",
          "all"
         ],
         "level": "all",
         "name": "",
         "parents": [
          "all/Bylaw Services | Service des Règlements Municipaux/Taxi",
          "all/Garbage and Recycling | Déchets et Recyclage/Recycle Bins | Bacs de recyclage",
          "all/Roads and Transportation | Routes et Transports/Road and Safety Investigations",
          "all/Bylaw Services | Service des Règlements Municipaux/Taxi",
          "all/Bylaw Services | Service des Règlements Municipaux/Taxi",
          "all/Bylaw Services | Service des Règlements Municipaux/Taxi",
          "all/Bylaw Services | Service des Règlements Municipaux/Parks",
          "all/Bylaw Services | Service des Règlements Municipaux/Parks",
          "all/Bylaw Services | Service des Règlements Municipaux/Animals",
          "all/Bylaw Services | Service des Règlements Municipaux/Animals",
          "all/Garbage and Recycling | Déchets et Recyclage/Solid Waste Collection | Collecte des Déchets",
          "all/Garbage and Recycling | Déchets et Recyclage/Solid Waste Collection | Collecte des Déchets",
          "all/Garbage and Recycling | Déchets et Recyclage/Solid Waste Collection | Collecte des Déchets",
          "all/Garbage and Recycling | Déchets et Recyclage/Solid Waste Collection | Collecte des Déchets",
          "all/Garbage and Recycling | Déchets et Recyclage/Solid Waste Collection | Collecte des Déchets",
          "all/Garbage and Recycling | Déchets et Recyclage/Solid Waste Collection | Collecte des Déchets",
          "all/Garbage and Recycling | Déchets et Recyclage/Solid Waste Collection | Collecte des Déchets",
          "all/Garbage and Recycling | Déchets et Recyclage/Solid Waste Collection | Collecte des Déchets",
          "all/Garbage and Recycling | Déchets et Recyclage/Solid Waste Collection | Collecte des Déchets",
          "all/Garbage and Recycling | Déchets et Recyclage/Solid Waste Collection | Collecte des Déchets",
          "all/Garbage and Recycling | Déchets et Recyclage/Solid Waste Collection | Collecte des Déchets",
          "all/Roads and Transportation | Routes et Transports/Infrastructure",
          "all/Roads and Transportation | Routes et Transports/Infrastructure",
          "all/Roads and Transportation | Routes et Transports/Infrastructure",
          "all/Roads and Transportation | Routes et Transports/Infrastructure",
          "all/Bylaw Services | Service des Règlements Municipaux/Animals",
          "all/Bylaw Services | Service des Règlements Municipaux/Property Standards",
          "all/Water and the Environment | Eau et Environnement/Water - Hydrants",
          "all/Water and the Environment | Eau et Environnement/Sewers",
          "all/Water and the Environment | Eau et Environnement/Sewers",
          "all/Water and the Environment | Eau et Environnement/Sewers",
          "all/Recreation and Culture | Loisirs et Culture/Park Maintenance SAP | Entretien des Parcs",
          "all/Recreation and Culture | Loisirs et Culture/Park Maintenance SAP | Entretien des Parcs",
          "all/Bylaw Services | Service des Règlements Municipaux/Animals",
          "all/Water and the Environment | Eau et Environnement/Forestry - Tree Maintenance",
          "all/Garbage and Recycling | Déchets et Recyclage/Solid Waste Collection | Collecte des Déchets",
          "all/Garbage and Recycling | Déchets et Recyclage/Solid Waste Collection | Collecte des Déchets",
          "all/Bylaw Services | Service des Règlements Municipaux/Property Standards",
          "all/Roads and Transportation | Routes et Transports/Roads Maintenance | Entretien des Routes",
          "all/Water and the Environment | Eau et Environnement/Forestry - Tree Maintenance",
          "all/Licenses and Permits | Licences et Permis/Building Code Services | Services du Code Bâtiment",
          "all/Licenses and Permits | Licences et Permis/Building Code Services | Services du Code Bâtiment",
          "all/Bylaw Services | Service des Règlements Municipaux/Property Standards",
          "all/Bylaw Services | Service des Règlements Municipaux/Property Standards",
          "all/Water and the Environment | Eau et Environnement/Sewers",
          "all/Roads and Transportation | Routes et Transports/Roads Maintenance | Entretien des Routes",
          "all/Bylaw Services | Service des Règlements Municipaux/Property Standards",
          "all/Garbage and Recycling | Déchets et Recyclage/Solid Waste Collection | Collecte des Déchets",
          "all/Garbage and Recycling | Déchets et Recyclage/Solid Waste Collection | Collecte des Déchets",
          "all/Garbage and Recycling | Déchets et Recyclage/Solid Waste Collection | Collecte des Déchets",
          "all/Licenses and Permits | Licences et Permis/Pet Registration | Enregistrement-animal domestiqe",
          "all/Water and the Environment | Eau et Environnement/Service Post Maintenance",
          "all/Bylaw Services | Service des Règlements Municipaux/Noise",
          "all/Bylaw Services | Service des Règlements Municipaux/Bylaw Services | Service des Règlements Municipaux",
          "all/Bylaw Services | Service des Règlements Municipaux/Animals",
          "all/Bylaw Services | Service des Règlements Municipaux/Animals",
          "all/Bylaw Services | Service des Règlements Municipaux/Animals",
          "all/Recreation and Culture | Loisirs et Culture/Park Maintenance SAP | Entretien des Parcs",
          "all/Water and the Environment | Eau et Environnement/Sewers",
          "all/Roads and Transportation | Routes et Transports/Roads Maintenance | Entretien des Routes",
          "all/Water and the Environment | Eau et Environnement/Sewers",
          "all/Water and the Environment | Eau et Environnement/Sewers",
          "all/Garbage and Recycling | Déchets et Recyclage/Solid Waste Collection | Collecte des Déchets",
          "all/Garbage and Recycling | Déchets et Recyclage/Solid Waste Collection | Collecte des Déchets",
          "all/Bylaw Services | Service des Règlements Municipaux/Smoking",
          "all/Bylaw Services | Service des Règlements Municipaux/Signs",
          "all/Water and the Environment | Eau et Environnement/Forestry - Tree Planting",
          "all/Bylaw Services | Service des Règlements Municipaux/Smoking",
          "all/Water and the Environment | Eau et Environnement/Fleet | Services du Parc Automobile",
          "all/Roads and Transportation | Routes et Transports/Parking Permits (CSC) | Permis de Stationnement",
          "all/Bylaw Services | Service des Règlements Municipaux/Noise",
          "all/Licenses and Permits | Licences et Permis/Wildlife Conflicts | Conflits Avec la Faune",
          "all/Roads and Transportation | Routes et Transports/Roads Maintenance | Entretien des Routes",
          "all/Roads and Transportation | Routes et Transports/Roads Maintenance | Entretien des Routes",
          "all/Bylaw Services | Service des Règlements Municipaux/Bylaw Services | Service des Règlements Municipaux",
          "all/Roads and Transportation | Routes et Transports/Road and Safety Investigations",
          "all/Water and the Environment | Eau et Environnement/Information",
          "all/Water and the Environment | Eau et Environnement/Forestry - Distinctive Tree Permit",
          "all/Bylaw Services | Service des Règlements Municipaux/Care of Streets",
          "all/Bylaw Services | Service des Règlements Municipaux/Parks",
          "all/Bylaw Services | Service des Règlements Municipaux/Property Standards",
          "all/Water and the Environment | Eau et Environnement/Forestry - Tree Maintenance",
          "all/Roads and Transportation | Routes et Transports/Parking Ticket Inquiry | demandes Relatives aux Co",
          "all/Bylaw Services | Service des Règlements Municipaux/Noise",
          "all/Bylaw Services | Service des Règlements Municipaux/Property Standards",
          "all/Roads and Transportation | Routes et Transports/Parking Control | Gestion des Stationnements",
          "all/Water and the Environment | Eau et Environnement/Forestry - Tree Maintenance",
          "all/Water and the Environment | Eau et Environnement/Forestry - Tree Maintenance",
          "all/Water and the Environment | Eau et Environnement/Forestry - Distinctive Tree Permit",
          "all/Water and the Environment | Eau et Environnement/Drainage",
          "all/Roads and Transportation | Routes et Transports/Roads Maintenance | Entretien des Routes",
          "all/Bylaw Services | Service des Règlements Municipaux/Animals",
          "all/Bylaw Services | Service des Règlements Municipaux/Animals",
          "all/Bylaw Services | Service des Règlements Municipaux/Animals",
          "all/Bylaw Services | Service des Règlements Municipaux/Animals",
          "all/Bylaw Services | Service des Règlements Municipaux/Animals",
          "all/Bylaw Services | Service des Règlements Municipaux/Animals",
          "all/Bylaw Services | Service des Règlements Municipaux/Animals",
          "all/Bylaw Services | Service des Règlements Municipaux/Animals",
          "all/Water and the Environment | Eau et Environnement/Sewers",
          "all/Water and the Environment | Eau et Environnement/Forestry - Tree Maintenance",
          "all/Bylaw Services | Service des Règlements Municipaux/Care of Streets",
          "all/Bylaw Services | Service des Règlements Municipaux/Signs",
          "all/Bylaw Services | Service des Règlements Municipaux/Property Standards",
          "all/Roads and Transportation | Routes et Transports/Traffic Management | Gestion de la Circulation",
          "all/Bylaw Services | Service des Règlements Municipaux/Animals",
          "all/Bylaw Services | Service des Règlements Municipaux/Property Standards",
          "all/Water and the Environment | Eau et Environnement/Forestry - Tree Maintenance",
          "all/Water and the Environment | Eau et Environnement/Forestry - Tree Maintenance",
          "all/Bylaw Services | Service des Règlements Municipaux/Taxi",
          "all/Bylaw Services | Service des Règlements Municipaux/Property Standards",
          "all/Recreation and Culture | Loisirs et Culture/Park Maintenance SAP | Entretien des Parcs",
          "all/Recreation and Culture | Loisirs et Culture/Park Maintenance SAP | Entretien des Parcs",
          "all/Recreation and Culture | Loisirs et Culture/Park Maintenance SAP | Entretien des Parcs",
          "all/Roads and Transportation | Routes et Transports/Roads Maintenance | Entretien des Routes",
          "all/Bylaw Services | Service des Règlements Municipaux/Noise",
          "all/Bylaw Services | Service des Règlements Municipaux/Fireworks",
          "all/Bylaw Services | Service des Règlements Municipaux/Licensing",
          "all/Licenses and Permits | Licences et Permis/Food Premise",
          "all/Water and the Environment | Eau et Environnement/Forestry - Tree Maintenance",
          "all/Recreation and Culture | Loisirs et Culture/Park Maintenance SAP | Entretien des Parcs",
          "all/Recreation and Culture | Loisirs et Culture/Park Maintenance SAP | Entretien des Parcs",
          "all/Recreation and Culture | Loisirs et Culture/Park Maintenance SAP | Entretien des Parcs",
          "all/Bylaw Services | Service des Règlements Municipaux/Licensing",
          "all/Bylaw Services | Service des Règlements Municipaux/Noise",
          "all/Garbage and Recycling | Déchets et Recyclage/Solid Waste Collection | Collecte des Déchets",
          "all/Miscellaneous/New Development",
          "all/Water and the Environment | Eau et Environnement/Water Meters",
          "all/Water and the Environment | Eau et Environnement/Forestry - Tree Planting",
          "all/Bylaw Services | Service des Règlements Municipaux/Bylaw Services | Service des Règlements Municipaux",
          "all/Bylaw Services | Service des Règlements Municipaux/Property Standards",
          "all/Roads and Transportation | Routes et Transports/Roads Maintenance | Entretien des Routes",
          "all/Bylaw Services | Service des Règlements Municipaux/Noise",
          "all/Water and the Environment | Eau et Environnement/Forestry - Tree Maintenance",
          "all/Social Community Service | Services Sociaux et Com/Graffiti",
          "all/Bylaw Services | Service des Règlements Municipaux/Property Standards",
          "all/Bylaw Services | Service des Règlements Municipaux/Property Standards",
          "all/Bylaw Services | Service des Règlements Municipaux/Fences",
          "all/Bylaw Services | Service des Règlements Municipaux/Smoking",
          "all/Water and the Environment | Eau et Environnement/Water - Hydrants",
          "all/Water and the Environment | Eau et Environnement/Water - Hydrants",
          "all/Water and the Environment | Eau et Environnement/Water - Hydrants",
          "all/Water and the Environment | Eau et Environnement/Water - Hydrants",
          "all/Bylaw Services | Service des Règlements Municipaux/Property Standards",
          "all/Bylaw Services | Service des Règlements Municipaux/Noise",
          "all/Water and the Environment | Eau et Environnement/Forestry - Tree Planting",
          "all/Bylaw Services | Service des Règlements Municipaux/Licensing",
          "all/Bylaw Services | Service des Règlements Municipaux/Zoning Enforcement",
          "all/Bylaw Services | Service des Règlements Municipaux/Animals",
          "all/Bylaw Services | Service des Règlements Municipaux/Care of Streets",
          "all/Bylaw Services | Service des Règlements Municipaux/Fences",
          "all/Bylaw Services | Service des Règlements Municipaux/Fireworks",
          "all/Bylaw Services | Service des Règlements Municipaux/Noise",
          "all/Bylaw Services | Service des Règlements Municipaux/Parks",
          "all/Bylaw Services | Service des Règlements Municipaux/Property Standards",
          "all/Bylaw Services | Service des Règlements Municipaux/Signs",
          "all/Bylaw Services | Service des Règlements Municipaux/Taxi",
          "all/Bylaw Services | Service des Règlements Municipaux/Alternate Response",
          "all/Bylaw Services | Service des Règlements Municipaux/Animals",
          "all/Water and the Environment | Eau et Environnement/Forestry - Tree Maintenance",
          "all/Water and the Environment | Eau et Environnement/Sewers",
          "all/Water and the Environment | Eau et Environnement/Sewers",
          "all/Roads and Transportation | Routes et Transports/Road and Safety Investigations",
          "all/Roads and Transportation | Routes et Transports/Parking Control | Gestion des Stationnements",
          "all/Water and the Environment | Eau et Environnement/Water Quality",
          "all/Water and the Environment | Eau et Environnement/Water Quality",
          "all/Bylaw Services | Service des Règlements Municipaux/Licensing",
          "all/Bylaw Services | Service des Règlements Municipaux/Licensing",
          "all/Roads and Transportation | Routes et Transports/Parking Control | Gestion des Stationnements",
          "all/Water and the Environment | Eau et Environnement/Reinstatment",
          "all/Water and the Environment | Eau et Environnement/Information",
          "all/Water and the Environment | Eau et Environnement/Water Quality",
          "all/Garbage and Recycling | Déchets et Recyclage/Solid Waste Collection | Collecte des Déchets",
          "all/Water and the Environment | Eau et Environnement/Possible Leak",
          "all/Water and the Environment | Eau et Environnement/Possible Leak",
          "all/Water and the Environment | Eau et Environnement/Water Meters",
          "all/Water and the Environment | Eau et Environnement/Water Meters",
          "all/Water and the Environment | Eau et Environnement/Forestry - Tree Maintenance",
          "all/Roads and Transportation | Routes et Transports/Traffic Operations | Opérations de la Circulation",
          "all/Bylaw Services | Service des Règlements Municipaux/Care of Streets",
          "all/Bylaw Services | Service des Règlements Municipaux/Animals",
          "all/Bylaw Services | Service des Règlements Municipaux/Fences",
          "all/Bylaw Services | Service des Règlements Municipaux/Zoning Enforcement",
          "all/Water and the Environment | Eau et Environnement/Sewers",
          "all/Bylaw Services | Service des Règlements Municipaux/Noise",
          "all/Bylaw Services | Service des Règlements Municipaux/Care of Streets",
          "all/Roads and Transportation | Routes et Transports/Parking Control | Gestion des Stationnements",
          "all/Garbage and Recycling | Déchets et Recyclage/Recycle Bins | Bacs de recyclage",
          "all/Bylaw Services | Service des Règlements Municipaux/Care of Streets",
          "all/Bylaw Services | Service des Règlements Municipaux/Noise",
          "all/Water and the Environment | Eau et Environnement/Drainage",
          "all/Bylaw Services | Service des Règlements Municipaux/Noise",
          "all/Water and the Environment | Eau et Environnement/Forestry - Tree Planting",
          "all/Bylaw Services | Service des Règlements Municipaux/Property Standards",
          "all/Garbage and Recycling | Déchets et Recyclage/Recycle Bins | Bacs de recyclage",
          "all/Roads and Transportation | Routes et Transports/Road and Safety Investigations",
          "all/Water and the Environment | Eau et Environnement/Forestry - Tree Planting",
          "all/Roads and Transportation | Routes et Transports/Parking Control | Gestion des Stationnements",
          "all/Roads and Transportation | Routes et Transports/Parking Control | Gestion des Stationnements",
          "all/Bylaw Services | Service des Règlements Municipaux/Taxi",
          "all/Bylaw Services | Service des Règlements Municipaux/Zoning Enforcement",
          "all/Social Community Service | Services Sociaux et Com/Graffiti",
          "all/City Hall | Hôtel de Ville/RPAM (Buildings Only) | GBI (Immeubles Seulement)",
          "all/Water and the Environment | Eau et Environnement/Sewers",
          "all/Water and the Environment | Eau et Environnement/Sewers",
          "all/Social Community Service | Services Sociaux et Com/Graffiti",
          "all/Bylaw Services | Service des Règlements Municipaux/Signs",
          "all/Water and the Environment | Eau et Environnement/No Water/Poor Pressure",
          "all/Water and the Environment | Eau et Environnement/No Water/Poor Pressure",
          "all/Bylaw Services | Service des Règlements Municipaux/Bylaw Services | Service des Règlements Municipaux",
          "all/Bylaw Services | Service des Règlements Municipaux/Property Standards",
          "all/Garbage and Recycling | Déchets et Recyclage/Solid Waste Collection | Collecte des Déchets",
          "all/Recreation and Culture | Loisirs et Culture/Park Maintenance SAP | Entretien des Parcs",
          "all/Recreation and Culture | Loisirs et Culture/Park Maintenance SAP | Entretien des Parcs",
          "all/Bylaw Services | Service des Règlements Municipaux/Bylaw Services | Service des Règlements Municipaux",
          "all/Roads and Transportation | Routes et Transports/Parking Ticket Inquiry | demandes Relatives aux Co",
          "all/City Hall | Hôtel de Ville/RPAM (Buildings Only) | GBI (Immeubles Seulement)",
          "all/Bylaw Services | Service des Règlements Municipaux/Noise",
          "all/Recreation and Culture | Loisirs et Culture/Park Maintenance SAP | Entretien des Parcs",
          "all/Bylaw Services | Service des Règlements Municipaux/Clothing Donation Bins",
          "all/Roads and Transportation | Routes et Transports/Parking Control | Gestion des Stationnements",
          "all/Roads and Transportation | Routes et Transports/Parking Control | Gestion des Stationnements",
          "all/Roads and Transportation | Routes et Transports/Parking Control | Gestion des Stationnements",
          "all/City Hall | Hôtel de Ville/Provincial Offences (POA)|Infractions Provinciales",
          "all/Bylaw Services | Service des Règlements Municipaux/Zoning Enforcement",
          "all/Bylaw Services | Service des Règlements Municipaux/Zoning Enforcement",
          "all/Recreation and Culture | Loisirs et Culture/Park Maintenance SAP | Entretien des Parcs",
          "all/Roads and Transportation | Routes et Transports/Parking Ticket Inquiry | demandes Relatives aux Co",
          "all/Roads and Transportation | Routes et Transports/Parking Permits (CSC) | Permis de Stationnement",
          "all/Recreation and Culture | Loisirs et Culture/Park Maintenance SAP | Entretien des Parcs",
          "all/Bylaw Services | Service des Règlements Municipaux/Bylaw Services | Service des Règlements Municipaux",
          "all/Roads and Transportation | Routes et Transports/Traffic Operations | Opérations de la Circulation",
          "all/Roads and Transportation | Routes et Transports/Traffic Operations | Opérations de la Circulation",
          "all/Roads and Transportation | Routes et Transports/Road and Safety Investigations",
          "all/Roads and Transportation | Routes et Transports/Parking Equipment | Équipement de Stationnement",
          "all/Roads and Transportation | Routes et Transports/Road and Safety Investigations",
          "all/Licenses and Permits | Licences et Permis/Pet Registration | Enregistrement-animal domestiqe",
          "all/Licenses and Permits | Licences et Permis/Pet Registration | Enregistrement-animal domestiqe",
          "all/Bylaw Services | Service des Règlements Municipaux/Care of Streets",
          "all/Bylaw Services | Service des Règlements Municipaux/Animals",
          "all/Recreation and Culture | Loisirs et Culture/Park Maintenance SAP | Entretien des Parcs",
          "all/Bylaw Services | Service des Règlements Municipaux/Care of Streets",
          "all/Roads and Transportation | Routes et Transports/Traffic Management | Gestion de la Circulation",
          "all/Bylaw Services | Service des Règlements Municipaux/Property Standards",
          "all/Licenses and Permits | Licences et Permis/Building Code Services | Services du Code Bâtiment",
          "all/Bylaw Services | Service des Règlements Municipaux/Signs",
          "all/Licenses and Permits | Licences et Permis/Pet Registration | Enregistrement-animal domestiqe",
          "all/Bylaw Services | Service des Règlements Municipaux/Signs",
          "all/Roads and Transportation | Routes et Transports/Roads Maintenance | Entretien des Routes",
          "all/Bylaw Services | Service des Règlements Municipaux/Taxi",
          "all/Water and the Environment | Eau et Environnement/Forestry - Tree Maintenance",
          "all/Bylaw Services | Service des Règlements Municipaux/Animals",
          "all/Health and Safety | Santé et Sécurité/Health | Santé",
          "all/Roads and Transportation | Routes et Transports/Traffic Management | Gestion de la Circulation",
          "all/Health and Safety | Santé et Sécurité/Discarded Needles | Aiguilles Abandonnées",
          "all/Roads and Transportation | Routes et Transports/Road and Safety Investigations",
          "all/Water and the Environment | Eau et Environnement/Sewers",
          "all/Bylaw Services | Service des Règlements Municipaux/Property Standards",
          "all/Bylaw Services | Service des Règlements Municipaux/Property Standards",
          "all/Bylaw Services | Service des Règlements Municipaux/Signs",
          "all/Water and the Environment | Eau et Environnement/Water Meters",
          "all/Licenses and Permits | Licences et Permis/Pet Registration | Enregistrement-animal domestiqe",
          "all/Roads and Transportation | Routes et Transports/Traffic Data",
          "all/Roads and Transportation | Routes et Transports/Traffic Data",
          "all/Garbage and Recycling | Déchets et Recyclage/Solid Waste Collection | Collecte des Déchets",
          "all/Garbage and Recycling | Déchets et Recyclage/Solid Waste Collection | Collecte des Déchets",
          "all/Garbage and Recycling | Déchets et Recyclage/Solid Waste Collection | Collecte des Déchets",
          "all/Garbage and Recycling | Déchets et Recyclage/Solid Waste Collection | Collecte des Déchets",
          "all/Garbage and Recycling | Déchets et Recyclage/Solid Waste Collection | Collecte des Déchets",
          "all/Garbage and Recycling | Déchets et Recyclage/Solid Waste Collection | Collecte des Déchets",
          "all/Garbage and Recycling | Déchets et Recyclage/Solid Waste Collection | Collecte des Déchets",
          "all/Garbage and Recycling | Déchets et Recyclage/Solid Waste Collection | Collecte des Déchets",
          "all/Garbage and Recycling | Déchets et Recyclage/Solid Waste Collection | Collecte des Déchets",
          "all/Bylaw Services | Service des Règlements Municipaux/Property Standards",
          "all/Roads and Transportation | Routes et Transports/Roads Maintenance | Entretien des Routes",
          "all/Roads and Transportation | Routes et Transports/Roads Maintenance | Entretien des Routes",
          "all/Roads and Transportation | Routes et Transports/Traffic Management | Gestion de la Circulation",
          "all/Water and the Environment | Eau et Environnement/Reinstatment",
          "all/Water and the Environment | Eau et Environnement/Reinstatment",
          "all/Roads and Transportation | Routes et Transports/Roads Maintenance | Entretien des Routes",
          "all/Roads and Transportation | Routes et Transports/Roads Maintenance | Entretien des Routes",
          "all/Roads and Transportation | Routes et Transports/Roads Maintenance | Entretien des Routes",
          "all/Roads and Transportation | Routes et Transports/Roads Maintenance | Entretien des Routes",
          "all/Roads and Transportation | Routes et Transports/Roads Maintenance | Entretien des Routes",
          "all/Roads and Transportation | Routes et Transports/Parking Control | Gestion des Stationnements",
          "all/Bylaw Services | Service des Règlements Municipaux/Zoning Enforcement",
          "all/Roads and Transportation | Routes et Transports/Parking Ticket Inquiry | demandes Relatives aux Co",
          "all/Roads and Transportation | Routes et Transports/Road and Safety Investigations",
          "all/Garbage and Recycling | Déchets et Recyclage/Solid Waste Collection | Collecte des Déchets",
          "all/Water and the Environment | Eau et Environnement/Infrastructure Broken by Contractor",
          "all/Water and the Environment | Eau et Environnement/Service Post Maintenance",
          "all/Water and the Environment | Eau et Environnement/Infrastructure Broken by Contractor",
          "all/Bylaw Services | Service des Règlements Municipaux/Smoking",
          "all/Bylaw Services | Service des Règlements Municipaux/Property Standards",
          "all/Bylaw Services | Service des Règlements Municipaux/Noise",
          "all/Recreation and Culture | Loisirs et Culture/Park Maintenance SAP | Entretien des Parcs",
          "all/Recreation and Culture | Loisirs et Culture/Park Maintenance SAP | Entretien des Parcs",
          "all/Roads and Transportation | Routes et Transports/Roads Maintenance | Entretien des Routes",
          "all/Water and the Environment | Eau et Environnement/Forestry - Tree Maintenance",
          "all/Recreation and Culture | Loisirs et Culture/Park Maintenance SAP | Entretien des Parcs",
          "all/Roads and Transportation | Routes et Transports/Traffic Operations | Opérations de la Circulation",
          "all/Roads and Transportation | Routes et Transports/Traffic Operations | Opérations de la Circulation",
          "all/Roads and Transportation | Routes et Transports/Traffic Operations | Opérations de la Circulation",
          "all/Roads and Transportation | Routes et Transports/Traffic Operations | Opérations de la Circulation",
          "all/Roads and Transportation | Routes et Transports/Road and Safety Investigations",
          "all/Roads and Transportation | Routes et Transports/Traffic Operations | Opérations de la Circulation",
          "all/Roads and Transportation | Routes et Transports/Traffic Operations | Opérations de la Circulation",
          "all/Roads and Transportation | Routes et Transports/Traffic Operations | Opérations de la Circulation",
          "all/Roads and Transportation | Routes et Transports/Traffic Operations | Opérations de la Circulation",
          "all/Roads and Transportation | Routes et Transports/Traffic Operations | Opérations de la Circulation",
          "all/Roads and Transportation | Routes et Transports/Traffic Operations | Opérations de la Circulation",
          "all/Roads and Transportation | Routes et Transports/Traffic Operations | Opérations de la Circulation",
          "all/Roads and Transportation | Routes et Transports/Traffic Operations | Opérations de la Circulation",
          "all/Roads and Transportation | Routes et Transports/Traffic Operations | Opérations de la Circulation",
          "all/Roads and Transportation | Routes et Transports/Traffic Operations | Opérations de la Circulation",
          "all/Roads and Transportation | Routes et Transports/Traffic Operations | Opérations de la Circulation",
          "all/Roads and Transportation | Routes et Transports/Traffic Operations | Opérations de la Circulation",
          "all/Roads and Transportation | Routes et Transports/Traffic Operations | Opérations de la Circulation",
          "all/Roads and Transportation | Routes et Transports/Traffic Operations | Opérations de la Circulation",
          "all/Roads and Transportation | Routes et Transports/Traffic Operations | Opérations de la Circulation",
          "all/Bylaw Services | Service des Règlements Municipaux/Zoning Enforcement",
          "all/Bylaw Services | Service des Règlements Municipaux/Taxi",
          "all/Bylaw Services | Service des Règlements Municipaux/Smoking",
          "all/Bylaw Services | Service des Règlements Municipaux/Licensing",
          "all/Bylaw Services | Service des Règlements Municipaux/Care of Streets",
          "all/Garbage and Recycling | Déchets et Recyclage/Solid Waste Collection | Collecte des Déchets",
          "all/Bylaw Services | Service des Règlements Municipaux/Noise",
          "all/Roads and Transportation | Routes et Transports/Parking Permits (CSC) | Permis de Stationnement",
          "all/Roads and Transportation | Routes et Transports/Road and Safety Investigations",
          "all/Roads and Transportation | Routes et Transports/Road and Safety Investigations",
          "all/Roads and Transportation | Routes et Transports/Road and Safety Investigations",
          "all/Water and the Environment | Eau et Environnement/Sewers",
          "all/Water and the Environment | Eau et Environnement/Sewers",
          "all/Water and the Environment | Eau et Environnement/Forestry - Tree Maintenance",
          "all/Recreation and Culture | Loisirs et Culture/Park Maintenance SAP | Entretien des Parcs",
          "all/Bylaw Services | Service des Règlements Municipaux/Noise",
          "all/Bylaw Services | Service des Règlements Municipaux/Animals",
          "all/Water and the Environment | Eau et Environnement/Forestry - Tree Maintenance",
          "all/Water and the Environment | Eau et Environnement/Drainage",
          "all/Health and Safety | Santé et Sécurité/Discarded Needles | Aiguilles Abandonnées",
          "all/Health and Safety | Santé et Sécurité/Discarded Needles | Aiguilles Abandonnées",
          "all/Bylaw Services | Service des Règlements Municipaux/Property Standards",
          "all/Roads and Transportation | Routes et Transports/Parking Ticket Inquiry | demandes Relatives aux Co",
          "all/Recreation and Culture | Loisirs et Culture/Park Maintenance SAP | Entretien des Parcs",
          "all/Bylaw Services | Service des Règlements Municipaux/Smoking",
          "all/Bylaw Services | Service des Règlements Municipaux/Smoking",
          "all/Bylaw Services | Service des Règlements Municipaux/Smoking",
          "all/Water and the Environment | Eau et Environnement/Forestry - Tree Maintenance",
          "all/Roads and Transportation | Routes et Transports/Parking Ticket Inquiry | demandes Relatives aux Co",
          "all/Roads and Transportation | Routes et Transports/Road and Safety Investigations",
          "all/Water and the Environment | Eau et Environnement/Forestry - Tree Maintenance",
          "all/Water and the Environment | Eau et Environnement/Forestry - Tree Planting",
          "all/Water and the Environment | Eau et Environnement/Forestry - Tree Planting",
          "all/Bylaw Services | Service des Règlements Municipaux/Bylaw Services | Service des Règlements Municipaux",
          "all/Roads and Transportation | Routes et Transports/Road and Safety Investigations",
          "all/Recreation and Culture | Loisirs et Culture/Park Maintenance SAP | Entretien des Parcs",
          "all/Bylaw Services | Service des Règlements Municipaux/Parks",
          "all/Water and the Environment | Eau et Environnement/Forestry - Tree Maintenance",
          "all/Roads and Transportation | Routes et Transports/Parking Ticket Inquiry | demandes Relatives aux Co",
          "all/Social Community Service | Services Sociaux et Com/Graffiti",
          "all/Bylaw Services | Service des Règlements Municipaux/Noise",
          "all/Bylaw Services | Service des Règlements Municipaux/Parks",
          "all/Roads and Transportation | Routes et Transports/Road and Safety Investigations",
          "all/Roads and Transportation | Routes et Transports/Roads Maintenance | Entretien des Routes",
          "all/Garbage and Recycling | Déchets et Recyclage/Solid Waste Collection | Collecte des Déchets",
          "all/Recreation and Culture | Loisirs et Culture/Park Maintenance SAP | Entretien des Parcs",
          "all/Recreation and Culture | Loisirs et Culture/Park Maintenance SAP | Entretien des Parcs",
          "all/Recreation and Culture | Loisirs et Culture/Park Maintenance SAP | Entretien des Parcs",
          "all/Recreation and Culture | Loisirs et Culture/Park Maintenance SAP | Entretien des Parcs",
          "all/Recreation and Culture | Loisirs et Culture/Park Maintenance SAP | Entretien des Parcs",
          "all/Water and the Environment | Eau et Environnement/Water Quality",
          "all/Water and the Environment | Eau et Environnement/Water Turn On/Off",
          "all/Water and the Environment | Eau et Environnement/Infrastructure Broken by Contractor",
          "all/Water and the Environment | Eau et Environnement/Infrastructure Broken by Contractor",
          "all/Roads and Transportation | Routes et Transports/Roads Maintenance | Entretien des Routes",
          "all/Bylaw Services | Service des Règlements Municipaux/Smoking",
          "all/Roads and Transportation | Routes et Transports/Parking Ticket Inquiry | demandes Relatives aux Co",
          "all/Roads and Transportation | Routes et Transports/Parking Control | Gestion des Stationnements",
          "all/Bylaw Services | Service des Règlements Municipaux",
          "all/Bylaw Services | Service des Règlements Municipaux",
          "all/Licenses and Permits | Licences et Permis",
          "all/Bylaw Services | Service des Règlements Municipaux",
          "all/Bylaw Services | Service des Règlements Municipaux",
          "all/Bylaw Services | Service des Règlements Municipaux",
          "all/Health and Safety | Santé et Sécurité",
          "all/Water and the Environment | Eau et Environnement",
          "all/Bylaw Services | Service des Règlements Municipaux",
          "all/Bylaw Services | Service des Règlements Municipaux",
          "all/Water and the Environment | Eau et Environnement",
          "all/Licenses and Permits | Licences et Permis",
          "all/Water and the Environment | Eau et Environnement",
          "all/Water and the Environment | Eau et Environnement",
          "all/Water and the Environment | Eau et Environnement",
          "all/Social Community Service | Services Sociaux et Com",
          "all/Health and Safety | Santé et Sécurité",
          "all/Water and the Environment | Eau et Environnement",
          "all/Roads and Transportation | Routes et Transports",
          "all/Water and the Environment | Eau et Environnement",
          "all/Bylaw Services | Service des Règlements Municipaux",
          "all/Miscellaneous",
          "all/Water and the Environment | Eau et Environnement",
          "all/Bylaw Services | Service des Règlements Municipaux",
          "all/Recreation and Culture | Loisirs et Culture",
          "all/Roads and Transportation | Routes et Transports",
          "all/Roads and Transportation | Routes et Transports",
          "all/Roads and Transportation | Routes et Transports",
          "all/Roads and Transportation | Routes et Transports",
          "all/Bylaw Services | Service des Règlements Municipaux",
          "all/Licenses and Permits | Licences et Permis",
          "all/Water and the Environment | Eau et Environnement",
          "all/Bylaw Services | Service des Règlements Municipaux",
          "all/City Hall | Hôtel de Ville",
          "all/City Hall | Hôtel de Ville",
          "all/Garbage and Recycling | Déchets et Recyclage",
          "all/Water and the Environment | Eau et Environnement",
          "all/Roads and Transportation | Routes et Transports",
          "all/Roads and Transportation | Routes et Transports",
          "all/Water and the Environment | Eau et Environnement",
          "all/Water and the Environment | Eau et Environnement",
          "all/Bylaw Services | Service des Règlements Municipaux",
          "all/Bylaw Services | Service des Règlements Municipaux",
          "all/Garbage and Recycling | Déchets et Recyclage",
          "all/Bylaw Services | Service des Règlements Municipaux",
          "all/Roads and Transportation | Routes et Transports",
          "all/Roads and Transportation | Routes et Transports",
          "all/Roads and Transportation | Routes et Transports",
          "all/Water and the Environment | Eau et Environnement",
          "all/Water and the Environment | Eau et Environnement",
          "all/Water and the Environment | Eau et Environnement",
          "all/Water and the Environment | Eau et Environnement",
          "all/Licenses and Permits | Licences et Permis",
          "all/Bylaw Services | Service des Règlements Municipaux",
          "all",
          "all",
          "all",
          "all",
          "all",
          "all",
          "all",
          "all",
          "all",
          "all",
          ""
         ],
         "root": {
          "color": "lightgrey"
         },
         "type": "treemap",
         "values": [
          9,
          357,
          2,
          2,
          1,
          3,
          19,
          3,
          106,
          12,
          108,
          478,
          378,
          19,
          2,
          19,
          34,
          3,
          21,
          45,
          49,
          7,
          47,
          10,
          2,
          1,
          1,
          2,
          5,
          4,
          2,
          57,
          30,
          2,
          14,
          867,
          1185,
          1,
          4,
          61,
          93,
          24,
          246,
          389,
          1,
          14,
          39,
          2,
          19,
          411,
          20,
          53,
          70,
          2,
          60,
          31,
          88,
          6,
          128,
          786,
          41,
          1,
          3,
          1,
          23,
          2,
          49,
          24,
          3,
          34,
          252,
          33,
          22,
          44,
          5,
          116,
          148,
          2,
          9,
          21,
          66,
          81,
          2,
          10,
          15,
          1083,
          785,
          101,
          8,
          6,
          117,
          451,
          93,
          88,
          358,
          5,
          155,
          139,
          80,
          201,
          1,
          155,
          33,
          19,
          19,
          14,
          531,
          67,
          112,
          7,
          32,
          13,
          5,
          1,
          23,
          5,
          77,
          33,
          1,
          13,
          7,
          170,
          28,
          1,
          8,
          1831,
          224,
          4,
          9,
          22,
          478,
          6,
          5,
          242,
          10,
          66,
          4,
          6,
          3,
          47,
          14,
          35,
          1,
          17,
          36,
          8,
          107,
          23,
          43,
          26,
          29,
          1,
          157,
          14,
          138,
          21,
          3,
          5,
          320,
          28,
          5,
          19,
          42,
          220,
          34,
          17,
          1,
          3,
          339,
          23,
          3,
          48,
          730,
          117,
          39,
          7,
          14,
          36,
          835,
          59,
          4,
          1,
          7,
          18,
          106,
          6,
          334,
          749,
          11,
          8,
          7,
          730,
          10,
          19,
          888,
          5,
          45,
          526,
          33,
          2,
          59,
          3,
          22,
          10,
          6,
          29,
          9,
          175,
          7,
          5,
          9,
          3203,
          2,
          13,
          73,
          52,
          246,
          1,
          11,
          2,
          124,
          39,
          2029,
          10,
          12,
          99,
          43,
          13,
          11,
          278,
          2,
          2,
          73,
          14,
          3,
          29,
          46,
          17,
          4,
          11,
          45,
          11,
          51,
          15,
          6,
          9,
          1,
          9,
          155,
          1,
          6,
          26,
          72,
          295,
          4,
          4,
          20,
          53,
          7,
          8,
          1,
          8,
          2,
          2,
          1,
          196,
          115,
          18,
          103,
          8,
          3,
          110,
          44,
          10,
          241,
          79,
          45,
          25,
          10,
          21,
          4,
          902,
          46,
          3967,
          260,
          19,
          1,
          11,
          9,
          2,
          52,
          1,
          27,
          11,
          249,
          28,
          220,
          570,
          49,
          33,
          11,
          11,
          227,
          90,
          116,
          46,
          160,
          18,
          39,
          113,
          14,
          5,
          61,
          32,
          6,
          29,
          29,
          12,
          37,
          99,
          32,
          18,
          29,
          5,
          69,
          349,
          11,
          5,
          87,
          7,
          11,
          8,
          17,
          51,
          8,
          1,
          80,
          126,
          70,
          4,
          10,
          12,
          8,
          22,
          1,
          2,
          2,
          285,
          13,
          42,
          155,
          32,
          328,
          7,
          2,
          279,
          184,
          40,
          6,
          143,
          1,
          23,
          44,
          11,
          12,
          12,
          5,
          8,
          18,
          27,
          30,
          323,
          4,
          1,
          9,
          4,
          24,
          71,
          5,
          2167,
          123,
          116,
          350,
          2,
          18,
          83,
          36,
          78,
          3,
          1,
          10,
          2253,
          481,
          185,
          72,
          151,
          66,
          8,
          150,
          224,
          182,
          1650,
          1369,
          5058,
          3,
          50,
          119,
          264,
          92,
          156,
          2178,
          10,
          268,
          1994,
          58,
          532,
          7021,
          105,
          486,
          91,
          115,
          10376,
          46,
          4,
          410,
          1949,
          99,
          26,
          129,
          323,
          33,
          251,
          7499,
          278,
          12370,
          90,
          249,
          224,
          1369,
          15212,
          185,
          4553,
          42029
         ]
        }
       ],
       "layout": {
        "autosize": true,
        "legend": {
         "tracegroupgap": 0
        },
        "margin": {
         "b": 25,
         "l": 25,
         "r": 25,
         "t": 50
        },
        "template": {
         "data": {
          "bar": [
           {
            "error_x": {
             "color": "#2a3f5f"
            },
            "error_y": {
             "color": "#2a3f5f"
            },
            "marker": {
             "line": {
              "color": "#E5ECF6",
              "width": 0.5
             },
             "pattern": {
              "fillmode": "overlay",
              "size": 10,
              "solidity": 0.2
             }
            },
            "type": "bar"
           }
          ],
          "barpolar": [
           {
            "marker": {
             "line": {
              "color": "#E5ECF6",
              "width": 0.5
             },
             "pattern": {
              "fillmode": "overlay",
              "size": 10,
              "solidity": 0.2
             }
            },
            "type": "barpolar"
           }
          ],
          "carpet": [
           {
            "aaxis": {
             "endlinecolor": "#2a3f5f",
             "gridcolor": "white",
             "linecolor": "white",
             "minorgridcolor": "white",
             "startlinecolor": "#2a3f5f"
            },
            "baxis": {
             "endlinecolor": "#2a3f5f",
             "gridcolor": "white",
             "linecolor": "white",
             "minorgridcolor": "white",
             "startlinecolor": "#2a3f5f"
            },
            "type": "carpet"
           }
          ],
          "choropleth": [
           {
            "colorbar": {
             "outlinewidth": 0,
             "ticks": ""
            },
            "type": "choropleth"
           }
          ],
          "contour": [
           {
            "colorbar": {
             "outlinewidth": 0,
             "ticks": ""
            },
            "colorscale": [
             [
              0,
              "#0d0887"
             ],
             [
              0.1111111111111111,
              "#46039f"
             ],
             [
              0.2222222222222222,
              "#7201a8"
             ],
             [
              0.3333333333333333,
              "#9c179e"
             ],
             [
              0.4444444444444444,
              "#bd3786"
             ],
             [
              0.5555555555555556,
              "#d8576b"
             ],
             [
              0.6666666666666666,
              "#ed7953"
             ],
             [
              0.7777777777777778,
              "#fb9f3a"
             ],
             [
              0.8888888888888888,
              "#fdca26"
             ],
             [
              1,
              "#f0f921"
             ]
            ],
            "type": "contour"
           }
          ],
          "contourcarpet": [
           {
            "colorbar": {
             "outlinewidth": 0,
             "ticks": ""
            },
            "type": "contourcarpet"
           }
          ],
          "heatmap": [
           {
            "colorbar": {
             "outlinewidth": 0,
             "ticks": ""
            },
            "colorscale": [
             [
              0,
              "#0d0887"
             ],
             [
              0.1111111111111111,
              "#46039f"
             ],
             [
              0.2222222222222222,
              "#7201a8"
             ],
             [
              0.3333333333333333,
              "#9c179e"
             ],
             [
              0.4444444444444444,
              "#bd3786"
             ],
             [
              0.5555555555555556,
              "#d8576b"
             ],
             [
              0.6666666666666666,
              "#ed7953"
             ],
             [
              0.7777777777777778,
              "#fb9f3a"
             ],
             [
              0.8888888888888888,
              "#fdca26"
             ],
             [
              1,
              "#f0f921"
             ]
            ],
            "type": "heatmap"
           }
          ],
          "heatmapgl": [
           {
            "colorbar": {
             "outlinewidth": 0,
             "ticks": ""
            },
            "colorscale": [
             [
              0,
              "#0d0887"
             ],
             [
              0.1111111111111111,
              "#46039f"
             ],
             [
              0.2222222222222222,
              "#7201a8"
             ],
             [
              0.3333333333333333,
              "#9c179e"
             ],
             [
              0.4444444444444444,
              "#bd3786"
             ],
             [
              0.5555555555555556,
              "#d8576b"
             ],
             [
              0.6666666666666666,
              "#ed7953"
             ],
             [
              0.7777777777777778,
              "#fb9f3a"
             ],
             [
              0.8888888888888888,
              "#fdca26"
             ],
             [
              1,
              "#f0f921"
             ]
            ],
            "type": "heatmapgl"
           }
          ],
          "histogram": [
           {
            "marker": {
             "pattern": {
              "fillmode": "overlay",
              "size": 10,
              "solidity": 0.2
             }
            },
            "type": "histogram"
           }
          ],
          "histogram2d": [
           {
            "colorbar": {
             "outlinewidth": 0,
             "ticks": ""
            },
            "colorscale": [
             [
              0,
              "#0d0887"
             ],
             [
              0.1111111111111111,
              "#46039f"
             ],
             [
              0.2222222222222222,
              "#7201a8"
             ],
             [
              0.3333333333333333,
              "#9c179e"
             ],
             [
              0.4444444444444444,
              "#bd3786"
             ],
             [
              0.5555555555555556,
              "#d8576b"
             ],
             [
              0.6666666666666666,
              "#ed7953"
             ],
             [
              0.7777777777777778,
              "#fb9f3a"
             ],
             [
              0.8888888888888888,
              "#fdca26"
             ],
             [
              1,
              "#f0f921"
             ]
            ],
            "type": "histogram2d"
           }
          ],
          "histogram2dcontour": [
           {
            "colorbar": {
             "outlinewidth": 0,
             "ticks": ""
            },
            "colorscale": [
             [
              0,
              "#0d0887"
             ],
             [
              0.1111111111111111,
              "#46039f"
             ],
             [
              0.2222222222222222,
              "#7201a8"
             ],
             [
              0.3333333333333333,
              "#9c179e"
             ],
             [
              0.4444444444444444,
              "#bd3786"
             ],
             [
              0.5555555555555556,
              "#d8576b"
             ],
             [
              0.6666666666666666,
              "#ed7953"
             ],
             [
              0.7777777777777778,
              "#fb9f3a"
             ],
             [
              0.8888888888888888,
              "#fdca26"
             ],
             [
              1,
              "#f0f921"
             ]
            ],
            "type": "histogram2dcontour"
           }
          ],
          "mesh3d": [
           {
            "colorbar": {
             "outlinewidth": 0,
             "ticks": ""
            },
            "type": "mesh3d"
           }
          ],
          "parcoords": [
           {
            "line": {
             "colorbar": {
              "outlinewidth": 0,
              "ticks": ""
             }
            },
            "type": "parcoords"
           }
          ],
          "pie": [
           {
            "automargin": true,
            "type": "pie"
           }
          ],
          "scatter": [
           {
            "fillpattern": {
             "fillmode": "overlay",
             "size": 10,
             "solidity": 0.2
            },
            "type": "scatter"
           }
          ],
          "scatter3d": [
           {
            "line": {
             "colorbar": {
              "outlinewidth": 0,
              "ticks": ""
             }
            },
            "marker": {
             "colorbar": {
              "outlinewidth": 0,
              "ticks": ""
             }
            },
            "type": "scatter3d"
           }
          ],
          "scattercarpet": [
           {
            "marker": {
             "colorbar": {
              "outlinewidth": 0,
              "ticks": ""
             }
            },
            "type": "scattercarpet"
           }
          ],
          "scattergeo": [
           {
            "marker": {
             "colorbar": {
              "outlinewidth": 0,
              "ticks": ""
             }
            },
            "type": "scattergeo"
           }
          ],
          "scattergl": [
           {
            "marker": {
             "colorbar": {
              "outlinewidth": 0,
              "ticks": ""
             }
            },
            "type": "scattergl"
           }
          ],
          "scattermapbox": [
           {
            "marker": {
             "colorbar": {
              "outlinewidth": 0,
              "ticks": ""
             }
            },
            "type": "scattermapbox"
           }
          ],
          "scatterpolar": [
           {
            "marker": {
             "colorbar": {
              "outlinewidth": 0,
              "ticks": ""
             }
            },
            "type": "scatterpolar"
           }
          ],
          "scatterpolargl": [
           {
            "marker": {
             "colorbar": {
              "outlinewidth": 0,
              "ticks": ""
             }
            },
            "type": "scatterpolargl"
           }
          ],
          "scatterternary": [
           {
            "marker": {
             "colorbar": {
              "outlinewidth": 0,
              "ticks": ""
             }
            },
            "type": "scatterternary"
           }
          ],
          "surface": [
           {
            "colorbar": {
             "outlinewidth": 0,
             "ticks": ""
            },
            "colorscale": [
             [
              0,
              "#0d0887"
             ],
             [
              0.1111111111111111,
              "#46039f"
             ],
             [
              0.2222222222222222,
              "#7201a8"
             ],
             [
              0.3333333333333333,
              "#9c179e"
             ],
             [
              0.4444444444444444,
              "#bd3786"
             ],
             [
              0.5555555555555556,
              "#d8576b"
             ],
             [
              0.6666666666666666,
              "#ed7953"
             ],
             [
              0.7777777777777778,
              "#fb9f3a"
             ],
             [
              0.8888888888888888,
              "#fdca26"
             ],
             [
              1,
              "#f0f921"
             ]
            ],
            "type": "surface"
           }
          ],
          "table": [
           {
            "cells": {
             "fill": {
              "color": "#EBF0F8"
             },
             "line": {
              "color": "white"
             }
            },
            "header": {
             "fill": {
              "color": "#C8D4E3"
             },
             "line": {
              "color": "white"
             }
            },
            "type": "table"
           }
          ]
         },
         "layout": {
          "annotationdefaults": {
           "arrowcolor": "#2a3f5f",
           "arrowhead": 0,
           "arrowwidth": 1
          },
          "autotypenumbers": "strict",
          "coloraxis": {
           "colorbar": {
            "outlinewidth": 0,
            "ticks": ""
           }
          },
          "colorscale": {
           "diverging": [
            [
             0,
             "#8e0152"
            ],
            [
             0.1,
             "#c51b7d"
            ],
            [
             0.2,
             "#de77ae"
            ],
            [
             0.3,
             "#f1b6da"
            ],
            [
             0.4,
             "#fde0ef"
            ],
            [
             0.5,
             "#f7f7f7"
            ],
            [
             0.6,
             "#e6f5d0"
            ],
            [
             0.7,
             "#b8e186"
            ],
            [
             0.8,
             "#7fbc41"
            ],
            [
             0.9,
             "#4d9221"
            ],
            [
             1,
             "#276419"
            ]
           ],
           "sequential": [
            [
             0,
             "#0d0887"
            ],
            [
             0.1111111111111111,
             "#46039f"
            ],
            [
             0.2222222222222222,
             "#7201a8"
            ],
            [
             0.3333333333333333,
             "#9c179e"
            ],
            [
             0.4444444444444444,
             "#bd3786"
            ],
            [
             0.5555555555555556,
             "#d8576b"
            ],
            [
             0.6666666666666666,
             "#ed7953"
            ],
            [
             0.7777777777777778,
             "#fb9f3a"
            ],
            [
             0.8888888888888888,
             "#fdca26"
            ],
            [
             1,
             "#f0f921"
            ]
           ],
           "sequentialminus": [
            [
             0,
             "#0d0887"
            ],
            [
             0.1111111111111111,
             "#46039f"
            ],
            [
             0.2222222222222222,
             "#7201a8"
            ],
            [
             0.3333333333333333,
             "#9c179e"
            ],
            [
             0.4444444444444444,
             "#bd3786"
            ],
            [
             0.5555555555555556,
             "#d8576b"
            ],
            [
             0.6666666666666666,
             "#ed7953"
            ],
            [
             0.7777777777777778,
             "#fb9f3a"
            ],
            [
             0.8888888888888888,
             "#fdca26"
            ],
            [
             1,
             "#f0f921"
            ]
           ]
          },
          "colorway": [
           "#636efa",
           "#EF553B",
           "#00cc96",
           "#ab63fa",
           "#FFA15A",
           "#19d3f3",
           "#FF6692",
           "#B6E880",
           "#FF97FF",
           "#FECB52"
          ],
          "font": {
           "color": "#2a3f5f"
          },
          "geo": {
           "bgcolor": "white",
           "lakecolor": "white",
           "landcolor": "#E5ECF6",
           "showlakes": true,
           "showland": true,
           "subunitcolor": "white"
          },
          "hoverlabel": {
           "align": "left"
          },
          "hovermode": "closest",
          "mapbox": {
           "style": "light"
          },
          "paper_bgcolor": "white",
          "plot_bgcolor": "#E5ECF6",
          "polar": {
           "angularaxis": {
            "gridcolor": "white",
            "linecolor": "white",
            "ticks": ""
           },
           "bgcolor": "#E5ECF6",
           "radialaxis": {
            "gridcolor": "white",
            "linecolor": "white",
            "ticks": ""
           }
          },
          "scene": {
           "xaxis": {
            "backgroundcolor": "#E5ECF6",
            "gridcolor": "white",
            "gridwidth": 2,
            "linecolor": "white",
            "showbackground": true,
            "ticks": "",
            "zerolinecolor": "white"
           },
           "yaxis": {
            "backgroundcolor": "#E5ECF6",
            "gridcolor": "white",
            "gridwidth": 2,
            "linecolor": "white",
            "showbackground": true,
            "ticks": "",
            "zerolinecolor": "white"
           },
           "zaxis": {
            "backgroundcolor": "#E5ECF6",
            "gridcolor": "white",
            "gridwidth": 2,
            "linecolor": "white",
            "showbackground": true,
            "ticks": "",
            "zerolinecolor": "white"
           }
          },
          "shapedefaults": {
           "line": {
            "color": "#2a3f5f"
           }
          },
          "ternary": {
           "aaxis": {
            "gridcolor": "white",
            "linecolor": "white",
            "ticks": ""
           },
           "baxis": {
            "gridcolor": "white",
            "linecolor": "white",
            "ticks": ""
           },
           "bgcolor": "#E5ECF6",
           "caxis": {
            "gridcolor": "white",
            "linecolor": "white",
            "ticks": ""
           }
          },
          "title": {
           "x": 0.05
          },
          "xaxis": {
           "automargin": true,
           "gridcolor": "white",
           "linecolor": "white",
           "ticks": "",
           "title": {
            "standoff": 15
           },
           "zerolinecolor": "white",
           "zerolinewidth": 2
          },
          "yaxis": {
           "automargin": true,
           "gridcolor": "white",
           "linecolor": "white",
           "ticks": "",
           "title": {
            "standoff": 15
           },
           "zerolinecolor": "white",
           "zerolinewidth": 2
          }
         }
        }
       }
      },
      "image/png": "[encoded data removed]",
      "text/html": [
       "<div>                            <div id=\"4cfd0bc6-e99c-4cc7-96cf-a85be8ae138a\" class=\"plotly-graph-div\" style=\"height:525px; width:100%;\"></div>            <script type=\"text/javascript\">                require([\"plotly\"], function(Plotly) {                    window.PLOTLYENV=window.PLOTLYENV || {};                                    if (document.getElementById(\"4cfd0bc6-e99c-4cc7-96cf-a85be8ae138a\")) {                    Plotly.newPlot(                        \"4cfd0bc6-e99c-4cc7-96cf-a85be8ae138a\",                        [{\"branchvalues\":\"total\",\"domain\":{\"x\":[0.0,1.0],\"y\":[0.0,1.0]},\"hovertemplate\":\"labels=%{label}<br>index=%{value}<br>parent=%{parent}<br>id=%{id}<extra></extra>\",\"ids\":[\"all/Bylaw Services | Service des R\\u00e8glements Municipaux/Taxi/Accessible Taxi Refused Fare\",\"all/Garbage and Recycling | D\\u00e9chets et Recyclage/Recycle Bins | Bacs de recyclage/Additional\",\"all/Roads and Transportation | Routes et Transports/Road and Safety Investigations/Adult School Crossing Guard\",\"all/Bylaw Services | Service des R\\u00e8glements Municipaux/Taxi/Adverse Conduct - Other\",\"all/Bylaw Services | Service des R\\u00e8glements Municipaux/Taxi/Adverse Conduct - Physical\",\"all/Bylaw Services | Service des R\\u00e8glements Municipaux/Taxi/Adverse Conduct - Verbal\",\"all/Bylaw Services | Service des R\\u00e8glements Municipaux/Parks/After Hours\",\"all/Bylaw Services | Service des R\\u00e8glements Municipaux/Parks/Allocations Permit Holder Complaints\",\"all/Bylaw Services | Service des R\\u00e8glements Municipaux/Animals/Animal/Lost Pet\",\"all/Bylaw Services | Service des R\\u00e8glements Municipaux/Animals/Animals/Too Many\",\"all/Garbage and Recycling | D\\u00e9chets et Recyclage/Solid Waste Collection | Collecte des D\\u00e9chets/Apartment-Large Items\",\"all/Garbage and Recycling | D\\u00e9chets et Recyclage/Solid Waste Collection | Collecte des D\\u00e9chets/Apartments - Garbage | Appartement - D\\u00e9chets\",\"all/Garbage and Recycling | D\\u00e9chets et Recyclage/Solid Waste Collection | Collecte des D\\u00e9chets/Apartments - Large Items\",\"all/Garbage and Recycling | D\\u00e9chets et Recyclage/Solid Waste Collection | Collecte des D\\u00e9chets/Apartments - Organics\",\"all/Garbage and Recycling | D\\u00e9chets et Recyclage/Solid Waste Collection | Collecte des D\\u00e9chets/Apts - Communication Mat. | Mat\\u00e9riel de Communicat\",\"all/Garbage and Recycling | D\\u00e9chets et Recyclage/Solid Waste Collection | Collecte des D\\u00e9chets/Apts-Black Recycling Cart | Bac de recyclage noir\",\"all/Garbage and Recycling | D\\u00e9chets et Recyclage/Solid Waste Collection | Collecte des D\\u00e9chets/Apts-Blue Recycling Carts | Bacs de Recyclage Bleu\",\"all/Garbage and Recycling | D\\u00e9chets et Recyclage/Solid Waste Collection | Collecte des D\\u00e9chets/Apts-Large Item Pick-up | Collecte des Gros Articl\",\"all/Garbage and Recycling | D\\u00e9chets et Recyclage/Solid Waste Collection | Collecte des D\\u00e9chets/Apts-Organics\",\"all/Garbage and Recycling | D\\u00e9chets et Recyclage/Solid Waste Collection | Collecte des D\\u00e9chets/Apts-Recycling Grey Bins | Bacs de Recyclage Gris\",\"all/Garbage and Recycling | D\\u00e9chets et Recyclage/Solid Waste Collection | Collecte des D\\u00e9chets/Apts-Recycling Yellow Bin | Bacs de Recyclage Jaun\",\"all/Roads and Transportation | Routes et Transports/Infrastructure/Asset_Mgmt_Building_Parks\",\"all/Roads and Transportation | Routes et Transports/Infrastructure/Asset_Mgmt_Roads\",\"all/Roads and Transportation | Routes et Transports/Infrastructure/Asset_Mgmt_Sewer_Water\",\"all/Roads and Transportation | Routes et Transports/Infrastructure/Asset_Mgmt_Strat_Planning\",\"all/Bylaw Services | Service des R\\u00e8glements Municipaux/Animals/Assist OHS\",\"all/Bylaw Services | Service des R\\u00e8glements Municipaux/Property Standards/Assist Ottawa Police\",\"all/Water and the Environment | Eau et Environnement/Water - Hydrants/Assist Outside Agencies\",\"all/Water and the Environment | Eau et Environnement/Sewers/Backup From Sewer Cleaning\",\"all/Water and the Environment | Eau et Environnement/Sewers/Backyard Flooding\",\"all/Water and the Environment | Eau et Environnement/Sewers/Backyard Flooding - On Call\",\"all/Recreation and Culture | Loisirs et Culture/Park Maintenance SAP | Entretien des Parcs/Ball Diamond Field | Terrain de Balle\",\"all/Recreation and Culture | Loisirs et Culture/Park Maintenance SAP | Entretien des Parcs/Basketball Court | Terrain de Basket-Ball\",\"all/Bylaw Services | Service des R\\u00e8glements Municipaux/Animals/Bat\",\"all/Water and the Environment | Eau et Environnement/Forestry - Tree Maintenance/Bees/Wasp Nest\",\"all/Garbage and Recycling | D\\u00e9chets et Recyclage/Solid Waste Collection | Collecte des D\\u00e9chets/Black Box - SWC | Bo\\u00eete Noire - CDS\",\"all/Garbage and Recycling | D\\u00e9chets et Recyclage/Solid Waste Collection | Collecte des D\\u00e9chets/Blue Box - SWC | Bo\\u00eete bleue - CDS\",\"all/Bylaw Services | Service des R\\u00e8glements Municipaux/Property Standards/Board Up\",\"all/Roads and Transportation | Routes et Transports/Roads Maintenance | Entretien des Routes/Bridges | Ponts\",\"all/Water and the Environment | Eau et Environnement/Forestry - Tree Maintenance/Brush/Wood Removal\",\"all/Licenses and Permits | Licences et Permis/Building Code Services | Services du Code B\\u00e2timent/Building Code Complaints | Plaintes Li\\u00e9es Au Code\",\"all/Licenses and Permits | Licences et Permis/Building Code Services | Services du Code B\\u00e2timent/Building Code Inquiries | Ren Propos Code B\\u00e2timent\",\"all/Bylaw Services | Service des R\\u00e8glements Municipaux/Property Standards/Building Exterior\",\"all/Bylaw Services | Service des R\\u00e8glements Municipaux/Property Standards/Building Interior\",\"all/Water and the Environment | Eau et Environnement/Sewers/Building Sewer Information\",\"all/Roads and Transportation | Routes et Transports/Roads Maintenance | Entretien des Routes/Bus Stop | Arr\\u00eat D'autobus\",\"all/Bylaw Services | Service des R\\u00e8glements Municipaux/Property Standards/Business Premise Inspection\",\"all/Garbage and Recycling | D\\u00e9chets et Recyclage/Solid Waste Collection | Collecte des D\\u00e9chets/Calendar - Comments | Calendrier - Commentaires\",\"all/Garbage and Recycling | D\\u00e9chets et Recyclage/Solid Waste Collection | Collecte des D\\u00e9chets/Calendar - Got Wrong One | Calendrier - Mauvais Ca\",\"all/Garbage and Recycling | D\\u00e9chets et Recyclage/Solid Waste Collection | Collecte des D\\u00e9chets/Calendar to be Mailed | Demande D'envoi Par la Pos\",\"all/Licenses and Permits | Licences et Permis/Pet Registration | Enregistrement-animal domestiqe/Cancel Registration\",\"all/Water and the Environment | Eau et Environnement/Service Post Maintenance/Cap Post\",\"all/Bylaw Services | Service des R\\u00e8glements Municipaux/Noise/Car Alarms\",\"all/Bylaw Services | Service des R\\u00e8glements Municipaux/Bylaw Services | Service des R\\u00e8glements Municipaux/Care of Streets | Soin des rues\",\"all/Bylaw Services | Service des R\\u00e8glements Municipaux/Animals/Cat Being Held\",\"all/Bylaw Services | Service des R\\u00e8glements Municipaux/Animals/Cat Disturbance\",\"all/Bylaw Services | Service des R\\u00e8glements Municipaux/Animals/Cat Licensing\",\"all/Recreation and Culture | Loisirs et Culture/Park Maintenance SAP | Entretien des Parcs/Catch Basins | Puisards de Rue\",\"all/Water and the Environment | Eau et Environnement/Sewers/Catchbasin Investigation\",\"all/Roads and Transportation | Routes et Transports/Roads Maintenance | Entretien des Routes/Catchbasin/Maint. Hole | Puisards de Rue/Regard\",\"all/Water and the Environment | Eau et Environnement/Sewers/Cave In\",\"all/Water and the Environment | Eau et Environnement/Sewers/Cave In - On Call\",\"all/Garbage and Recycling | D\\u00e9chets et Recyclage/Solid Waste Collection | Collecte des D\\u00e9chets/Christmas Trees | Sapins de No\\u00ebl\",\"all/Garbage and Recycling | D\\u00e9chets et Recyclage/Solid Waste Collection | Collecte des D\\u00e9chets/City Fac - Blue Recy Cart | Bac de recyclage bleu\",\"all/Bylaw Services | Service des R\\u00e8glements Municipaux/Smoking/City Facility/Property\",\"all/Bylaw Services | Service des R\\u00e8glements Municipaux/Signs/Civic Address\",\"all/Water and the Environment | Eau et Environnement/Forestry - Tree Planting/Commemorative Tree Program\",\"all/Bylaw Services | Service des R\\u00e8glements Municipaux/Smoking/Common Area\",\"all/Water and the Environment | Eau et Environnement/Fleet | Services du Parc Automobile/Complaint Against Driver | Plainte Contre un Chauf\",\"all/Roads and Transportation | Routes et Transports/Parking Permits (CSC) | Permis de Stationnement/Consideration Permits | Permis de consid\\u00e9ration\",\"all/Bylaw Services | Service des R\\u00e8glements Municipaux/Noise/Construction\",\"all/Licenses and Permits | Licences et Permis/Wildlife Conflicts | Conflits Avec la Faune/Coyotes\",\"all/Roads and Transportation | Routes et Transports/Roads Maintenance | Entretien des Routes/Culverts - City Owned | Ponceaux - Appartenants\",\"all/Roads and Transportation | Routes et Transports/Roads Maintenance | Entretien des Routes/Culverts - Private | Ponceaux - Priv\\u00e9s\",\"all/Bylaw Services | Service des R\\u00e8glements Municipaux/Bylaw Services | Service des R\\u00e8glements Municipaux/Curbside Collection | Collecte en bordure de rue\",\"all/Roads and Transportation | Routes et Transports/Road and Safety Investigations/Curbside Regulations\",\"all/Water and the Environment | Eau et Environnement/Information/Customer Information\",\"all/Water and the Environment | Eau et Environnement/Forestry - Distinctive Tree Permit/DTP Bylaw Information | PEAD Renseignements\",\"all/Bylaw Services | Service des R\\u00e8glements Municipaux/Care of Streets/Damage\",\"all/Bylaw Services | Service des R\\u00e8glements Municipaux/Parks/Damage/Dumping\",\"all/Bylaw Services | Service des R\\u00e8glements Municipaux/Property Standards/Dead Dangerous Tree\",\"all/Water and the Environment | Eau et Environnement/Forestry - Tree Maintenance/Dead Tree\",\"all/Roads and Transportation | Routes et Transports/Parking Ticket Inquiry | demandes Relatives aux Co/Defective Equipment | \\u00c9quipement D\\u00e9fectueux\",\"all/Bylaw Services | Service des R\\u00e8glements Municipaux/Noise/Delivery/Load/Unload\",\"all/Bylaw Services | Service des R\\u00e8glements Municipaux/Property Standards/Derelict Vehicle\",\"all/Roads and Transportation | Routes et Transports/Parking Control | Gestion des Stationnements/Designated Parking | Stationnement D\\u00e9sign\\u00e9\",\"all/Water and the Environment | Eau et Environnement/Forestry - Tree Maintenance/Determine Health\",\"all/Water and the Environment | Eau et Environnement/Forestry - Tree Maintenance/Determine Ownership\",\"all/Water and the Environment | Eau et Environnement/Forestry - Distinctive Tree Permit/Distinctive Tree Permit\",\"all/Water and the Environment | Eau et Environnement/Drainage/Ditch | Foss\\u00e9s\",\"all/Roads and Transportation | Routes et Transports/Roads Maintenance | Entretien des Routes/Ditches | Foss\\u00e9s\",\"all/Bylaw Services | Service des R\\u00e8glements Municipaux/Animals/Dog Barking\",\"all/Bylaw Services | Service des R\\u00e8glements Municipaux/Animals/Dog Being Held\",\"all/Bylaw Services | Service des R\\u00e8glements Municipaux/Animals/Dog Bite\",\"all/Bylaw Services | Service des R\\u00e8glements Municipaux/Animals/Dog Licensing\",\"all/Bylaw Services | Service des R\\u00e8glements Municipaux/Animals/Dog Muzzle\",\"all/Bylaw Services | Service des R\\u00e8glements Municipaux/Animals/Dog at Large-Current\",\"all/Bylaw Services | Service des R\\u00e8glements Municipaux/Animals/Dog at Large-Prior\",\"all/Bylaw Services | Service des R\\u00e8glements Municipaux/Animals/Dog in Park\",\"all/Water and the Environment | Eau et Environnement/Sewers/Drain Trouble Basement Flooding\",\"all/Water and the Environment | Eau et Environnement/Forestry - Tree Maintenance/Driveway/Sidewalk Heaving\",\"all/Bylaw Services | Service des R\\u00e8glements Municipaux/Care of Streets/Dumping on Road\",\"all/Bylaw Services | Service des R\\u00e8glements Municipaux/Signs/Election\",\"all/Bylaw Services | Service des R\\u00e8glements Municipaux/Property Standards/Elevators\",\"all/Roads and Transportation | Routes et Transports/Traffic Management | Gestion de la Circulation/Encroachment Permit Request\",\"all/Bylaw Services | Service des R\\u00e8glements Municipaux/Animals/Exotic\",\"all/Bylaw Services | Service des R\\u00e8glements Municipaux/Property Standards/Exterior Debris/Waste\",\"all/Water and the Environment | Eau et Environnement/Forestry - Tree Maintenance/Fallen Limb\",\"all/Water and the Environment | Eau et Environnement/Forestry - Tree Maintenance/Fallen Tree\",\"all/Bylaw Services | Service des R\\u00e8glements Municipaux/Taxi/Fare Complaint\",\"all/Bylaw Services | Service des R\\u00e8glements Municipaux/Property Standards/Fence-Disrepair\",\"all/Recreation and Culture | Loisirs et Culture/Park Maintenance SAP | Entretien des Parcs/Fence/Wall Chain Link | Cl\\u00f4ture/Mur \\u00c0 Mailles Losa\",\"all/Recreation and Culture | Loisirs et Culture/Park Maintenance SAP | Entretien des Parcs/Fence/Wall Wall | Cl\\u00f4ture/Mur - Mur\",\"all/Recreation and Culture | Loisirs et Culture/Park Maintenance SAP | Entretien des Parcs/Fence/Wall Wood | Cl\\u00f4ture/Mur - Bois\",\"all/Roads and Transportation | Routes et Transports/Roads Maintenance | Entretien des Routes/Fences/Walls | Cl\\u00f4tures/Murs\",\"all/Bylaw Services | Service des R\\u00e8glements Municipaux/Noise/Festival\",\"all/Bylaw Services | Service des R\\u00e8glements Municipaux/Fireworks/Fireworks\",\"all/Bylaw Services | Service des R\\u00e8glements Municipaux/Licensing/Food Premise\",\"all/Licenses and Permits | Licences et Permis/Food Premise/Food Premise Inquiry\",\"all/Water and the Environment | Eau et Environnement/Forestry - Tree Maintenance/Foundation Damage\",\"all/Recreation and Culture | Loisirs et Culture/Park Maintenance SAP | Entretien des Parcs/Furniture Picnic Table | Mobilier Urbain Table\",\"all/Recreation and Culture | Loisirs et Culture/Park Maintenance SAP | Entretien des Parcs/Furniture Waste Recept. | Mobilier Urbain Poubelle\",\"all/Recreation and Culture | Loisirs et Culture/Park Maintenance SAP | Entretien des Parcs/Furniture/Bench/Bleacher | Mobilier Urbain/Banc/Gr\",\"all/Bylaw Services | Service des R\\u00e8glements Municipaux/Licensing/Garage Sale\",\"all/Bylaw Services | Service des R\\u00e8glements Municipaux/Noise/Garbage\",\"all/Garbage and Recycling | D\\u00e9chets et Recyclage/Solid Waste Collection | Collecte des D\\u00e9chets/Garbage - SWC | D\\u00e9chets - CDS\",\"all/Miscellaneous/New Development/General\",\"all/Water and the Environment | Eau et Environnement/Water Meters/General Complaint - Meter\",\"all/Water and the Environment | Eau et Environnement/Forestry - Tree Planting/General Tree Planting\",\"all/Bylaw Services | Service des R\\u00e8glements Municipaux/Bylaw Services | Service des R\\u00e8glements Municipaux/Graffiti\",\"all/Bylaw Services | Service des R\\u00e8glements Municipaux/Property Standards/Grass Long/Weeds\",\"all/Roads and Transportation | Routes et Transports/Roads Maintenance | Entretien des Routes/Guardrails | Glissi\\u00e8res de S\\u00e9curit\\u00e9\",\"all/Bylaw Services | Service des R\\u00e8glements Municipaux/Noise/H-Vac/Street Sweeper\",\"all/Water and the Environment | Eau et Environnement/Forestry - Tree Maintenance/Hanging/Broken Branches\",\"all/Social Community Service | Services Sociaux et Com/Graffiti/Hate | Haineux\",\"all/Bylaw Services | Service des R\\u00e8glements Municipaux/Property Standards/Heat-Insufficient\",\"all/Bylaw Services | Service des R\\u00e8glements Municipaux/Property Standards/Heat-Mechanical\",\"all/Bylaw Services | Service des R\\u00e8glements Municipaux/Fences/Height\",\"all/Bylaw Services | Service des R\\u00e8glements Municipaux/Smoking/Hospital/Long Term Care\",\"all/Water and the Environment | Eau et Environnement/Water - Hydrants/Hydrant Investigation\",\"all/Water and the Environment | Eau et Environnement/Water - Hydrants/Hydrant Investigation - On Call\",\"all/Water and the Environment | Eau et Environnement/Water - Hydrants/Hydrant Snow Removal\",\"all/Water and the Environment | Eau et Environnement/Water - Hydrants/Hydrant Thaw/Pump - On Call\",\"all/Bylaw Services | Service des R\\u00e8glements Municipaux/Property Standards/Ice/Snow Build Up\",\"all/Bylaw Services | Service des R\\u00e8glements Municipaux/Noise/Idling\",\"all/Water and the Environment | Eau et Environnement/Forestry - Tree Planting/Infill Tree Planting Inspection\",\"all/Bylaw Services | Service des R\\u00e8glements Municipaux/Licensing/Info - Business Licensing Enforcement\",\"all/Bylaw Services | Service des R\\u00e8glements Municipaux/Zoning Enforcement/Info - Zoning Enforcement\",\"all/Bylaw Services | Service des R\\u00e8glements Municipaux/Animals/Info Animals\",\"all/Bylaw Services | Service des R\\u00e8glements Municipaux/Care of Streets/Info-Care of Streets\",\"all/Bylaw Services | Service des R\\u00e8glements Municipaux/Fences/Info-Fences\",\"all/Bylaw Services | Service des R\\u00e8glements Municipaux/Fireworks/Info-Fireworks\",\"all/Bylaw Services | Service des R\\u00e8glements Municipaux/Noise/Info-Noise\",\"all/Bylaw Services | Service des R\\u00e8glements Municipaux/Parks/Info-Parks\",\"all/Bylaw Services | Service des R\\u00e8glements Municipaux/Property Standards/Info-Property Standards\",\"all/Bylaw Services | Service des R\\u00e8glements Municipaux/Signs/Info-Signs\",\"all/Bylaw Services | Service des R\\u00e8glements Municipaux/Taxi/Info-Taxis\",\"all/Bylaw Services | Service des R\\u00e8glements Municipaux/Alternate Response/Information\",\"all/Bylaw Services | Service des R\\u00e8glements Municipaux/Animals/Injured Animal\",\"all/Water and the Environment | Eau et Environnement/Forestry - Tree Maintenance/Insect Infestation\",\"all/Water and the Environment | Eau et Environnement/Sewers/Inspection Of Contractor\",\"all/Water and the Environment | Eau et Environnement/Sewers/Inspection Of Contractor - On Call\",\"all/Roads and Transportation | Routes et Transports/Road and Safety Investigations/Intersection Control\",\"all/Roads and Transportation | Routes et Transports/Parking Control | Gestion des Stationnements/Intersections\",\"all/Water and the Environment | Eau et Environnement/Water Quality/Investigate Discoloured Water\",\"all/Water and the Environment | Eau et Environnement/Water Quality/Investigate Discoloured Water - On Call\",\"all/Bylaw Services | Service des R\\u00e8glements Municipaux/Licensing/Itinerant Seller (Salesperson)\",\"all/Bylaw Services | Service des R\\u00e8glements Municipaux/Licensing/Kennel/Pet Shop\",\"all/Roads and Transportation | Routes et Transports/Parking Control | Gestion des Stationnements/Laneways | All\\u00e9es\",\"all/Water and the Environment | Eau et Environnement/Reinstatment/Lawn Investigation\",\"all/Water and the Environment | Eau et Environnement/Information/Lead Pipe Replacement Program\",\"all/Water and the Environment | Eau et Environnement/Water Quality/Lead Testing\",\"all/Garbage and Recycling | D\\u00e9chets et Recyclage/Solid Waste Collection | Collecte des D\\u00e9chets/Leaf and Yard Waste | Feuilles et R\\u00e9sidus de Jardi\",\"all/Water and the Environment | Eau et Environnement/Possible Leak/Leak Investigation\",\"all/Water and the Environment | Eau et Environnement/Possible Leak/Leak Investigation - On Call\",\"all/Water and the Environment | Eau et Environnement/Water Meters/Leaking\",\"all/Water and the Environment | Eau et Environnement/Water Meters/Leaking - On Call\",\"all/Water and the Environment | Eau et Environnement/Forestry - Tree Maintenance/Leaning/Uprooting\",\"all/Roads and Transportation | Routes et Transports/Traffic Operations | Op\\u00e9rations de la Circulation/Lights | Lumi\\u00e8res\",\"all/Bylaw Services | Service des R\\u00e8glements Municipaux/Care of Streets/Line of Sight\",\"all/Bylaw Services | Service des R\\u00e8glements Municipaux/Animals/Livestock at Large\",\"all/Bylaw Services | Service des R\\u00e8glements Municipaux/Fences/Location\",\"all/Bylaw Services | Service des R\\u00e8glements Municipaux/Zoning Enforcement/Location of Accessory Buildings\",\"all/Water and the Environment | Eau et Environnement/Sewers/Lost Keys or Animals in Sewers\",\"all/Bylaw Services | Service des R\\u00e8glements Municipaux/Noise/Machinery-AirCond/Fan/Pool/Mower/Generator\",\"all/Bylaw Services | Service des R\\u00e8glements Municipaux/Care of Streets/Maintenance\",\"all/Roads and Transportation | Routes et Transports/Parking Control | Gestion des Stationnements/Miscellaneous - Parking | Divers - Stationnement\",\"all/Garbage and Recycling | D\\u00e9chets et Recyclage/Recycle Bins | Bacs de recyclage/Missing/Stolen\",\"all/Bylaw Services | Service des R\\u00e8glements Municipaux/Care of Streets/Mud on Road\",\"all/Bylaw Services | Service des R\\u00e8glements Municipaux/Noise/Muffler\",\"all/Water and the Environment | Eau et Environnement/Drainage/Municipal Drain | Drain Municipal\",\"all/Bylaw Services | Service des R\\u00e8glements Municipaux/Noise/Music\",\"all/Water and the Environment | Eau et Environnement/Forestry - Tree Planting/Naturalization\",\"all/Bylaw Services | Service des R\\u00e8glements Municipaux/Property Standards/Needles/Syringes\",\"all/Garbage and Recycling | D\\u00e9chets et Recyclage/Recycle Bins | Bacs de recyclage/New Home\",\"all/Roads and Transportation | Routes et Transports/Road and Safety Investigations/New TCS/Roundabout - Inquiry\",\"all/Water and the Environment | Eau et Environnement/Forestry - Tree Planting/New Tree Maintenance\",\"all/Roads and Transportation | Routes et Transports/Parking Control | Gestion des Stationnements/No Parking | Aucun Stationnement\",\"all/Roads and Transportation | Routes et Transports/Parking Control | Gestion des Stationnements/No Stopping | Aucun Arr\\u00eat\",\"all/Bylaw Services | Service des R\\u00e8glements Municipaux/Taxi/Non-Accessible Taxi Refused Fare\",\"all/Bylaw Services | Service des R\\u00e8glements Municipaux/Zoning Enforcement/Non-Permitted Use\",\"all/Social Community Service | Services Sociaux et Com/Graffiti/OC Transpo\",\"all/City Hall | H\\u00f4tel de Ville/RPAM (Buildings Only) | GBI (Immeubles Seulement)/OC Transpo\",\"all/Water and the Environment | Eau et Environnement/Sewers/Odours\",\"all/Water and the Environment | Eau et Environnement/Sewers/Odours-Outdoors\",\"all/Social Community Service | Services Sociaux et Com/Graffiti/Offensive | Offensant\",\"all/Bylaw Services | Service des R\\u00e8glements Municipaux/Signs/On Road Allowance\",\"all/Water and the Environment | Eau et Environnement/No Water/Poor Pressure/On Temporary Service - No\",\"all/Water and the Environment | Eau et Environnement/No Water/Poor Pressure/On Temporary Service - Yes - On Call\",\"all/Bylaw Services | Service des R\\u00e8glements Municipaux/Bylaw Services | Service des R\\u00e8glements Municipaux/Open Air Fire | Feux en Plein Air\",\"all/Bylaw Services | Service des R\\u00e8glements Municipaux/Property Standards/Open Excavation\",\"all/Garbage and Recycling | D\\u00e9chets et Recyclage/Solid Waste Collection | Collecte des D\\u00e9chets/Organics-SWC | Biologiques-CDS\",\"all/Recreation and Culture | Loisirs et Culture/Park Maintenance SAP | Entretien des Parcs/Other - Bridge | Autre - Pont\",\"all/Recreation and Culture | Loisirs et Culture/Park Maintenance SAP | Entretien des Parcs/Other - Shelter/Kiosk | Autre - Abri/Kiosque\",\"all/Bylaw Services | Service des R\\u00e8glements Municipaux/Bylaw Services | Service des R\\u00e8glements Municipaux/Other | Autre\",\"all/Roads and Transportation | Routes et Transports/Parking Ticket Inquiry | demandes Relatives aux Co/Other | Autre\",\"all/City Hall | H\\u00f4tel de Ville/RPAM (Buildings Only) | GBI (Immeubles Seulement)/Ottawa\",\"all/Bylaw Services | Service des R\\u00e8glements Municipaux/Noise/Outdoor Patio\",\"all/Recreation and Culture | Loisirs et Culture/Park Maintenance SAP | Entretien des Parcs/Outdoor Rink | Patinoire Ext\\u00e9rieure\",\"all/Bylaw Services | Service des R\\u00e8glements Municipaux/Clothing Donation Bins/Overflowing/Maintenance\",\"all/Roads and Transportation | Routes et Transports/Parking Control | Gestion des Stationnements/Overnight (Winter Only) | Stationnement de Nuit\",\"all/Roads and Transportation | Routes et Transports/Parking Control | Gestion des Stationnements/Oversized Vehicle- Street\",\"all/Roads and Transportation | Routes et Transports/Parking Control | Gestion des Stationnements/Overtime Parking | Stationnement Expir\\u00e9\",\"all/City Hall | H\\u00f4tel de Ville/Provincial Offences (POA)|Infractions Provinciales/POA Inquiry\",\"all/Bylaw Services | Service des R\\u00e8glements Municipaux/Zoning Enforcement/Parking - Oversize Vehicle\",\"all/Bylaw Services | Service des R\\u00e8glements Municipaux/Zoning Enforcement/Parking - Yard\",\"all/Recreation and Culture | Loisirs et Culture/Park Maintenance SAP | Entretien des Parcs/Parking Lot | Stationnement\",\"all/Roads and Transportation | Routes et Transports/Parking Ticket Inquiry | demandes Relatives aux Co/Parking Permit | Permis de Stationnement\",\"all/Roads and Transportation | Routes et Transports/Parking Permits (CSC) | Permis de Stationnement/Parking Permits CSC | Permis de Stationnement\",\"all/Recreation and Culture | Loisirs et Culture/Park Maintenance SAP | Entretien des Parcs/Parks Operations General | Op\\u00e9rations de parcs g\\u00e9n\",\"all/Bylaw Services | Service des R\\u00e8glements Municipaux/Bylaw Services | Service des R\\u00e8glements Municipaux/Parks | Parcs\",\"all/Roads and Transportation | Routes et Transports/Traffic Operations | Op\\u00e9rations de la Circulation/Pavement Info\",\"all/Roads and Transportation | Routes et Transports/Traffic Operations | Op\\u00e9rations de la Circulation/Pavement Maintenance\",\"all/Roads and Transportation | Routes et Transports/Road and Safety Investigations/Pavement Markings - Review\",\"all/Roads and Transportation | Routes et Transports/Parking Equipment | \\u00c9quipement de Stationnement/Pay & Display Machine | Distributrice Payez et Aff\",\"all/Roads and Transportation | Routes et Transports/Road and Safety Investigations/Pedestrian Safety Review\",\"all/Licenses and Permits | Licences et Permis/Pet Registration | Enregistrement-animal domestiqe/Pet Registration Info\",\"all/Licenses and Permits | Licences et Permis/Pet Registration | Enregistrement-animal domestiqe/Pet Registration Update\",\"all/Bylaw Services | Service des R\\u00e8glements Municipaux/Care of Streets/Petroleum Products\",\"all/Bylaw Services | Service des R\\u00e8glements Municipaux/Animals/Pit Bull\",\"all/Recreation and Culture | Loisirs et Culture/Park Maintenance SAP | Entretien des Parcs/Play Apparatus | \\u00c9quipement de Jeu\",\"all/Bylaw Services | Service des R\\u00e8glements Municipaux/Care of Streets/Playing on Road\",\"all/Roads and Transportation | Routes et Transports/Traffic Management | Gestion de la Circulation/Policy / General Info\",\"all/Bylaw Services | Service des R\\u00e8glements Municipaux/Property Standards/Pool Fence\",\"all/Licenses and Permits | Licences et Permis/Building Code Services | Services du Code B\\u00e2timent/Pool Fence-Private | Cl\\u00f4ture de Piscine - Priv\\u00e9e\",\"all/Bylaw Services | Service des R\\u00e8glements Municipaux/Signs/Portable\",\"all/Licenses and Permits | Licences et Permis/Pet Registration | Enregistrement-animal domestiqe/Portal Transaction Issue\",\"all/Bylaw Services | Service des R\\u00e8glements Municipaux/Signs/Postering\",\"all/Roads and Transportation | Routes et Transports/Roads Maintenance | Entretien des Routes/Private Property | Propri\\u00e9t\\u00e9 Priv\\u00e9e\",\"all/Bylaw Services | Service des R\\u00e8glements Municipaux/Taxi/Private Transportation Company\",\"all/Water and the Environment | Eau et Environnement/Forestry - Tree Maintenance/Property Damage - Operations\",\"all/Bylaw Services | Service des R\\u00e8glements Municipaux/Animals/Protective Care\",\"all/Health and Safety | Sant\\u00e9 et S\\u00e9curit\\u00e9/Health | Sant\\u00e9/Public Health Inspector | Inspecteur en Sant\\u00e9 Pub\",\"all/Roads and Transportation | Routes et Transports/Traffic Management | Gestion de la Circulation/ROW Traffic Issues\",\"all/Health and Safety | Sant\\u00e9 et S\\u00e9curit\\u00e9/Discarded Needles | Aiguilles Abandonn\\u00e9es/RPAM - City of Ottawa | GBI - Ville d'Ottawa\",\"all/Roads and Transportation | Routes et Transports/Road and Safety Investigations/Railway Crossing\",\"all/Water and the Environment | Eau et Environnement/Sewers/Rat Control\",\"all/Bylaw Services | Service des R\\u00e8glements Municipaux/Property Standards/Rats-Exterior\",\"all/Bylaw Services | Service des R\\u00e8glements Municipaux/Property Standards/Rats-Interior\",\"all/Bylaw Services | Service des R\\u00e8glements Municipaux/Signs/Real Estate\",\"all/Water and the Environment | Eau et Environnement/Water Meters/Remote Reader End Point\",\"all/Licenses and Permits | Licences et Permis/Pet Registration | Enregistrement-animal domestiqe/Replacement Tag\",\"all/Roads and Transportation | Routes et Transports/Traffic Data/Request for Collision Data\",\"all/Roads and Transportation | Routes et Transports/Traffic Data/Request for Volume/Speed Data\",\"all/Garbage and Recycling | D\\u00e9chets et Recyclage/Solid Waste Collection | Collecte des D\\u00e9chets/Retail-All Container(46L) | D\\u00e9taillant-Tous Conten\",\"all/Garbage and Recycling | D\\u00e9chets et Recyclage/Solid Waste Collection | Collecte des D\\u00e9chets/Retail-All Container(80L) | D\\u00e9taillant-Tous Conten\",\"all/Garbage and Recycling | D\\u00e9chets et Recyclage/Solid Waste Collection | Collecte des D\\u00e9chets/Retail-Black Box | D\\u00e9taillant-Bo\\u00eete Noire\",\"all/Garbage and Recycling | D\\u00e9chets et Recyclage/Solid Waste Collection | Collecte des D\\u00e9chets/Retail-Blue & Black Box | D\\u00e9taillant-bo\\u00eete bleue\",\"all/Garbage and Recycling | D\\u00e9chets et Recyclage/Solid Waste Collection | Collecte des D\\u00e9chets/Retail-Blue Box | D\\u00e9taillant-Bo\\u00eete Bleue\",\"all/Garbage and Recycling | D\\u00e9chets et Recyclage/Solid Waste Collection | Collecte des D\\u00e9chets/Retail-Green 80L & KC | D\\u00e9taillant-Vert 80L et CC\",\"all/Garbage and Recycling | D\\u00e9chets et Recyclage/Solid Waste Collection | Collecte des D\\u00e9chets/Retail-Green Bin 46L | D\\u00e9taillant-Bac Vert 46L\",\"all/Garbage and Recycling | D\\u00e9chets et Recyclage/Solid Waste Collection | Collecte des D\\u00e9chets/Retail-Green Bin 80L | D\\u00e9taillant-Bac Vert 80L\",\"all/Garbage and Recycling | D\\u00e9chets et Recyclage/Solid Waste Collection | Collecte des D\\u00e9chets/Retail-Kitchen Container | D\\u00e9taillant-Contenance\",\"all/Bylaw Services | Service des R\\u00e8glements Municipaux/Property Standards/Right of Entry Permit\",\"all/Roads and Transportation | Routes et Transports/Roads Maintenance | Entretien des Routes/Road Boulevard/Easement | Route - Boulevard/Servit\",\"all/Roads and Transportation | Routes et Transports/Roads Maintenance | Entretien des Routes/Road Curb/Gutter | Route - Bordure/Caniveau\",\"all/Roads and Transportation | Routes et Transports/Traffic Management | Gestion de la Circulation/Road Cut Complaint\",\"all/Water and the Environment | Eau et Environnement/Reinstatment/Road Cut Investigation\",\"all/Water and the Environment | Eau et Environnement/Reinstatment/Road Cut Investigation - On Call\",\"all/Roads and Transportation | Routes et Transports/Roads Maintenance | Entretien des Routes/Road Flasher/Barricade | Feu Clignotant/Barricade\",\"all/Roads and Transportation | Routes et Transports/Roads Maintenance | Entretien des Routes/Road Median/Island | Route - Terre-Plein Central\",\"all/Roads and Transportation | Routes et Transports/Roads Maintenance | Entretien des Routes/Road Operations General | Op\\u00e9rations Routi\\u00e8res G\\u00e9n\",\"all/Roads and Transportation | Routes et Transports/Roads Maintenance | Entretien des Routes/Road Shoulder | Accotement\",\"all/Roads and Transportation | Routes et Transports/Roads Maintenance | Entretien des Routes/Road Travelled Surface | Route - Aires de Circulat\",\"all/Roads and Transportation | Routes et Transports/Parking Control | Gestion des Stationnements/Roads/Sidewalks | Rues/Trottoirs\",\"all/Bylaw Services | Service des R\\u00e8glements Municipaux/Zoning Enforcement/Rooming House\",\"all/Roads and Transportation | Routes et Transports/Parking Ticket Inquiry | demandes Relatives aux Co/Same Infract. within 3 hr | M\\u00eame Infraction en 3\",\"all/Roads and Transportation | Routes et Transports/Road and Safety Investigations/School Zone Safety\",\"all/Garbage and Recycling | D\\u00e9chets et Recyclage/Solid Waste Collection | Collecte des D\\u00e9chets/Schools-Green Bin | \\u00c9coles-Bac Vert\",\"all/Water and the Environment | Eau et Environnement/Infrastructure Broken by Contractor/Service\",\"all/Water and the Environment | Eau et Environnement/Service Post Maintenance/Service Post Adjustment\",\"all/Water and the Environment | Eau et Environnement/Infrastructure Broken by Contractor/Sewer\",\"all/Bylaw Services | Service des R\\u00e8glements Municipaux/Smoking/Shisha/Hookah\",\"all/Bylaw Services | Service des R\\u00e8glements Municipaux/Property Standards/Shopping Cart\",\"all/Bylaw Services | Service des R\\u00e8glements Municipaux/Noise/Shouting\",\"all/Recreation and Culture | Loisirs et Culture/Park Maintenance SAP | Entretien des Parcs/Shrubs | Buissons\",\"all/Recreation and Culture | Loisirs et Culture/Park Maintenance SAP | Entretien des Parcs/Sidewalk/Pathways/trails | Trottoirs Ou Sentiers\",\"all/Roads and Transportation | Routes et Transports/Roads Maintenance | Entretien des Routes/Sidewalks/Pathways/Trails | Trottoirs/Sentiers\",\"all/Water and the Environment | Eau et Environnement/Forestry - Tree Maintenance/Sight Line/Obstructed City Sign\",\"all/Recreation and Culture | Loisirs et Culture/Park Maintenance SAP | Entretien des Parcs/Sign | Panneau\",\"all/Roads and Transportation | Routes et Transports/Traffic Operations | Op\\u00e9rations de la Circulation/Sign-Info\",\"all/Roads and Transportation | Routes et Transports/Traffic Operations | Op\\u00e9rations de la Circulation/Sign-Leaning\",\"all/Roads and Transportation | Routes et Transports/Traffic Operations | Op\\u00e9rations de la Circulation/Sign-Other\",\"all/Roads and Transportation | Routes et Transports/Traffic Operations | Op\\u00e9rations de la Circulation/Sign-Priority\",\"all/Roads and Transportation | Routes et Transports/Road and Safety Investigations/Signage Review\",\"all/Roads and Transportation | Routes et Transports/Traffic Operations | Op\\u00e9rations de la Circulation/Signal-Audible\",\"all/Roads and Transportation | Routes et Transports/Traffic Operations | Op\\u00e9rations de la Circulation/Signal-Bulb Out\",\"all/Roads and Transportation | Routes et Transports/Traffic Operations | Op\\u00e9rations de la Circulation/Signal-Control\",\"all/Roads and Transportation | Routes et Transports/Traffic Operations | Op\\u00e9rations de la Circulation/Signal-Engineer\",\"all/Roads and Transportation | Routes et Transports/Traffic Operations | Op\\u00e9rations de la Circulation/Signal-Flash\",\"all/Roads and Transportation | Routes et Transports/Traffic Operations | Op\\u00e9rations de la Circulation/Signal-Flasher\",\"all/Roads and Transportation | Routes et Transports/Traffic Operations | Op\\u00e9rations de la Circulation/Signal-Info\",\"all/Roads and Transportation | Routes et Transports/Traffic Operations | Op\\u00e9rations de la Circulation/Signal-Light Out\",\"all/Roads and Transportation | Routes et Transports/Traffic Operations | Op\\u00e9rations de la Circulation/Signal-Other\",\"all/Roads and Transportation | Routes et Transports/Traffic Operations | Op\\u00e9rations de la Circulation/Signal-Overhead Sign\",\"all/Roads and Transportation | Routes et Transports/Traffic Operations | Op\\u00e9rations de la Circulation/Signal-Pedestrian Head\",\"all/Roads and Transportation | Routes et Transports/Traffic Operations | Op\\u00e9rations de la Circulation/Signal-Pole\",\"all/Roads and Transportation | Routes et Transports/Traffic Operations | Op\\u00e9rations de la Circulation/Signal-Power Outage\",\"all/Roads and Transportation | Routes et Transports/Traffic Operations | Op\\u00e9rations de la Circulation/Signal-Push Button\",\"all/Roads and Transportation | Routes et Transports/Traffic Operations | Op\\u00e9rations de la Circulation/Signal-Timing\",\"all/Bylaw Services | Service des R\\u00e8glements Municipaux/Zoning Enforcement/Site Plan Enforcement\",\"all/Bylaw Services | Service des R\\u00e8glements Municipaux/Taxi/Skipped Fare\",\"all/Bylaw Services | Service des R\\u00e8glements Municipaux/Smoking/Smoking-info\",\"all/Bylaw Services | Service des R\\u00e8glements Municipaux/Licensing/Snow Plow Contractor\",\"all/Bylaw Services | Service des R\\u00e8glements Municipaux/Care of Streets/Snow on Road/Sidewalk\",\"all/Garbage and Recycling | D\\u00e9chets et Recyclage/Solid Waste Collection | Collecte des D\\u00e9chets/Special Consideration | Programme sp\\u00e9cial\",\"all/Bylaw Services | Service des R\\u00e8glements Municipaux/Noise/Special Event\",\"all/Roads and Transportation | Routes et Transports/Parking Permits (CSC) | Permis de Stationnement/Special Events | \\u00c9v\\u00e8nements Sp\\u00e9ciaux\",\"all/Roads and Transportation | Routes et Transports/Road and Safety Investigations/Speed Concern\",\"all/Roads and Transportation | Routes et Transports/Road and Safety Investigations/Speed Display Board\",\"all/Roads and Transportation | Routes et Transports/Road and Safety Investigations/Speed Limit Change\",\"all/Water and the Environment | Eau et Environnement/Sewers/Spills\",\"all/Water and the Environment | Eau et Environnement/Sewers/Spills - On Call\",\"all/Water and the Environment | Eau et Environnement/Forestry - Tree Maintenance/Split/Cracked/Cavity\",\"all/Recreation and Culture | Loisirs et Culture/Park Maintenance SAP | Entretien des Parcs/Sports Field | Terrain de Sport\",\"all/Bylaw Services | Service des R\\u00e8glements Municipaux/Noise/Squeal Tires\",\"all/Bylaw Services | Service des R\\u00e8glements Municipaux/Animals/Stoop and Scoop\",\"all/Water and the Environment | Eau et Environnement/Forestry - Tree Maintenance/Stump Removal\",\"all/Water and the Environment | Eau et Environnement/Drainage/Surface Drainage | Drainage de L'eau de Surface\",\"all/Health and Safety | Sant\\u00e9 et S\\u00e9curit\\u00e9/Discarded Needles | Aiguilles Abandonn\\u00e9es/Surface Ops-Parks | Op\\u00e9rations de Surface - Parcs\",\"all/Health and Safety | Sant\\u00e9 et S\\u00e9curit\\u00e9/Discarded Needles | Aiguilles Abandonn\\u00e9es/Surface Ops-Roads | Op\\u00e9rations de Surface - Routes\",\"all/Bylaw Services | Service des R\\u00e8glements Municipaux/Property Standards/Swimming Pool-Water\",\"all/Roads and Transportation | Routes et Transports/Parking Ticket Inquiry | demandes Relatives aux Co/Technical Errors | Erreurs Techniques\",\"all/Recreation and Culture | Loisirs et Culture/Park Maintenance SAP | Entretien des Parcs/Tennis Court | Terrain de Tennis\",\"all/Bylaw Services | Service des R\\u00e8glements Municipaux/Smoking/Tobacco Retailer - Sales to Minor\",\"all/Bylaw Services | Service des R\\u00e8glements Municipaux/Smoking/Tobacco Retailer - Signage Request\",\"all/Bylaw Services | Service des R\\u00e8glements Municipaux/Smoking/Tobacco Retailer - Signage Violation\",\"all/Water and the Environment | Eau et Environnement/Forestry - Tree Maintenance/Too Big/Unsightly\",\"all/Roads and Transportation | Routes et Transports/Parking Ticket Inquiry | demandes Relatives aux Co/Tourist Courtesy Policy | Politique de Courtoisie\",\"all/Roads and Transportation | Routes et Transports/Road and Safety Investigations/Traffic Operational Review\",\"all/Water and the Environment | Eau et Environnement/Forestry - Tree Maintenance/Tree Maintenance Information\",\"all/Water and the Environment | Eau et Environnement/Forestry - Tree Planting/Tree Planting Information\",\"all/Water and the Environment | Eau et Environnement/Forestry - Tree Planting/Trees in Trust\",\"all/Bylaw Services | Service des R\\u00e8glements Municipaux/Bylaw Services | Service des R\\u00e8glements Municipaux/Trees | Arbres\",\"all/Roads and Transportation | Routes et Transports/Road and Safety Investigations/Truck Routes\",\"all/Recreation and Culture | Loisirs et Culture/Park Maintenance SAP | Entretien des Parcs/Turf | Pelouse\",\"all/Bylaw Services | Service des R\\u00e8glements Municipaux/Parks/Unauthorized Activities\",\"all/Water and the Environment | Eau et Environnement/Forestry - Tree Maintenance/Unauthorized Tree Removal\",\"all/Roads and Transportation | Routes et Transports/Parking Ticket Inquiry | demandes Relatives aux Co/Valid Pay & Display Stub | Coupon de Stationnement\",\"all/Social Community Service | Services Sociaux et Com/Graffiti/Vandalism | Vandalisme\",\"all/Bylaw Services | Service des R\\u00e8glements Municipaux/Noise/Vehicle Repair\",\"all/Bylaw Services | Service des R\\u00e8glements Municipaux/Parks/Vehicles In Park\",\"all/Roads and Transportation | Routes et Transports/Road and Safety Investigations/Visibility Review\",\"all/Roads and Transportation | Routes et Transports/Roads Maintenance | Entretien des Routes/Waste Receptacle | Poubelle\",\"all/Garbage and Recycling | D\\u00e9chets et Recyclage/Solid Waste Collection | Collecte des D\\u00e9chets/Waste Receptacle-Roadside | Poubelle bord de route\",\"all/Recreation and Culture | Loisirs et Culture/Park Maintenance SAP | Entretien des Parcs/Water Feature/Beach | Plage\",\"all/Recreation and Culture | Loisirs et Culture/Park Maintenance SAP | Entretien des Parcs/Water Feature/Fountain | Fontaine\",\"all/Recreation and Culture | Loisirs et Culture/Park Maintenance SAP | Entretien des Parcs/Water Feature/Ravine/Crk | Ravin/Ruisseau\",\"all/Recreation and Culture | Loisirs et Culture/Park Maintenance SAP | Entretien des Parcs/Water Feature/Spray Pad | Aire de Jets Deau\",\"all/Recreation and Culture | Loisirs et Culture/Park Maintenance SAP | Entretien des Parcs/Water Feature/Wading Pool | Pataugeoire\",\"all/Water and the Environment | Eau et Environnement/Water Quality/Water Quality\",\"all/Water and the Environment | Eau et Environnement/Water Turn On/Off/Water Turn On/Off\",\"all/Water and the Environment | Eau et Environnement/Infrastructure Broken by Contractor/Watermain\",\"all/Water and the Environment | Eau et Environnement/Infrastructure Broken by Contractor/Watermain - On Call\",\"all/Roads and Transportation | Routes et Transports/Roads Maintenance | Entretien des Routes/Waterways | Cours d'eau\",\"all/Bylaw Services | Service des R\\u00e8glements Municipaux/Smoking/Workplace\",\"all/Roads and Transportation | Routes et Transports/Parking Ticket Inquiry | demandes Relatives aux Co/Wrong Person Charged | Mauvaise Personne Inculp\\u00e9e\",\"all/Roads and Transportation | Routes et Transports/Parking Control | Gestion des Stationnements/Zones\",\"all/Bylaw Services | Service des R\\u00e8glements Municipaux/Alternate Response\",\"all/Bylaw Services | Service des R\\u00e8glements Municipaux/Animals\",\"all/Licenses and Permits | Licences et Permis/Building Code Services | Services du Code B\\u00e2timent\",\"all/Bylaw Services | Service des R\\u00e8glements Municipaux/Bylaw Services | Service des R\\u00e8glements Municipaux\",\"all/Bylaw Services | Service des R\\u00e8glements Municipaux/Care of Streets\",\"all/Bylaw Services | Service des R\\u00e8glements Municipaux/Clothing Donation Bins\",\"all/Health and Safety | Sant\\u00e9 et S\\u00e9curit\\u00e9/Discarded Needles | Aiguilles Abandonn\\u00e9es\",\"all/Water and the Environment | Eau et Environnement/Drainage\",\"all/Bylaw Services | Service des R\\u00e8glements Municipaux/Fences\",\"all/Bylaw Services | Service des R\\u00e8glements Municipaux/Fireworks\",\"all/Water and the Environment | Eau et Environnement/Fleet | Services du Parc Automobile\",\"all/Licenses and Permits | Licences et Permis/Food Premise\",\"all/Water and the Environment | Eau et Environnement/Forestry - Distinctive Tree Permit\",\"all/Water and the Environment | Eau et Environnement/Forestry - Tree Maintenance\",\"all/Water and the Environment | Eau et Environnement/Forestry - Tree Planting\",\"all/Social Community Service | Services Sociaux et Com/Graffiti\",\"all/Health and Safety | Sant\\u00e9 et S\\u00e9curit\\u00e9/Health | Sant\\u00e9\",\"all/Water and the Environment | Eau et Environnement/Information\",\"all/Roads and Transportation | Routes et Transports/Infrastructure\",\"all/Water and the Environment | Eau et Environnement/Infrastructure Broken by Contractor\",\"all/Bylaw Services | Service des R\\u00e8glements Municipaux/Licensing\",\"all/Miscellaneous/New Development\",\"all/Water and the Environment | Eau et Environnement/No Water/Poor Pressure\",\"all/Bylaw Services | Service des R\\u00e8glements Municipaux/Noise\",\"all/Recreation and Culture | Loisirs et Culture/Park Maintenance SAP | Entretien des Parcs\",\"all/Roads and Transportation | Routes et Transports/Parking Control | Gestion des Stationnements\",\"all/Roads and Transportation | Routes et Transports/Parking Equipment | \\u00c9quipement de Stationnement\",\"all/Roads and Transportation | Routes et Transports/Parking Permits (CSC) | Permis de Stationnement\",\"all/Roads and Transportation | Routes et Transports/Parking Ticket Inquiry | demandes Relatives aux Co\",\"all/Bylaw Services | Service des R\\u00e8glements Municipaux/Parks\",\"all/Licenses and Permits | Licences et Permis/Pet Registration | Enregistrement-animal domestiqe\",\"all/Water and the Environment | Eau et Environnement/Possible Leak\",\"all/Bylaw Services | Service des R\\u00e8glements Municipaux/Property Standards\",\"all/City Hall | H\\u00f4tel de Ville/Provincial Offences (POA)|Infractions Provinciales\",\"all/City Hall | H\\u00f4tel de Ville/RPAM (Buildings Only) | GBI (Immeubles Seulement)\",\"all/Garbage and Recycling | D\\u00e9chets et Recyclage/Recycle Bins | Bacs de recyclage\",\"all/Water and the Environment | Eau et Environnement/Reinstatment\",\"all/Roads and Transportation | Routes et Transports/Road and Safety Investigations\",\"all/Roads and Transportation | Routes et Transports/Roads Maintenance | Entretien des Routes\",\"all/Water and the Environment | Eau et Environnement/Service Post Maintenance\",\"all/Water and the Environment | Eau et Environnement/Sewers\",\"all/Bylaw Services | Service des R\\u00e8glements Municipaux/Signs\",\"all/Bylaw Services | Service des R\\u00e8glements Municipaux/Smoking\",\"all/Garbage and Recycling | D\\u00e9chets et Recyclage/Solid Waste Collection | Collecte des D\\u00e9chets\",\"all/Bylaw Services | Service des R\\u00e8glements Municipaux/Taxi\",\"all/Roads and Transportation | Routes et Transports/Traffic Data\",\"all/Roads and Transportation | Routes et Transports/Traffic Management | Gestion de la Circulation\",\"all/Roads and Transportation | Routes et Transports/Traffic Operations | Op\\u00e9rations de la Circulation\",\"all/Water and the Environment | Eau et Environnement/Water - Hydrants\",\"all/Water and the Environment | Eau et Environnement/Water Meters\",\"all/Water and the Environment | Eau et Environnement/Water Quality\",\"all/Water and the Environment | Eau et Environnement/Water Turn On/Off\",\"all/Licenses and Permits | Licences et Permis/Wildlife Conflicts | Conflits Avec la Faune\",\"all/Bylaw Services | Service des R\\u00e8glements Municipaux/Zoning Enforcement\",\"all/Bylaw Services | Service des R\\u00e8glements Municipaux\",\"all/City Hall | H\\u00f4tel de Ville\",\"all/Garbage and Recycling | D\\u00e9chets et Recyclage\",\"all/Health and Safety | Sant\\u00e9 et S\\u00e9curit\\u00e9\",\"all/Licenses and Permits | Licences et Permis\",\"all/Miscellaneous\",\"all/Recreation and Culture | Loisirs et Culture\",\"all/Roads and Transportation | Routes et Transports\",\"all/Social Community Service | Services Sociaux et Com\",\"all/Water and the Environment | Eau et Environnement\",\"all\"],\"labels\":[\"Accessible Taxi Refused Fare\",\"Additional\",\"Adult School Crossing Guard\",\"Adverse Conduct - Other\",\"Adverse Conduct - Physical\",\"Adverse Conduct - Verbal\",\"After Hours\",\"Allocations Permit Holder Complaints\",\"Animal/Lost Pet\",\"Animals/Too Many\",\"Apartment-Large Items\",\"Apartments - Garbage | Appartement - D\\u00e9chets\",\"Apartments - Large Items\",\"Apartments - Organics\",\"Apts - Communication Mat. | Mat\\u00e9riel de Communicat\",\"Apts-Black Recycling Cart | Bac de recyclage noir\",\"Apts-Blue Recycling Carts | Bacs de Recyclage Bleu\",\"Apts-Large Item Pick-up | Collecte des Gros Articl\",\"Apts-Organics\",\"Apts-Recycling Grey Bins | Bacs de Recyclage Gris\",\"Apts-Recycling Yellow Bin | Bacs de Recyclage Jaun\",\"Asset_Mgmt_Building_Parks\",\"Asset_Mgmt_Roads\",\"Asset_Mgmt_Sewer_Water\",\"Asset_Mgmt_Strat_Planning\",\"Assist OHS\",\"Assist Ottawa Police\",\"Assist Outside Agencies\",\"Backup From Sewer Cleaning\",\"Backyard Flooding\",\"Backyard Flooding - On Call\",\"Ball Diamond Field | Terrain de Balle\",\"Basketball Court | Terrain de Basket-Ball\",\"Bat\",\"Bees/Wasp Nest\",\"Black Box - SWC | Bo\\u00eete Noire - CDS\",\"Blue Box - SWC | Bo\\u00eete bleue - CDS\",\"Board Up\",\"Bridges | Ponts\",\"Brush/Wood Removal\",\"Building Code Complaints | Plaintes Li\\u00e9es Au Code\",\"Building Code Inquiries | Ren Propos Code B\\u00e2timent\",\"Building Exterior\",\"Building Interior\",\"Building Sewer Information\",\"Bus Stop | Arr\\u00eat D'autobus\",\"Business Premise Inspection\",\"Calendar - Comments | Calendrier - Commentaires\",\"Calendar - Got Wrong One | Calendrier - Mauvais Ca\",\"Calendar to be Mailed | Demande D'envoi Par la Pos\",\"Cancel Registration\",\"Cap Post\",\"Car Alarms\",\"Care of Streets | Soin des rues\",\"Cat Being Held\",\"Cat Disturbance\",\"Cat Licensing\",\"Catch Basins | Puisards de Rue\",\"Catchbasin Investigation\",\"Catchbasin/Maint. Hole | Puisards de Rue/Regard\",\"Cave In\",\"Cave In - On Call\",\"Christmas Trees | Sapins de No\\u00ebl\",\"City Fac - Blue Recy Cart | Bac de recyclage bleu\",\"City Facility/Property\",\"Civic Address\",\"Commemorative Tree Program\",\"Common Area\",\"Complaint Against Driver | Plainte Contre un Chauf\",\"Consideration Permits | Permis de consid\\u00e9ration\",\"Construction\",\"Coyotes\",\"Culverts - City Owned | Ponceaux - Appartenants\",\"Culverts - Private | Ponceaux - Priv\\u00e9s\",\"Curbside Collection | Collecte en bordure de rue\",\"Curbside Regulations\",\"Customer Information\",\"DTP Bylaw Information | PEAD Renseignements\",\"Damage\",\"Damage/Dumping\",\"Dead Dangerous Tree\",\"Dead Tree\",\"Defective Equipment | \\u00c9quipement D\\u00e9fectueux\",\"Delivery/Load/Unload\",\"Derelict Vehicle\",\"Designated Parking | Stationnement D\\u00e9sign\\u00e9\",\"Determine Health\",\"Determine Ownership\",\"Distinctive Tree Permit\",\"Ditch | Foss\\u00e9s\",\"Ditches | Foss\\u00e9s\",\"Dog Barking\",\"Dog Being Held\",\"Dog Bite\",\"Dog Licensing\",\"Dog Muzzle\",\"Dog at Large-Current\",\"Dog at Large-Prior\",\"Dog in Park\",\"Drain Trouble Basement Flooding\",\"Driveway/Sidewalk Heaving\",\"Dumping on Road\",\"Election\",\"Elevators\",\"Encroachment Permit Request\",\"Exotic\",\"Exterior Debris/Waste\",\"Fallen Limb\",\"Fallen Tree\",\"Fare Complaint\",\"Fence-Disrepair\",\"Fence/Wall Chain Link | Cl\\u00f4ture/Mur \\u00c0 Mailles Losa\",\"Fence/Wall Wall | Cl\\u00f4ture/Mur - Mur\",\"Fence/Wall Wood | Cl\\u00f4ture/Mur - Bois\",\"Fences/Walls | Cl\\u00f4tures/Murs\",\"Festival\",\"Fireworks\",\"Food Premise\",\"Food Premise Inquiry\",\"Foundation Damage\",\"Furniture Picnic Table | Mobilier Urbain Table\",\"Furniture Waste Recept. | Mobilier Urbain Poubelle\",\"Furniture/Bench/Bleacher | Mobilier Urbain/Banc/Gr\",\"Garage Sale\",\"Garbage\",\"Garbage - SWC | D\\u00e9chets - CDS\",\"General\",\"General Complaint - Meter\",\"General Tree Planting\",\"Graffiti\",\"Grass Long/Weeds\",\"Guardrails | Glissi\\u00e8res de S\\u00e9curit\\u00e9\",\"H-Vac/Street Sweeper\",\"Hanging/Broken Branches\",\"Hate | Haineux\",\"Heat-Insufficient\",\"Heat-Mechanical\",\"Height\",\"Hospital/Long Term Care\",\"Hydrant Investigation\",\"Hydrant Investigation - On Call\",\"Hydrant Snow Removal\",\"Hydrant Thaw/Pump - On Call\",\"Ice/Snow Build Up\",\"Idling\",\"Infill Tree Planting Inspection\",\"Info - Business Licensing Enforcement\",\"Info - Zoning Enforcement\",\"Info Animals\",\"Info-Care of Streets\",\"Info-Fences\",\"Info-Fireworks\",\"Info-Noise\",\"Info-Parks\",\"Info-Property Standards\",\"Info-Signs\",\"Info-Taxis\",\"Information\",\"Injured Animal\",\"Insect Infestation\",\"Inspection Of Contractor\",\"Inspection Of Contractor - On Call\",\"Intersection Control\",\"Intersections\",\"Investigate Discoloured Water\",\"Investigate Discoloured Water - On Call\",\"Itinerant Seller (Salesperson)\",\"Kennel/Pet Shop\",\"Laneways | All\\u00e9es\",\"Lawn Investigation\",\"Lead Pipe Replacement Program\",\"Lead Testing\",\"Leaf and Yard Waste | Feuilles et R\\u00e9sidus de Jardi\",\"Leak Investigation\",\"Leak Investigation - On Call\",\"Leaking\",\"Leaking - On Call\",\"Leaning/Uprooting\",\"Lights | Lumi\\u00e8res\",\"Line of Sight\",\"Livestock at Large\",\"Location\",\"Location of Accessory Buildings\",\"Lost Keys or Animals in Sewers\",\"Machinery-AirCond/Fan/Pool/Mower/Generator\",\"Maintenance\",\"Miscellaneous - Parking | Divers - Stationnement\",\"Missing/Stolen\",\"Mud on Road\",\"Muffler\",\"Municipal Drain | Drain Municipal\",\"Music\",\"Naturalization\",\"Needles/Syringes\",\"New Home\",\"New TCS/Roundabout - Inquiry\",\"New Tree Maintenance\",\"No Parking | Aucun Stationnement\",\"No Stopping | Aucun Arr\\u00eat\",\"Non-Accessible Taxi Refused Fare\",\"Non-Permitted Use\",\"OC Transpo\",\"OC Transpo\",\"Odours\",\"Odours-Outdoors\",\"Offensive | Offensant\",\"On Road Allowance\",\"On Temporary Service - No\",\"On Temporary Service - Yes - On Call\",\"Open Air Fire | Feux en Plein Air\",\"Open Excavation\",\"Organics-SWC | Biologiques-CDS\",\"Other - Bridge | Autre - Pont\",\"Other - Shelter/Kiosk | Autre - Abri/Kiosque\",\"Other | Autre\",\"Other | Autre\",\"Ottawa\",\"Outdoor Patio\",\"Outdoor Rink | Patinoire Ext\\u00e9rieure\",\"Overflowing/Maintenance\",\"Overnight (Winter Only) | Stationnement de Nuit\",\"Oversized Vehicle- Street\",\"Overtime Parking | Stationnement Expir\\u00e9\",\"POA Inquiry\",\"Parking - Oversize Vehicle\",\"Parking - Yard\",\"Parking Lot | Stationnement\",\"Parking Permit | Permis de Stationnement\",\"Parking Permits CSC | Permis de Stationnement\",\"Parks Operations General | Op\\u00e9rations de parcs g\\u00e9n\",\"Parks | Parcs\",\"Pavement Info\",\"Pavement Maintenance\",\"Pavement Markings - Review\",\"Pay & Display Machine | Distributrice Payez et Aff\",\"Pedestrian Safety Review\",\"Pet Registration Info\",\"Pet Registration Update\",\"Petroleum Products\",\"Pit Bull\",\"Play Apparatus | \\u00c9quipement de Jeu\",\"Playing on Road\",\"Policy / General Info\",\"Pool Fence\",\"Pool Fence-Private | Cl\\u00f4ture de Piscine - Priv\\u00e9e\",\"Portable\",\"Portal Transaction Issue\",\"Postering\",\"Private Property | Propri\\u00e9t\\u00e9 Priv\\u00e9e\",\"Private Transportation Company\",\"Property Damage - Operations\",\"Protective Care\",\"Public Health Inspector | Inspecteur en Sant\\u00e9 Pub\",\"ROW Traffic Issues\",\"RPAM - City of Ottawa | GBI - Ville d'Ottawa\",\"Railway Crossing\",\"Rat Control\",\"Rats-Exterior\",\"Rats-Interior\",\"Real Estate\",\"Remote Reader End Point\",\"Replacement Tag\",\"Request for Collision Data\",\"Request for Volume/Speed Data\",\"Retail-All Container(46L) | D\\u00e9taillant-Tous Conten\",\"Retail-All Container(80L) | D\\u00e9taillant-Tous Conten\",\"Retail-Black Box | D\\u00e9taillant-Bo\\u00eete Noire\",\"Retail-Blue & Black Box | D\\u00e9taillant-bo\\u00eete bleue\",\"Retail-Blue Box | D\\u00e9taillant-Bo\\u00eete Bleue\",\"Retail-Green 80L & KC | D\\u00e9taillant-Vert 80L et CC\",\"Retail-Green Bin 46L | D\\u00e9taillant-Bac Vert 46L\",\"Retail-Green Bin 80L | D\\u00e9taillant-Bac Vert 80L\",\"Retail-Kitchen Container | D\\u00e9taillant-Contenance\",\"Right of Entry Permit\",\"Road Boulevard/Easement | Route - Boulevard/Servit\",\"Road Curb/Gutter | Route - Bordure/Caniveau\",\"Road Cut Complaint\",\"Road Cut Investigation\",\"Road Cut Investigation - On Call\",\"Road Flasher/Barricade | Feu Clignotant/Barricade\",\"Road Median/Island | Route - Terre-Plein Central\",\"Road Operations General | Op\\u00e9rations Routi\\u00e8res G\\u00e9n\",\"Road Shoulder | Accotement\",\"Road Travelled Surface | Route - Aires de Circulat\",\"Roads/Sidewalks | Rues/Trottoirs\",\"Rooming House\",\"Same Infract. within 3 hr | M\\u00eame Infraction en 3\",\"School Zone Safety\",\"Schools-Green Bin | \\u00c9coles-Bac Vert\",\"Service\",\"Service Post Adjustment\",\"Sewer\",\"Shisha/Hookah\",\"Shopping Cart\",\"Shouting\",\"Shrubs | Buissons\",\"Sidewalk/Pathways/trails | Trottoirs Ou Sentiers\",\"Sidewalks/Pathways/Trails | Trottoirs/Sentiers\",\"Sight Line/Obstructed City Sign\",\"Sign | Panneau\",\"Sign-Info\",\"Sign-Leaning\",\"Sign-Other\",\"Sign-Priority\",\"Signage Review\",\"Signal-Audible\",\"Signal-Bulb Out\",\"Signal-Control\",\"Signal-Engineer\",\"Signal-Flash\",\"Signal-Flasher\",\"Signal-Info\",\"Signal-Light Out\",\"Signal-Other\",\"Signal-Overhead Sign\",\"Signal-Pedestrian Head\",\"Signal-Pole\",\"Signal-Power Outage\",\"Signal-Push Button\",\"Signal-Timing\",\"Site Plan Enforcement\",\"Skipped Fare\",\"Smoking-info\",\"Snow Plow Contractor\",\"Snow on Road/Sidewalk\",\"Special Consideration | Programme sp\\u00e9cial\",\"Special Event\",\"Special Events | \\u00c9v\\u00e8nements Sp\\u00e9ciaux\",\"Speed Concern\",\"Speed Display Board\",\"Speed Limit Change\",\"Spills\",\"Spills - On Call\",\"Split/Cracked/Cavity\",\"Sports Field | Terrain de Sport\",\"Squeal Tires\",\"Stoop and Scoop\",\"Stump Removal\",\"Surface Drainage | Drainage de L'eau de Surface\",\"Surface Ops-Parks | Op\\u00e9rations de Surface - Parcs\",\"Surface Ops-Roads | Op\\u00e9rations de Surface - Routes\",\"Swimming Pool-Water\",\"Technical Errors | Erreurs Techniques\",\"Tennis Court | Terrain de Tennis\",\"Tobacco Retailer - Sales to Minor\",\"Tobacco Retailer - Signage Request\",\"Tobacco Retailer - Signage Violation\",\"Too Big/Unsightly\",\"Tourist Courtesy Policy | Politique de Courtoisie\",\"Traffic Operational Review\",\"Tree Maintenance Information\",\"Tree Planting Information\",\"Trees in Trust\",\"Trees | Arbres\",\"Truck Routes\",\"Turf | Pelouse\",\"Unauthorized Activities\",\"Unauthorized Tree Removal\",\"Valid Pay & Display Stub | Coupon de Stationnement\",\"Vandalism | Vandalisme\",\"Vehicle Repair\",\"Vehicles In Park\",\"Visibility Review\",\"Waste Receptacle | Poubelle\",\"Waste Receptacle-Roadside | Poubelle bord de route\",\"Water Feature/Beach | Plage\",\"Water Feature/Fountain | Fontaine\",\"Water Feature/Ravine/Crk | Ravin/Ruisseau\",\"Water Feature/Spray Pad | Aire de Jets Deau\",\"Water Feature/Wading Pool | Pataugeoire\",\"Water Quality\",\"Water Turn On/Off\",\"Watermain\",\"Watermain - On Call\",\"Waterways | Cours d'eau\",\"Workplace\",\"Wrong Person Charged | Mauvaise Personne Inculp\\u00e9e\",\"Zones\",\"Alternate Response\",\"Animals\",\"Building Code Services | Services du Code B\\u00e2timent\",\"Bylaw Services | Service des R\\u00e8glements Municipaux\",\"Care of Streets\",\"Clothing Donation Bins\",\"Discarded Needles | Aiguilles Abandonn\\u00e9es\",\"Drainage\",\"Fences\",\"Fireworks\",\"Fleet | Services du Parc Automobile\",\"Food Premise\",\"Forestry - Distinctive Tree Permit\",\"Forestry - Tree Maintenance\",\"Forestry - Tree Planting\",\"Graffiti\",\"Health | Sant\\u00e9\",\"Information\",\"Infrastructure\",\"Infrastructure Broken by Contractor\",\"Licensing\",\"New Development\",\"No Water/Poor Pressure\",\"Noise\",\"Park Maintenance SAP | Entretien des Parcs\",\"Parking Control | Gestion des Stationnements\",\"Parking Equipment | \\u00c9quipement de Stationnement\",\"Parking Permits (CSC) | Permis de Stationnement\",\"Parking Ticket Inquiry | demandes Relatives aux Co\",\"Parks\",\"Pet Registration | Enregistrement-animal domestiqe\",\"Possible Leak\",\"Property Standards\",\"Provincial Offences (POA)|Infractions Provinciales\",\"RPAM (Buildings Only) | GBI (Immeubles Seulement)\",\"Recycle Bins | Bacs de recyclage\",\"Reinstatment\",\"Road and Safety Investigations\",\"Roads Maintenance | Entretien des Routes\",\"Service Post Maintenance\",\"Sewers\",\"Signs\",\"Smoking\",\"Solid Waste Collection | Collecte des D\\u00e9chets\",\"Taxi\",\"Traffic Data\",\"Traffic Management | Gestion de la Circulation\",\"Traffic Operations | Op\\u00e9rations de la Circulation\",\"Water - Hydrants\",\"Water Meters\",\"Water Quality\",\"Water Turn On/Off\",\"Wildlife Conflicts | Conflits Avec la Faune\",\"Zoning Enforcement\",\"Bylaw Services | Service des R\\u00e8glements Municipaux\",\"City Hall | H\\u00f4tel de Ville\",\"Garbage and Recycling | D\\u00e9chets et Recyclage\",\"Health and Safety | Sant\\u00e9 et S\\u00e9curit\\u00e9\",\"Licenses and Permits | Licences et Permis\",\"Miscellaneous\",\"Recreation and Culture | Loisirs et Culture\",\"Roads and Transportation | Routes et Transports\",\"Social Community Service | Services Sociaux et Com\",\"Water and the Environment | Eau et Environnement\",\"all\"],\"name\":\"\",\"parents\":[\"all/Bylaw Services | Service des R\\u00e8glements Municipaux/Taxi\",\"all/Garbage and Recycling | D\\u00e9chets et Recyclage/Recycle Bins | Bacs de recyclage\",\"all/Roads and Transportation | Routes et Transports/Road and Safety Investigations\",\"all/Bylaw Services | Service des R\\u00e8glements Municipaux/Taxi\",\"all/Bylaw Services | Service des R\\u00e8glements Municipaux/Taxi\",\"all/Bylaw Services | Service des R\\u00e8glements Municipaux/Taxi\",\"all/Bylaw Services | Service des R\\u00e8glements Municipaux/Parks\",\"all/Bylaw Services | Service des R\\u00e8glements Municipaux/Parks\",\"all/Bylaw Services | Service des R\\u00e8glements Municipaux/Animals\",\"all/Bylaw Services | Service des R\\u00e8glements Municipaux/Animals\",\"all/Garbage and Recycling | D\\u00e9chets et Recyclage/Solid Waste Collection | Collecte des D\\u00e9chets\",\"all/Garbage and Recycling | D\\u00e9chets et Recyclage/Solid Waste Collection | Collecte des D\\u00e9chets\",\"all/Garbage and Recycling | D\\u00e9chets et Recyclage/Solid Waste Collection | Collecte des D\\u00e9chets\",\"all/Garbage and Recycling | D\\u00e9chets et Recyclage/Solid Waste Collection | Collecte des D\\u00e9chets\",\"all/Garbage and Recycling | D\\u00e9chets et Recyclage/Solid Waste Collection | Collecte des D\\u00e9chets\",\"all/Garbage and Recycling | D\\u00e9chets et Recyclage/Solid Waste Collection | Collecte des D\\u00e9chets\",\"all/Garbage and Recycling | D\\u00e9chets et Recyclage/Solid Waste Collection | Collecte des D\\u00e9chets\",\"all/Garbage and Recycling | D\\u00e9chets et Recyclage/Solid Waste Collection | Collecte des D\\u00e9chets\",\"all/Garbage and Recycling | D\\u00e9chets et Recyclage/Solid Waste Collection | Collecte des D\\u00e9chets\",\"all/Garbage and Recycling | D\\u00e9chets et Recyclage/Solid Waste Collection | Collecte des D\\u00e9chets\",\"all/Garbage and Recycling | D\\u00e9chets et Recyclage/Solid Waste Collection | Collecte des D\\u00e9chets\",\"all/Roads and Transportation | Routes et Transports/Infrastructure\",\"all/Roads and Transportation | Routes et Transports/Infrastructure\",\"all/Roads and Transportation | Routes et Transports/Infrastructure\",\"all/Roads and Transportation | Routes et Transports/Infrastructure\",\"all/Bylaw Services | Service des R\\u00e8glements Municipaux/Animals\",\"all/Bylaw Services | Service des R\\u00e8glements Municipaux/Property Standards\",\"all/Water and the Environment | Eau et Environnement/Water - Hydrants\",\"all/Water and the Environment | Eau et Environnement/Sewers\",\"all/Water and the Environment | Eau et Environnement/Sewers\",\"all/Water and the Environment | Eau et Environnement/Sewers\",\"all/Recreation and Culture | Loisirs et Culture/Park Maintenance SAP | Entretien des Parcs\",\"all/Recreation and Culture | Loisirs et Culture/Park Maintenance SAP | Entretien des Parcs\",\"all/Bylaw Services | Service des R\\u00e8glements Municipaux/Animals\",\"all/Water and the Environment | Eau et Environnement/Forestry - Tree Maintenance\",\"all/Garbage and Recycling | D\\u00e9chets et Recyclage/Solid Waste Collection | Collecte des D\\u00e9chets\",\"all/Garbage and Recycling | D\\u00e9chets et Recyclage/Solid Waste Collection | Collecte des D\\u00e9chets\",\"all/Bylaw Services | Service des R\\u00e8glements Municipaux/Property Standards\",\"all/Roads and Transportation | Routes et Transports/Roads Maintenance | Entretien des Routes\",\"all/Water and the Environment | Eau et Environnement/Forestry - Tree Maintenance\",\"all/Licenses and Permits | Licences et Permis/Building Code Services | Services du Code B\\u00e2timent\",\"all/Licenses and Permits | Licences et Permis/Building Code Services | Services du Code B\\u00e2timent\",\"all/Bylaw Services | Service des R\\u00e8glements Municipaux/Property Standards\",\"all/Bylaw Services | Service des R\\u00e8glements Municipaux/Property Standards\",\"all/Water and the Environment | Eau et Environnement/Sewers\",\"all/Roads and Transportation | Routes et Transports/Roads Maintenance | Entretien des Routes\",\"all/Bylaw Services | Service des R\\u00e8glements Municipaux/Property Standards\",\"all/Garbage and Recycling | D\\u00e9chets et Recyclage/Solid Waste Collection | Collecte des D\\u00e9chets\",\"all/Garbage and Recycling | D\\u00e9chets et Recyclage/Solid Waste Collection | Collecte des D\\u00e9chets\",\"all/Garbage and Recycling | D\\u00e9chets et Recyclage/Solid Waste Collection | Collecte des D\\u00e9chets\",\"all/Licenses and Permits | Licences et Permis/Pet Registration | Enregistrement-animal domestiqe\",\"all/Water and the Environment | Eau et Environnement/Service Post Maintenance\",\"all/Bylaw Services | Service des R\\u00e8glements Municipaux/Noise\",\"all/Bylaw Services | Service des R\\u00e8glements Municipaux/Bylaw Services | Service des R\\u00e8glements Municipaux\",\"all/Bylaw Services | Service des R\\u00e8glements Municipaux/Animals\",\"all/Bylaw Services | Service des R\\u00e8glements Municipaux/Animals\",\"all/Bylaw Services | Service des R\\u00e8glements Municipaux/Animals\",\"all/Recreation and Culture | Loisirs et Culture/Park Maintenance SAP | Entretien des Parcs\",\"all/Water and the Environment | Eau et Environnement/Sewers\",\"all/Roads and Transportation | Routes et Transports/Roads Maintenance | Entretien des Routes\",\"all/Water and the Environment | Eau et Environnement/Sewers\",\"all/Water and the Environment | Eau et Environnement/Sewers\",\"all/Garbage and Recycling | D\\u00e9chets et Recyclage/Solid Waste Collection | Collecte des D\\u00e9chets\",\"all/Garbage and Recycling | D\\u00e9chets et Recyclage/Solid Waste Collection | Collecte des D\\u00e9chets\",\"all/Bylaw Services | Service des R\\u00e8glements Municipaux/Smoking\",\"all/Bylaw Services | Service des R\\u00e8glements Municipaux/Signs\",\"all/Water and the Environment | Eau et Environnement/Forestry - Tree Planting\",\"all/Bylaw Services | Service des R\\u00e8glements Municipaux/Smoking\",\"all/Water and the Environment | Eau et Environnement/Fleet | Services du Parc Automobile\",\"all/Roads and Transportation | Routes et Transports/Parking Permits (CSC) | Permis de Stationnement\",\"all/Bylaw Services | Service des R\\u00e8glements Municipaux/Noise\",\"all/Licenses and Permits | Licences et Permis/Wildlife Conflicts | Conflits Avec la Faune\",\"all/Roads and Transportation | Routes et Transports/Roads Maintenance | Entretien des Routes\",\"all/Roads and Transportation | Routes et Transports/Roads Maintenance | Entretien des Routes\",\"all/Bylaw Services | Service des R\\u00e8glements Municipaux/Bylaw Services | Service des R\\u00e8glements Municipaux\",\"all/Roads and Transportation | Routes et Transports/Road and Safety Investigations\",\"all/Water and the Environment | Eau et Environnement/Information\",\"all/Water and the Environment | Eau et Environnement/Forestry - Distinctive Tree Permit\",\"all/Bylaw Services | Service des R\\u00e8glements Municipaux/Care of Streets\",\"all/Bylaw Services | Service des R\\u00e8glements Municipaux/Parks\",\"all/Bylaw Services | Service des R\\u00e8glements Municipaux/Property Standards\",\"all/Water and the Environment | Eau et Environnement/Forestry - Tree Maintenance\",\"all/Roads and Transportation | Routes et Transports/Parking Ticket Inquiry | demandes Relatives aux Co\",\"all/Bylaw Services | Service des R\\u00e8glements Municipaux/Noise\",\"all/Bylaw Services | Service des R\\u00e8glements Municipaux/Property Standards\",\"all/Roads and Transportation | Routes et Transports/Parking Control | Gestion des Stationnements\",\"all/Water and the Environment | Eau et Environnement/Forestry - Tree Maintenance\",\"all/Water and the Environment | Eau et Environnement/Forestry - Tree Maintenance\",\"all/Water and the Environment | Eau et Environnement/Forestry - Distinctive Tree Permit\",\"all/Water and the Environment | Eau et Environnement/Drainage\",\"all/Roads and Transportation | Routes et Transports/Roads Maintenance | Entretien des Routes\",\"all/Bylaw Services | Service des R\\u00e8glements Municipaux/Animals\",\"all/Bylaw Services | Service des R\\u00e8glements Municipaux/Animals\",\"all/Bylaw Services | Service des R\\u00e8glements Municipaux/Animals\",\"all/Bylaw Services | Service des R\\u00e8glements Municipaux/Animals\",\"all/Bylaw Services | Service des R\\u00e8glements Municipaux/Animals\",\"all/Bylaw Services | Service des R\\u00e8glements Municipaux/Animals\",\"all/Bylaw Services | Service des R\\u00e8glements Municipaux/Animals\",\"all/Bylaw Services | Service des R\\u00e8glements Municipaux/Animals\",\"all/Water and the Environment | Eau et Environnement/Sewers\",\"all/Water and the Environment | Eau et Environnement/Forestry - Tree Maintenance\",\"all/Bylaw Services | Service des R\\u00e8glements Municipaux/Care of Streets\",\"all/Bylaw Services | Service des R\\u00e8glements Municipaux/Signs\",\"all/Bylaw Services | Service des R\\u00e8glements Municipaux/Property Standards\",\"all/Roads and Transportation | Routes et Transports/Traffic Management | Gestion de la Circulation\",\"all/Bylaw Services | Service des R\\u00e8glements Municipaux/Animals\",\"all/Bylaw Services | Service des R\\u00e8glements Municipaux/Property Standards\",\"all/Water and the Environment | Eau et Environnement/Forestry - Tree Maintenance\",\"all/Water and the Environment | Eau et Environnement/Forestry - Tree Maintenance\",\"all/Bylaw Services | Service des R\\u00e8glements Municipaux/Taxi\",\"all/Bylaw Services | Service des R\\u00e8glements Municipaux/Property Standards\",\"all/Recreation and Culture | Loisirs et Culture/Park Maintenance SAP | Entretien des Parcs\",\"all/Recreation and Culture | Loisirs et Culture/Park Maintenance SAP | Entretien des Parcs\",\"all/Recreation and Culture | Loisirs et Culture/Park Maintenance SAP | Entretien des Parcs\",\"all/Roads and Transportation | Routes et Transports/Roads Maintenance | Entretien des Routes\",\"all/Bylaw Services | Service des R\\u00e8glements Municipaux/Noise\",\"all/Bylaw Services | Service des R\\u00e8glements Municipaux/Fireworks\",\"all/Bylaw Services | Service des R\\u00e8glements Municipaux/Licensing\",\"all/Licenses and Permits | Licences et Permis/Food Premise\",\"all/Water and the Environment | Eau et Environnement/Forestry - Tree Maintenance\",\"all/Recreation and Culture | Loisirs et Culture/Park Maintenance SAP | Entretien des Parcs\",\"all/Recreation and Culture | Loisirs et Culture/Park Maintenance SAP | Entretien des Parcs\",\"all/Recreation and Culture | Loisirs et Culture/Park Maintenance SAP | Entretien des Parcs\",\"all/Bylaw Services | Service des R\\u00e8glements Municipaux/Licensing\",\"all/Bylaw Services | Service des R\\u00e8glements Municipaux/Noise\",\"all/Garbage and Recycling | D\\u00e9chets et Recyclage/Solid Waste Collection | Collecte des D\\u00e9chets\",\"all/Miscellaneous/New Development\",\"all/Water and the Environment | Eau et Environnement/Water Meters\",\"all/Water and the Environment | Eau et Environnement/Forestry - Tree Planting\",\"all/Bylaw Services | Service des R\\u00e8glements Municipaux/Bylaw Services | Service des R\\u00e8glements Municipaux\",\"all/Bylaw Services | Service des R\\u00e8glements Municipaux/Property Standards\",\"all/Roads and Transportation | Routes et Transports/Roads Maintenance | Entretien des Routes\",\"all/Bylaw Services | Service des R\\u00e8glements Municipaux/Noise\",\"all/Water and the Environment | Eau et Environnement/Forestry - Tree Maintenance\",\"all/Social Community Service | Services Sociaux et Com/Graffiti\",\"all/Bylaw Services | Service des R\\u00e8glements Municipaux/Property Standards\",\"all/Bylaw Services | Service des R\\u00e8glements Municipaux/Property Standards\",\"all/Bylaw Services | Service des R\\u00e8glements Municipaux/Fences\",\"all/Bylaw Services | Service des R\\u00e8glements Municipaux/Smoking\",\"all/Water and the Environment | Eau et Environnement/Water - Hydrants\",\"all/Water and the Environment | Eau et Environnement/Water - Hydrants\",\"all/Water and the Environment | Eau et Environnement/Water - Hydrants\",\"all/Water and the Environment | Eau et Environnement/Water - Hydrants\",\"all/Bylaw Services | Service des R\\u00e8glements Municipaux/Property Standards\",\"all/Bylaw Services | Service des R\\u00e8glements Municipaux/Noise\",\"all/Water and the Environment | Eau et Environnement/Forestry - Tree Planting\",\"all/Bylaw Services | Service des R\\u00e8glements Municipaux/Licensing\",\"all/Bylaw Services | Service des R\\u00e8glements Municipaux/Zoning Enforcement\",\"all/Bylaw Services | Service des R\\u00e8glements Municipaux/Animals\",\"all/Bylaw Services | Service des R\\u00e8glements Municipaux/Care of Streets\",\"all/Bylaw Services | Service des R\\u00e8glements Municipaux/Fences\",\"all/Bylaw Services | Service des R\\u00e8glements Municipaux/Fireworks\",\"all/Bylaw Services | Service des R\\u00e8glements Municipaux/Noise\",\"all/Bylaw Services | Service des R\\u00e8glements Municipaux/Parks\",\"all/Bylaw Services | Service des R\\u00e8glements Municipaux/Property Standards\",\"all/Bylaw Services | Service des R\\u00e8glements Municipaux/Signs\",\"all/Bylaw Services | Service des R\\u00e8glements Municipaux/Taxi\",\"all/Bylaw Services | Service des R\\u00e8glements Municipaux/Alternate Response\",\"all/Bylaw Services | Service des R\\u00e8glements Municipaux/Animals\",\"all/Water and the Environment | Eau et Environnement/Forestry - Tree Maintenance\",\"all/Water and the Environment | Eau et Environnement/Sewers\",\"all/Water and the Environment | Eau et Environnement/Sewers\",\"all/Roads and Transportation | Routes et Transports/Road and Safety Investigations\",\"all/Roads and Transportation | Routes et Transports/Parking Control | Gestion des Stationnements\",\"all/Water and the Environment | Eau et Environnement/Water Quality\",\"all/Water and the Environment | Eau et Environnement/Water Quality\",\"all/Bylaw Services | Service des R\\u00e8glements Municipaux/Licensing\",\"all/Bylaw Services | Service des R\\u00e8glements Municipaux/Licensing\",\"all/Roads and Transportation | Routes et Transports/Parking Control | Gestion des Stationnements\",\"all/Water and the Environment | Eau et Environnement/Reinstatment\",\"all/Water and the Environment | Eau et Environnement/Information\",\"all/Water and the Environment | Eau et Environnement/Water Quality\",\"all/Garbage and Recycling | D\\u00e9chets et Recyclage/Solid Waste Collection | Collecte des D\\u00e9chets\",\"all/Water and the Environment | Eau et Environnement/Possible Leak\",\"all/Water and the Environment | Eau et Environnement/Possible Leak\",\"all/Water and the Environment | Eau et Environnement/Water Meters\",\"all/Water and the Environment | Eau et Environnement/Water Meters\",\"all/Water and the Environment | Eau et Environnement/Forestry - Tree Maintenance\",\"all/Roads and Transportation | Routes et Transports/Traffic Operations | Op\\u00e9rations de la Circulation\",\"all/Bylaw Services | Service des R\\u00e8glements Municipaux/Care of Streets\",\"all/Bylaw Services | Service des R\\u00e8glements Municipaux/Animals\",\"all/Bylaw Services | Service des R\\u00e8glements Municipaux/Fences\",\"all/Bylaw Services | Service des R\\u00e8glements Municipaux/Zoning Enforcement\",\"all/Water and the Environment | Eau et Environnement/Sewers\",\"all/Bylaw Services | Service des R\\u00e8glements Municipaux/Noise\",\"all/Bylaw Services | Service des R\\u00e8glements Municipaux/Care of Streets\",\"all/Roads and Transportation | Routes et Transports/Parking Control | Gestion des Stationnements\",\"all/Garbage and Recycling | D\\u00e9chets et Recyclage/Recycle Bins | Bacs de recyclage\",\"all/Bylaw Services | Service des R\\u00e8glements Municipaux/Care of Streets\",\"all/Bylaw Services | Service des R\\u00e8glements Municipaux/Noise\",\"all/Water and the Environment | Eau et Environnement/Drainage\",\"all/Bylaw Services | Service des R\\u00e8glements Municipaux/Noise\",\"all/Water and the Environment | Eau et Environnement/Forestry - Tree Planting\",\"all/Bylaw Services | Service des R\\u00e8glements Municipaux/Property Standards\",\"all/Garbage and Recycling | D\\u00e9chets et Recyclage/Recycle Bins | Bacs de recyclage\",\"all/Roads and Transportation | Routes et Transports/Road and Safety Investigations\",\"all/Water and the Environment | Eau et Environnement/Forestry - Tree Planting\",\"all/Roads and Transportation | Routes et Transports/Parking Control | Gestion des Stationnements\",\"all/Roads and Transportation | Routes et Transports/Parking Control | Gestion des Stationnements\",\"all/Bylaw Services | Service des R\\u00e8glements Municipaux/Taxi\",\"all/Bylaw Services | Service des R\\u00e8glements Municipaux/Zoning Enforcement\",\"all/Social Community Service | Services Sociaux et Com/Graffiti\",\"all/City Hall | H\\u00f4tel de Ville/RPAM (Buildings Only) | GBI (Immeubles Seulement)\",\"all/Water and the Environment | Eau et Environnement/Sewers\",\"all/Water and the Environment | Eau et Environnement/Sewers\",\"all/Social Community Service | Services Sociaux et Com/Graffiti\",\"all/Bylaw Services | Service des R\\u00e8glements Municipaux/Signs\",\"all/Water and the Environment | Eau et Environnement/No Water/Poor Pressure\",\"all/Water and the Environment | Eau et Environnement/No Water/Poor Pressure\",\"all/Bylaw Services | Service des R\\u00e8glements Municipaux/Bylaw Services | Service des R\\u00e8glements Municipaux\",\"all/Bylaw Services | Service des R\\u00e8glements Municipaux/Property Standards\",\"all/Garbage and Recycling | D\\u00e9chets et Recyclage/Solid Waste Collection | Collecte des D\\u00e9chets\",\"all/Recreation and Culture | Loisirs et Culture/Park Maintenance SAP | Entretien des Parcs\",\"all/Recreation and Culture | Loisirs et Culture/Park Maintenance SAP | Entretien des Parcs\",\"all/Bylaw Services | Service des R\\u00e8glements Municipaux/Bylaw Services | Service des R\\u00e8glements Municipaux\",\"all/Roads and Transportation | Routes et Transports/Parking Ticket Inquiry | demandes Relatives aux Co\",\"all/City Hall | H\\u00f4tel de Ville/RPAM (Buildings Only) | GBI (Immeubles Seulement)\",\"all/Bylaw Services | Service des R\\u00e8glements Municipaux/Noise\",\"all/Recreation and Culture | Loisirs et Culture/Park Maintenance SAP | Entretien des Parcs\",\"all/Bylaw Services | Service des R\\u00e8glements Municipaux/Clothing Donation Bins\",\"all/Roads and Transportation | Routes et Transports/Parking Control | Gestion des Stationnements\",\"all/Roads and Transportation | Routes et Transports/Parking Control | Gestion des Stationnements\",\"all/Roads and Transportation | Routes et Transports/Parking Control | Gestion des Stationnements\",\"all/City Hall | H\\u00f4tel de Ville/Provincial Offences (POA)|Infractions Provinciales\",\"all/Bylaw Services | Service des R\\u00e8glements Municipaux/Zoning Enforcement\",\"all/Bylaw Services | Service des R\\u00e8glements Municipaux/Zoning Enforcement\",\"all/Recreation and Culture | Loisirs et Culture/Park Maintenance SAP | Entretien des Parcs\",\"all/Roads and Transportation | Routes et Transports/Parking Ticket Inquiry | demandes Relatives aux Co\",\"all/Roads and Transportation | Routes et Transports/Parking Permits (CSC) | Permis de Stationnement\",\"all/Recreation and Culture | Loisirs et Culture/Park Maintenance SAP | Entretien des Parcs\",\"all/Bylaw Services | Service des R\\u00e8glements Municipaux/Bylaw Services | Service des R\\u00e8glements Municipaux\",\"all/Roads and Transportation | Routes et Transports/Traffic Operations | Op\\u00e9rations de la Circulation\",\"all/Roads and Transportation | Routes et Transports/Traffic Operations | Op\\u00e9rations de la Circulation\",\"all/Roads and Transportation | Routes et Transports/Road and Safety Investigations\",\"all/Roads and Transportation | Routes et Transports/Parking Equipment | \\u00c9quipement de Stationnement\",\"all/Roads and Transportation | Routes et Transports/Road and Safety Investigations\",\"all/Licenses and Permits | Licences et Permis/Pet Registration | Enregistrement-animal domestiqe\",\"all/Licenses and Permits | Licences et Permis/Pet Registration | Enregistrement-animal domestiqe\",\"all/Bylaw Services | Service des R\\u00e8glements Municipaux/Care of Streets\",\"all/Bylaw Services | Service des R\\u00e8glements Municipaux/Animals\",\"all/Recreation and Culture | Loisirs et Culture/Park Maintenance SAP | Entretien des Parcs\",\"all/Bylaw Services | Service des R\\u00e8glements Municipaux/Care of Streets\",\"all/Roads and Transportation | Routes et Transports/Traffic Management | Gestion de la Circulation\",\"all/Bylaw Services | Service des R\\u00e8glements Municipaux/Property Standards\",\"all/Licenses and Permits | Licences et Permis/Building Code Services | Services du Code B\\u00e2timent\",\"all/Bylaw Services | Service des R\\u00e8glements Municipaux/Signs\",\"all/Licenses and Permits | Licences et Permis/Pet Registration | Enregistrement-animal domestiqe\",\"all/Bylaw Services | Service des R\\u00e8glements Municipaux/Signs\",\"all/Roads and Transportation | Routes et Transports/Roads Maintenance | Entretien des Routes\",\"all/Bylaw Services | Service des R\\u00e8glements Municipaux/Taxi\",\"all/Water and the Environment | Eau et Environnement/Forestry - Tree Maintenance\",\"all/Bylaw Services | Service des R\\u00e8glements Municipaux/Animals\",\"all/Health and Safety | Sant\\u00e9 et S\\u00e9curit\\u00e9/Health | Sant\\u00e9\",\"all/Roads and Transportation | Routes et Transports/Traffic Management | Gestion de la Circulation\",\"all/Health and Safety | Sant\\u00e9 et S\\u00e9curit\\u00e9/Discarded Needles | Aiguilles Abandonn\\u00e9es\",\"all/Roads and Transportation | Routes et Transports/Road and Safety Investigations\",\"all/Water and the Environment | Eau et Environnement/Sewers\",\"all/Bylaw Services | Service des R\\u00e8glements Municipaux/Property Standards\",\"all/Bylaw Services | Service des R\\u00e8glements Municipaux/Property Standards\",\"all/Bylaw Services | Service des R\\u00e8glements Municipaux/Signs\",\"all/Water and the Environment | Eau et Environnement/Water Meters\",\"all/Licenses and Permits | Licences et Permis/Pet Registration | Enregistrement-animal domestiqe\",\"all/Roads and Transportation | Routes et Transports/Traffic Data\",\"all/Roads and Transportation | Routes et Transports/Traffic Data\",\"all/Garbage and Recycling | D\\u00e9chets et Recyclage/Solid Waste Collection | Collecte des D\\u00e9chets\",\"all/Garbage and Recycling | D\\u00e9chets et Recyclage/Solid Waste Collection | Collecte des D\\u00e9chets\",\"all/Garbage and Recycling | D\\u00e9chets et Recyclage/Solid Waste Collection | Collecte des D\\u00e9chets\",\"all/Garbage and Recycling | D\\u00e9chets et Recyclage/Solid Waste Collection | Collecte des D\\u00e9chets\",\"all/Garbage and Recycling | D\\u00e9chets et Recyclage/Solid Waste Collection | Collecte des D\\u00e9chets\",\"all/Garbage and Recycling | D\\u00e9chets et Recyclage/Solid Waste Collection | Collecte des D\\u00e9chets\",\"all/Garbage and Recycling | D\\u00e9chets et Recyclage/Solid Waste Collection | Collecte des D\\u00e9chets\",\"all/Garbage and Recycling | D\\u00e9chets et Recyclage/Solid Waste Collection | Collecte des D\\u00e9chets\",\"all/Garbage and Recycling | D\\u00e9chets et Recyclage/Solid Waste Collection | Collecte des D\\u00e9chets\",\"all/Bylaw Services | Service des R\\u00e8glements Municipaux/Property Standards\",\"all/Roads and Transportation | Routes et Transports/Roads Maintenance | Entretien des Routes\",\"all/Roads and Transportation | Routes et Transports/Roads Maintenance | Entretien des Routes\",\"all/Roads and Transportation | Routes et Transports/Traffic Management | Gestion de la Circulation\",\"all/Water and the Environment | Eau et Environnement/Reinstatment\",\"all/Water and the Environment | Eau et Environnement/Reinstatment\",\"all/Roads and Transportation | Routes et Transports/Roads Maintenance | Entretien des Routes\",\"all/Roads and Transportation | Routes et Transports/Roads Maintenance | Entretien des Routes\",\"all/Roads and Transportation | Routes et Transports/Roads Maintenance | Entretien des Routes\",\"all/Roads and Transportation | Routes et Transports/Roads Maintenance | Entretien des Routes\",\"all/Roads and Transportation | Routes et Transports/Roads Maintenance | Entretien des Routes\",\"all/Roads and Transportation | Routes et Transports/Parking Control | Gestion des Stationnements\",\"all/Bylaw Services | Service des R\\u00e8glements Municipaux/Zoning Enforcement\",\"all/Roads and Transportation | Routes et Transports/Parking Ticket Inquiry | demandes Relatives aux Co\",\"all/Roads and Transportation | Routes et Transports/Road and Safety Investigations\",\"all/Garbage and Recycling | D\\u00e9chets et Recyclage/Solid Waste Collection | Collecte des D\\u00e9chets\",\"all/Water and the Environment | Eau et Environnement/Infrastructure Broken by Contractor\",\"all/Water and the Environment | Eau et Environnement/Service Post Maintenance\",\"all/Water and the Environment | Eau et Environnement/Infrastructure Broken by Contractor\",\"all/Bylaw Services | Service des R\\u00e8glements Municipaux/Smoking\",\"all/Bylaw Services | Service des R\\u00e8glements Municipaux/Property Standards\",\"all/Bylaw Services | Service des R\\u00e8glements Municipaux/Noise\",\"all/Recreation and Culture | Loisirs et Culture/Park Maintenance SAP | Entretien des Parcs\",\"all/Recreation and Culture | Loisirs et Culture/Park Maintenance SAP | Entretien des Parcs\",\"all/Roads and Transportation | Routes et Transports/Roads Maintenance | Entretien des Routes\",\"all/Water and the Environment | Eau et Environnement/Forestry - Tree Maintenance\",\"all/Recreation and Culture | Loisirs et Culture/Park Maintenance SAP | Entretien des Parcs\",\"all/Roads and Transportation | Routes et Transports/Traffic Operations | Op\\u00e9rations de la Circulation\",\"all/Roads and Transportation | Routes et Transports/Traffic Operations | Op\\u00e9rations de la Circulation\",\"all/Roads and Transportation | Routes et Transports/Traffic Operations | Op\\u00e9rations de la Circulation\",\"all/Roads and Transportation | Routes et Transports/Traffic Operations | Op\\u00e9rations de la Circulation\",\"all/Roads and Transportation | Routes et Transports/Road and Safety Investigations\",\"all/Roads and Transportation | Routes et Transports/Traffic Operations | Op\\u00e9rations de la Circulation\",\"all/Roads and Transportation | Routes et Transports/Traffic Operations | Op\\u00e9rations de la Circulation\",\"all/Roads and Transportation | Routes et Transports/Traffic Operations | Op\\u00e9rations de la Circulation\",\"all/Roads and Transportation | Routes et Transports/Traffic Operations | Op\\u00e9rations de la Circulation\",\"all/Roads and Transportation | Routes et Transports/Traffic Operations | Op\\u00e9rations de la Circulation\",\"all/Roads and Transportation | Routes et Transports/Traffic Operations | Op\\u00e9rations de la Circulation\",\"all/Roads and Transportation | Routes et Transports/Traffic Operations | Op\\u00e9rations de la Circulation\",\"all/Roads and Transportation | Routes et Transports/Traffic Operations | Op\\u00e9rations de la Circulation\",\"all/Roads and Transportation | Routes et Transports/Traffic Operations | Op\\u00e9rations de la Circulation\",\"all/Roads and Transportation | Routes et Transports/Traffic Operations | Op\\u00e9rations de la Circulation\",\"all/Roads and Transportation | Routes et Transports/Traffic Operations | Op\\u00e9rations de la Circulation\",\"all/Roads and Transportation | Routes et Transports/Traffic Operations | Op\\u00e9rations de la Circulation\",\"all/Roads and Transportation | Routes et Transports/Traffic Operations | Op\\u00e9rations de la Circulation\",\"all/Roads and Transportation | Routes et Transports/Traffic Operations | Op\\u00e9rations de la Circulation\",\"all/Roads and Transportation | Routes et Transports/Traffic Operations | Op\\u00e9rations de la Circulation\",\"all/Bylaw Services | Service des R\\u00e8glements Municipaux/Zoning Enforcement\",\"all/Bylaw Services | Service des R\\u00e8glements Municipaux/Taxi\",\"all/Bylaw Services | Service des R\\u00e8glements Municipaux/Smoking\",\"all/Bylaw Services | Service des R\\u00e8glements Municipaux/Licensing\",\"all/Bylaw Services | Service des R\\u00e8glements Municipaux/Care of Streets\",\"all/Garbage and Recycling | D\\u00e9chets et Recyclage/Solid Waste Collection | Collecte des D\\u00e9chets\",\"all/Bylaw Services | Service des R\\u00e8glements Municipaux/Noise\",\"all/Roads and Transportation | Routes et Transports/Parking Permits (CSC) | Permis de Stationnement\",\"all/Roads and Transportation | Routes et Transports/Road and Safety Investigations\",\"all/Roads and Transportation | Routes et Transports/Road and Safety Investigations\",\"all/Roads and Transportation | Routes et Transports/Road and Safety Investigations\",\"all/Water and the Environment | Eau et Environnement/Sewers\",\"all/Water and the Environment | Eau et Environnement/Sewers\",\"all/Water and the Environment | Eau et Environnement/Forestry - Tree Maintenance\",\"all/Recreation and Culture | Loisirs et Culture/Park Maintenance SAP | Entretien des Parcs\",\"all/Bylaw Services | Service des R\\u00e8glements Municipaux/Noise\",\"all/Bylaw Services | Service des R\\u00e8glements Municipaux/Animals\",\"all/Water and the Environment | Eau et Environnement/Forestry - Tree Maintenance\",\"all/Water and the Environment | Eau et Environnement/Drainage\",\"all/Health and Safety | Sant\\u00e9 et S\\u00e9curit\\u00e9/Discarded Needles | Aiguilles Abandonn\\u00e9es\",\"all/Health and Safety | Sant\\u00e9 et S\\u00e9curit\\u00e9/Discarded Needles | Aiguilles Abandonn\\u00e9es\",\"all/Bylaw Services | Service des R\\u00e8glements Municipaux/Property Standards\",\"all/Roads and Transportation | Routes et Transports/Parking Ticket Inquiry | demandes Relatives aux Co\",\"all/Recreation and Culture | Loisirs et Culture/Park Maintenance SAP | Entretien des Parcs\",\"all/Bylaw Services | Service des R\\u00e8glements Municipaux/Smoking\",\"all/Bylaw Services | Service des R\\u00e8glements Municipaux/Smoking\",\"all/Bylaw Services | Service des R\\u00e8glements Municipaux/Smoking\",\"all/Water and the Environment | Eau et Environnement/Forestry - Tree Maintenance\",\"all/Roads and Transportation | Routes et Transports/Parking Ticket Inquiry | demandes Relatives aux Co\",\"all/Roads and Transportation | Routes et Transports/Road and Safety Investigations\",\"all/Water and the Environment | Eau et Environnement/Forestry - Tree Maintenance\",\"all/Water and the Environment | Eau et Environnement/Forestry - Tree Planting\",\"all/Water and the Environment | Eau et Environnement/Forestry - Tree Planting\",\"all/Bylaw Services | Service des R\\u00e8glements Municipaux/Bylaw Services | Service des R\\u00e8glements Municipaux\",\"all/Roads and Transportation | Routes et Transports/Road and Safety Investigations\",\"all/Recreation and Culture | Loisirs et Culture/Park Maintenance SAP | Entretien des Parcs\",\"all/Bylaw Services | Service des R\\u00e8glements Municipaux/Parks\",\"all/Water and the Environment | Eau et Environnement/Forestry - Tree Maintenance\",\"all/Roads and Transportation | Routes et Transports/Parking Ticket Inquiry | demandes Relatives aux Co\",\"all/Social Community Service | Services Sociaux et Com/Graffiti\",\"all/Bylaw Services | Service des R\\u00e8glements Municipaux/Noise\",\"all/Bylaw Services | Service des R\\u00e8glements Municipaux/Parks\",\"all/Roads and Transportation | Routes et Transports/Road and Safety Investigations\",\"all/Roads and Transportation | Routes et Transports/Roads Maintenance | Entretien des Routes\",\"all/Garbage and Recycling | D\\u00e9chets et Recyclage/Solid Waste Collection | Collecte des D\\u00e9chets\",\"all/Recreation and Culture | Loisirs et Culture/Park Maintenance SAP | Entretien des Parcs\",\"all/Recreation and Culture | Loisirs et Culture/Park Maintenance SAP | Entretien des Parcs\",\"all/Recreation and Culture | Loisirs et Culture/Park Maintenance SAP | Entretien des Parcs\",\"all/Recreation and Culture | Loisirs et Culture/Park Maintenance SAP | Entretien des Parcs\",\"all/Recreation and Culture | Loisirs et Culture/Park Maintenance SAP | Entretien des Parcs\",\"all/Water and the Environment | Eau et Environnement/Water Quality\",\"all/Water and the Environment | Eau et Environnement/Water Turn On/Off\",\"all/Water and the Environment | Eau et Environnement/Infrastructure Broken by Contractor\",\"all/Water and the Environment | Eau et Environnement/Infrastructure Broken by Contractor\",\"all/Roads and Transportation | Routes et Transports/Roads Maintenance | Entretien des Routes\",\"all/Bylaw Services | Service des R\\u00e8glements Municipaux/Smoking\",\"all/Roads and Transportation | Routes et Transports/Parking Ticket Inquiry | demandes Relatives aux Co\",\"all/Roads and Transportation | Routes et Transports/Parking Control | Gestion des Stationnements\",\"all/Bylaw Services | Service des R\\u00e8glements Municipaux\",\"all/Bylaw Services | Service des R\\u00e8glements Municipaux\",\"all/Licenses and Permits | Licences et Permis\",\"all/Bylaw Services | Service des R\\u00e8glements Municipaux\",\"all/Bylaw Services | Service des R\\u00e8glements Municipaux\",\"all/Bylaw Services | Service des R\\u00e8glements Municipaux\",\"all/Health and Safety | Sant\\u00e9 et S\\u00e9curit\\u00e9\",\"all/Water and the Environment | Eau et Environnement\",\"all/Bylaw Services | Service des R\\u00e8glements Municipaux\",\"all/Bylaw Services | Service des R\\u00e8glements Municipaux\",\"all/Water and the Environment | Eau et Environnement\",\"all/Licenses and Permits | Licences et Permis\",\"all/Water and the Environment | Eau et Environnement\",\"all/Water and the Environment | Eau et Environnement\",\"all/Water and the Environment | Eau et Environnement\",\"all/Social Community Service | Services Sociaux et Com\",\"all/Health and Safety | Sant\\u00e9 et S\\u00e9curit\\u00e9\",\"all/Water and the Environment | Eau et Environnement\",\"all/Roads and Transportation | Routes et Transports\",\"all/Water and the Environment | Eau et Environnement\",\"all/Bylaw Services | Service des R\\u00e8glements Municipaux\",\"all/Miscellaneous\",\"all/Water and the Environment | Eau et Environnement\",\"all/Bylaw Services | Service des R\\u00e8glements Municipaux\",\"all/Recreation and Culture | Loisirs et Culture\",\"all/Roads and Transportation | Routes et Transports\",\"all/Roads and Transportation | Routes et Transports\",\"all/Roads and Transportation | Routes et Transports\",\"all/Roads and Transportation | Routes et Transports\",\"all/Bylaw Services | Service des R\\u00e8glements Municipaux\",\"all/Licenses and Permits | Licences et Permis\",\"all/Water and the Environment | Eau et Environnement\",\"all/Bylaw Services | Service des R\\u00e8glements Municipaux\",\"all/City Hall | H\\u00f4tel de Ville\",\"all/City Hall | H\\u00f4tel de Ville\",\"all/Garbage and Recycling | D\\u00e9chets et Recyclage\",\"all/Water and the Environment | Eau et Environnement\",\"all/Roads and Transportation | Routes et Transports\",\"all/Roads and Transportation | Routes et Transports\",\"all/Water and the Environment | Eau et Environnement\",\"all/Water and the Environment | Eau et Environnement\",\"all/Bylaw Services | Service des R\\u00e8glements Municipaux\",\"all/Bylaw Services | Service des R\\u00e8glements Municipaux\",\"all/Garbage and Recycling | D\\u00e9chets et Recyclage\",\"all/Bylaw Services | Service des R\\u00e8glements Municipaux\",\"all/Roads and Transportation | Routes et Transports\",\"all/Roads and Transportation | Routes et Transports\",\"all/Roads and Transportation | Routes et Transports\",\"all/Water and the Environment | Eau et Environnement\",\"all/Water and the Environment | Eau et Environnement\",\"all/Water and the Environment | Eau et Environnement\",\"all/Water and the Environment | Eau et Environnement\",\"all/Licenses and Permits | Licences et Permis\",\"all/Bylaw Services | Service des R\\u00e8glements Municipaux\",\"all\",\"all\",\"all\",\"all\",\"all\",\"all\",\"all\",\"all\",\"all\",\"all\",\"\"],\"values\":[9,357,2,2,1,3,19,3,106,12,108,478,378,19,2,19,34,3,21,45,49,7,47,10,2,1,1,2,5,4,2,57,30,2,14,867,1185,1,4,61,93,24,246,389,1,14,39,2,19,411,20,53,70,2,60,31,88,6,128,786,41,1,3,1,23,2,49,24,3,34,252,33,22,44,5,116,148,2,9,21,66,81,2,10,15,1083,785,101,8,6,117,451,93,88,358,5,155,139,80,201,1,155,33,19,19,14,531,67,112,7,32,13,5,1,23,5,77,33,1,13,7,170,28,1,8,1831,224,4,9,22,478,6,5,242,10,66,4,6,3,47,14,35,1,17,36,8,107,23,43,26,29,1,157,14,138,21,3,5,320,28,5,19,42,220,34,17,1,3,339,23,3,48,730,117,39,7,14,36,835,59,4,1,7,18,106,6,334,749,11,8,7,730,10,19,888,5,45,526,33,2,59,3,22,10,6,29,9,175,7,5,9,3203,2,13,73,52,246,1,11,2,124,39,2029,10,12,99,43,13,11,278,2,2,73,14,3,29,46,17,4,11,45,11,51,15,6,9,1,9,155,1,6,26,72,295,4,4,20,53,7,8,1,8,2,2,1,196,115,18,103,8,3,110,44,10,241,79,45,25,10,21,4,902,46,3967,260,19,1,11,9,2,52,1,27,11,249,28,220,570,49,33,11,11,227,90,116,46,160,18,39,113,14,5,61,32,6,29,29,12,37,99,32,18,29,5,69,349,11,5,87,7,11,8,17,51,8,1,80,126,70,4,10,12,8,22,1,2,2,285,13,42,155,32,328,7,2,279,184,40,6,143,1,23,44,11,12,12,5,8,18,27,30,323,4,1,9,4,24,71,5,2167,123,116,350,2,18,83,36,78,3,1,10,2253,481,185,72,151,66,8,150,224,182,1650,1369,5058,3,50,119,264,92,156,2178,10,268,1994,58,532,7021,105,486,91,115,10376,46,4,410,1949,99,26,129,323,33,251,7499,278,12370,90,249,224,1369,15212,185,4553,42029],\"type\":\"treemap\",\"root\":{\"color\":\"lightgrey\"}}],                        {\"template\":{\"data\":{\"histogram2dcontour\":[{\"type\":\"histogram2dcontour\",\"colorbar\":{\"outlinewidth\":0,\"ticks\":\"\"},\"colorscale\":[[0.0,\"#0d0887\"],[0.1111111111111111,\"#46039f\"],[0.2222222222222222,\"#7201a8\"],[0.3333333333333333,\"#9c179e\"],[0.4444444444444444,\"#bd3786\"],[0.5555555555555556,\"#d8576b\"],[0.6666666666666666,\"#ed7953\"],[0.7777777777777778,\"#fb9f3a\"],[0.8888888888888888,\"#fdca26\"],[1.0,\"#f0f921\"]]}],\"choropleth\":[{\"type\":\"choropleth\",\"colorbar\":{\"outlinewidth\":0,\"ticks\":\"\"}}],\"histogram2d\":[{\"type\":\"histogram2d\",\"colorbar\":{\"outlinewidth\":0,\"ticks\":\"\"},\"colorscale\":[[0.0,\"#0d0887\"],[0.1111111111111111,\"#46039f\"],[0.2222222222222222,\"#7201a8\"],[0.3333333333333333,\"#9c179e\"],[0.4444444444444444,\"#bd3786\"],[0.5555555555555556,\"#d8576b\"],[0.6666666666666666,\"#ed7953\"],[0.7777777777777778,\"#fb9f3a\"],[0.8888888888888888,\"#fdca26\"],[1.0,\"#f0f921\"]]}],\"heatmap\":[{\"type\":\"heatmap\",\"colorbar\":{\"outlinewidth\":0,\"ticks\":\"\"},\"colorscale\":[[0.0,\"#0d0887\"],[0.1111111111111111,\"#46039f\"],[0.2222222222222222,\"#7201a8\"],[0.3333333333333333,\"#9c179e\"],[0.4444444444444444,\"#bd3786\"],[0.5555555555555556,\"#d8576b\"],[0.6666666666666666,\"#ed7953\"],[0.7777777777777778,\"#fb9f3a\"],[0.8888888888888888,\"#fdca26\"],[1.0,\"#f0f921\"]]}],\"heatmapgl\":[{\"type\":\"heatmapgl\",\"colorbar\":{\"outlinewidth\":0,\"ticks\":\"\"},\"colorscale\":[[0.0,\"#0d0887\"],[0.1111111111111111,\"#46039f\"],[0.2222222222222222,\"#7201a8\"],[0.3333333333333333,\"#9c179e\"],[0.4444444444444444,\"#bd3786\"],[0.5555555555555556,\"#d8576b\"],[0.6666666666666666,\"#ed7953\"],[0.7777777777777778,\"#fb9f3a\"],[0.8888888888888888,\"#fdca26\"],[1.0,\"#f0f921\"]]}],\"contourcarpet\":[{\"type\":\"contourcarpet\",\"colorbar\":{\"outlinewidth\":0,\"ticks\":\"\"}}],\"contour\":[{\"type\":\"contour\",\"colorbar\":{\"outlinewidth\":0,\"ticks\":\"\"},\"colorscale\":[[0.0,\"#0d0887\"],[0.1111111111111111,\"#46039f\"],[0.2222222222222222,\"#7201a8\"],[0.3333333333333333,\"#9c179e\"],[0.4444444444444444,\"#bd3786\"],[0.5555555555555556,\"#d8576b\"],[0.6666666666666666,\"#ed7953\"],[0.7777777777777778,\"#fb9f3a\"],[0.8888888888888888,\"#fdca26\"],[1.0,\"#f0f921\"]]}],\"surface\":[{\"type\":\"surface\",\"colorbar\":{\"outlinewidth\":0,\"ticks\":\"\"},\"colorscale\":[[0.0,\"#0d0887\"],[0.1111111111111111,\"#46039f\"],[0.2222222222222222,\"#7201a8\"],[0.3333333333333333,\"#9c179e\"],[0.4444444444444444,\"#bd3786\"],[0.5555555555555556,\"#d8576b\"],[0.6666666666666666,\"#ed7953\"],[0.7777777777777778,\"#fb9f3a\"],[0.8888888888888888,\"#fdca26\"],[1.0,\"#f0f921\"]]}],\"mesh3d\":[{\"type\":\"mesh3d\",\"colorbar\":{\"outlinewidth\":0,\"ticks\":\"\"}}],\"scatter\":[{\"fillpattern\":{\"fillmode\":\"overlay\",\"size\":10,\"solidity\":0.2},\"type\":\"scatter\"}],\"parcoords\":[{\"type\":\"parcoords\",\"line\":{\"colorbar\":{\"outlinewidth\":0,\"ticks\":\"\"}}}],\"scatterpolargl\":[{\"type\":\"scatterpolargl\",\"marker\":{\"colorbar\":{\"outlinewidth\":0,\"ticks\":\"\"}}}],\"bar\":[{\"error_x\":{\"color\":\"#2a3f5f\"},\"error_y\":{\"color\":\"#2a3f5f\"},\"marker\":{\"line\":{\"color\":\"#E5ECF6\",\"width\":0.5},\"pattern\":{\"fillmode\":\"overlay\",\"size\":10,\"solidity\":0.2}},\"type\":\"bar\"}],\"scattergeo\":[{\"type\":\"scattergeo\",\"marker\":{\"colorbar\":{\"outlinewidth\":0,\"ticks\":\"\"}}}],\"scatterpolar\":[{\"type\":\"scatterpolar\",\"marker\":{\"colorbar\":{\"outlinewidth\":0,\"ticks\":\"\"}}}],\"histogram\":[{\"marker\":{\"pattern\":{\"fillmode\":\"overlay\",\"size\":10,\"solidity\":0.2}},\"type\":\"histogram\"}],\"scattergl\":[{\"type\":\"scattergl\",\"marker\":{\"colorbar\":{\"outlinewidth\":0,\"ticks\":\"\"}}}],\"scatter3d\":[{\"type\":\"scatter3d\",\"line\":{\"colorbar\":{\"outlinewidth\":0,\"ticks\":\"\"}},\"marker\":{\"colorbar\":{\"outlinewidth\":0,\"ticks\":\"\"}}}],\"scattermapbox\":[{\"type\":\"scattermapbox\",\"marker\":{\"colorbar\":{\"outlinewidth\":0,\"ticks\":\"\"}}}],\"scatterternary\":[{\"type\":\"scatterternary\",\"marker\":{\"colorbar\":{\"outlinewidth\":0,\"ticks\":\"\"}}}],\"scattercarpet\":[{\"type\":\"scattercarpet\",\"marker\":{\"colorbar\":{\"outlinewidth\":0,\"ticks\":\"\"}}}],\"carpet\":[{\"aaxis\":{\"endlinecolor\":\"#2a3f5f\",\"gridcolor\":\"white\",\"linecolor\":\"white\",\"minorgridcolor\":\"white\",\"startlinecolor\":\"#2a3f5f\"},\"baxis\":{\"endlinecolor\":\"#2a3f5f\",\"gridcolor\":\"white\",\"linecolor\":\"white\",\"minorgridcolor\":\"white\",\"startlinecolor\":\"#2a3f5f\"},\"type\":\"carpet\"}],\"table\":[{\"cells\":{\"fill\":{\"color\":\"#EBF0F8\"},\"line\":{\"color\":\"white\"}},\"header\":{\"fill\":{\"color\":\"#C8D4E3\"},\"line\":{\"color\":\"white\"}},\"type\":\"table\"}],\"barpolar\":[{\"marker\":{\"line\":{\"color\":\"#E5ECF6\",\"width\":0.5},\"pattern\":{\"fillmode\":\"overlay\",\"size\":10,\"solidity\":0.2}},\"type\":\"barpolar\"}],\"pie\":[{\"automargin\":true,\"type\":\"pie\"}]},\"layout\":{\"autotypenumbers\":\"strict\",\"colorway\":[\"#636efa\",\"#EF553B\",\"#00cc96\",\"#ab63fa\",\"#FFA15A\",\"#19d3f3\",\"#FF6692\",\"#B6E880\",\"#FF97FF\",\"#FECB52\"],\"font\":{\"color\":\"#2a3f5f\"},\"hovermode\":\"closest\",\"hoverlabel\":{\"align\":\"left\"},\"paper_bgcolor\":\"white\",\"plot_bgcolor\":\"#E5ECF6\",\"polar\":{\"bgcolor\":\"#E5ECF6\",\"angularaxis\":{\"gridcolor\":\"white\",\"linecolor\":\"white\",\"ticks\":\"\"},\"radialaxis\":{\"gridcolor\":\"white\",\"linecolor\":\"white\",\"ticks\":\"\"}},\"ternary\":{\"bgcolor\":\"#E5ECF6\",\"aaxis\":{\"gridcolor\":\"white\",\"linecolor\":\"white\",\"ticks\":\"\"},\"baxis\":{\"gridcolor\":\"white\",\"linecolor\":\"white\",\"ticks\":\"\"},\"caxis\":{\"gridcolor\":\"white\",\"linecolor\":\"white\",\"ticks\":\"\"}},\"coloraxis\":{\"colorbar\":{\"outlinewidth\":0,\"ticks\":\"\"}},\"colorscale\":{\"sequential\":[[0.0,\"#0d0887\"],[0.1111111111111111,\"#46039f\"],[0.2222222222222222,\"#7201a8\"],[0.3333333333333333,\"#9c179e\"],[0.4444444444444444,\"#bd3786\"],[0.5555555555555556,\"#d8576b\"],[0.6666666666666666,\"#ed7953\"],[0.7777777777777778,\"#fb9f3a\"],[0.8888888888888888,\"#fdca26\"],[1.0,\"#f0f921\"]],\"sequentialminus\":[[0.0,\"#0d0887\"],[0.1111111111111111,\"#46039f\"],[0.2222222222222222,\"#7201a8\"],[0.3333333333333333,\"#9c179e\"],[0.4444444444444444,\"#bd3786\"],[0.5555555555555556,\"#d8576b\"],[0.6666666666666666,\"#ed7953\"],[0.7777777777777778,\"#fb9f3a\"],[0.8888888888888888,\"#fdca26\"],[1.0,\"#f0f921\"]],\"diverging\":[[0,\"#8e0152\"],[0.1,\"#c51b7d\"],[0.2,\"#de77ae\"],[0.3,\"#f1b6da\"],[0.4,\"#fde0ef\"],[0.5,\"#f7f7f7\"],[0.6,\"#e6f5d0\"],[0.7,\"#b8e186\"],[0.8,\"#7fbc41\"],[0.9,\"#4d9221\"],[1,\"#276419\"]]},\"xaxis\":{\"gridcolor\":\"white\",\"linecolor\":\"white\",\"ticks\":\"\",\"title\":{\"standoff\":15},\"zerolinecolor\":\"white\",\"automargin\":true,\"zerolinewidth\":2},\"yaxis\":{\"gridcolor\":\"white\",\"linecolor\":\"white\",\"ticks\":\"\",\"title\":{\"standoff\":15},\"zerolinecolor\":\"white\",\"automargin\":true,\"zerolinewidth\":2},\"scene\":{\"xaxis\":{\"backgroundcolor\":\"#E5ECF6\",\"gridcolor\":\"white\",\"linecolor\":\"white\",\"showbackground\":true,\"ticks\":\"\",\"zerolinecolor\":\"white\",\"gridwidth\":2},\"yaxis\":{\"backgroundcolor\":\"#E5ECF6\",\"gridcolor\":\"white\",\"linecolor\":\"white\",\"showbackground\":true,\"ticks\":\"\",\"zerolinecolor\":\"white\",\"gridwidth\":2},\"zaxis\":{\"backgroundcolor\":\"#E5ECF6\",\"gridcolor\":\"white\",\"linecolor\":\"white\",\"showbackground\":true,\"ticks\":\"\",\"zerolinecolor\":\"white\",\"gridwidth\":2}},\"shapedefaults\":{\"line\":{\"color\":\"#2a3f5f\"}},\"annotationdefaults\":{\"arrowcolor\":\"#2a3f5f\",\"arrowhead\":0,\"arrowwidth\":1},\"geo\":{\"bgcolor\":\"white\",\"landcolor\":\"#E5ECF6\",\"subunitcolor\":\"white\",\"showland\":true,\"showlakes\":true,\"lakecolor\":\"white\"},\"title\":{\"x\":0.05},\"mapbox\":{\"style\":\"light\"}}},\"legend\":{\"tracegroupgap\":0},\"margin\":{\"t\":50,\"l\":25,\"r\":25,\"b\":25}},                        {\"responsive\": true}                    ).then(function(){\n",
       "                            \n",
       "var gd = document.getElementById('4cfd0bc6-e99c-4cc7-96cf-a85be8ae138a');\n",
       "var x = new MutationObserver(function (mutations, observer) {{\n",
       "        var display = window.getComputedStyle(gd).display;\n",
       "        if (!display || display === 'none') {{\n",
       "            console.log([gd, 'removed!']);\n",
       "            Plotly.purge(gd);\n",
       "            observer.disconnect();\n",
       "        }}\n",
       "}});\n",
       "\n",
       "// Listen for the removal of the full notebook cells\n",
       "var notebookContainer = gd.closest('#notebook-container');\n",
       "if (notebookContainer) {{\n",
       "    x.observe(notebookContainer, {childList: true});\n",
       "}}\n",
       "\n",
       "// Listen for the clearing of the current output cell\n",
       "var outputEl = gd.closest('.output');\n",
       "if (outputEl) {{\n",
       "    x.observe(outputEl, {childList: true});\n",
       "}}\n",
       "\n",
       "                        })                };                });            </script>        </div>"
      ]
     },
     "metadata": {},
     "output_type": "display_data"
    }
   ],
   "source": [
    "\n",
    "data = df[(df['ward']=='BAY')].groupby(['subject','reason','type'], as_index=False)['index'].count()\n",
    "fig = px.treemap(data, path=[px.Constant(\"all\"), 'subject', 'reason','type'], values='index')\n",
    "fig.update_traces(root_color=\"lightgrey\")\n",
    "fig.update_layout(margin = dict(t=50, l=25, r=25, b=25))\n",
    "fig.show()"
   ]
  },
  {
   "cell_type": "code",
   "execution_count": null,
   "id": "25528f55-661e-4acb-90f8-4b43144348bf",
   "metadata": {},
   "outputs": [],
   "source": []
  }
 ],
 "metadata": {
  "kernelspec": {
   "display_name": "Python 3 (ipykernel)",
   "language": "python",
   "name": "python3"
  },
  "language_info": {
   "codemirror_mode": {
    "name": "ipython",
    "version": 3
   },
   "file_extension": ".py",
   "mimetype": "text/x-python",
   "name": "python",
   "nbconvert_exporter": "python",
   "pygments_lexer": "ipython3",
   "version": "3.8.8"
  }
 },
 "nbformat": 4,
 "nbformat_minor": 5
}
